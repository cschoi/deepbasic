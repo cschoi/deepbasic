{
 "cells": [
  {
   "cell_type": "code",
   "execution_count": 1,
   "metadata": {
    "collapsed": false
   },
   "outputs": [
    {
     "name": "stdout",
     "output_type": "stream",
     "text": [
      "WARNING:tensorflow:From <ipython-input-1-0a63f6b6dd3b>:28 in <module>.: initialize_all_variables (from tensorflow.python.ops.variables) is deprecated and will be removed after 2017-03-02.\n",
      "Instructions for updating:\n",
      "Use `tf.global_variables_initializer` instead.\n",
      "[2 1 3 3] ['l', 'e', 'o', 'o'] 5.52686\n",
      "[1 2 2 3] ['e', 'l', 'l', 'o'] 2.45645\n",
      "[1 2 2 3] ['e', 'l', 'l', 'o'] 2.18083\n",
      "[1 2 2 3] ['e', 'l', 'l', 'o'] 2.12414\n",
      "[1 2 2 3] ['e', 'l', 'l', 'o'] 2.09451\n",
      "[1 2 2 3] ['e', 'l', 'l', 'o'] 2.0756\n"
     ]
    }
   ],
   "source": [
    "import tensorflow as tf\n",
    "import numpy as np\n",
    "\n",
    "char_rdic = ['h', 'e', 'l', 'o']\n",
    "char_dic = {w: i for i, w in enumerate(char_rdic)}\n",
    "ground_truth = [char_dic[c] for c in 'hello']\n",
    "x_data = tf.one_hot(ground_truth[:-1], len(char_dic))\n",
    "\n",
    "rnn_size = len(char_dic)\n",
    "batch_size = 1\n",
    "#rnn_cell = tf.nn.rnn_cell.BasicRNNCell(num_units = rnn_size)\n",
    "rnn_cell = tf.nn.rnn_cell.BasicLSTMCell(num_units = rnn_size)\n",
    "initial_state = rnn_cell.zero_state(batch_size, tf.float32)\n",
    "\n",
    "x_split = tf.split(0, len(char_dic), x_data)\n",
    "outputs, state = tf.nn.rnn(cell = rnn_cell, inputs = x_split, initial_state = initial_state)\n",
    "\n",
    "logits = tf.reshape(tf.concat(1, outputs), [-1, rnn_size])\n",
    "targets = tf.reshape(ground_truth[1:], [-1])\n",
    "weights = tf.ones([len(char_dic) * batch_size])\n",
    "\n",
    "loss = tf.nn.seq2seq.sequence_loss_by_example([logits], [targets], [weights])\n",
    "cost = tf.reduce_sum(loss) / batch_size\n",
    "train_op = tf.train.RMSPropOptimizer(0.01, 0.9).minimize(cost)\n",
    "#train_op = tf.train.GradientDescentOptimizer(0.01).minimize(cost)\n",
    "\n",
    "with tf.Session() as sess:\n",
    "    tf.initialize_all_variables().run()\n",
    "    for i in range(1001):\n",
    "        sess.run(train_op)\n",
    "        result = sess.run(tf.argmax(logits, 1))\n",
    "        if i % 200 == 0:\n",
    "            print(result, [char_rdic[t] for t in result], sess.run(cost))"
   ]
  },
  {
   "cell_type": "code",
   "execution_count": null,
   "metadata": {
    "collapsed": true
   },
   "outputs": [],
   "source": []
  }
 ],
 "metadata": {
  "anaconda-cloud": {},
  "kernelspec": {
   "display_name": "Python [default]",
   "language": "python",
   "name": "python3"
  },
  "language_info": {
   "codemirror_mode": {
    "name": "ipython",
    "version": 3
   },
   "file_extension": ".py",
   "mimetype": "text/x-python",
   "name": "python",
   "nbconvert_exporter": "python",
   "pygments_lexer": "ipython3",
   "version": "3.5.2"
  }
 },
 "nbformat": 4,
 "nbformat_minor": 1
}
