{
 "cells": [
  {
   "cell_type": "markdown",
   "metadata": {},
   "source": [
    "# 처음 시작하는 파이썬, 나영근\n",
    "\n",
    "\n",
    "\n",
    "# 5. 파이 포장하기: 모듈, 패키지, 프로그램\n",
    "\n",
    "\n",
    "## 5.1 스탠드얼론 프로그램\n",
    "\n",
    "test1.py 파일을 생성하고 다음 파이썬 코드를 입력하고 `python3 test1.py`를 실행하면 다음과 같은 결과가 출력된다."
   ]
  },
  {
   "cell_type": "code",
   "execution_count": 2,
   "metadata": {
    "collapsed": false
   },
   "outputs": [
    {
     "name": "stdout",
     "output_type": "stream",
     "text": [
      "This standalone program works!\n"
     ]
    }
   ],
   "source": [
    "print(\"This standalone program works!\")"
   ]
  },
  {
   "cell_type": "markdown",
   "metadata": {},
   "source": [
    "## 5.2 커맨드 라인 인자\n",
    "\n",
    "다음 코드를 입력한다."
   ]
  },
  {
   "cell_type": "code",
   "execution_count": 4,
   "metadata": {
    "collapsed": false
   },
   "outputs": [
    {
     "name": "stdout",
     "output_type": "stream",
     "text": [
      "Program arguments ['/usr/local/lib/python3.5/dist-packages/ipykernel/__main__.py', '-f', '/run/user/1000/jupyter/kernel-9c38ac61-6bb1-464a-8b91-e97c2f8a9dce.json']\n"
     ]
    }
   ],
   "source": [
    "import sys\n",
    "print('Program arguments', sys.argv)\n",
    "\n",
    "# $ python test2.py\n",
    "# Program arguments ['test2.py']\n",
    "\n",
    "# $ python test2.py tra la la\n",
    "# Program arguments ['test2.py', 'tra', 'la', 'la']"
   ]
  },
  {
   "cell_type": "markdown",
   "metadata": {},
   "source": [
    "## 5.3 모듈과 import 문\n",
    "\n",
    "모듈은 파이썬 코드의 파일을 의미한다(`*.py`)\n",
    "\n",
    "### 5.3.1 모듈 임포트하기\n",
    "\n",
    "`report.py`가 아래처럼 작성되었다고 가정하였을 때\n",
    "\n",
    "``` py\n",
    "def get_description():\n",
    "    from random import choice\n",
    "    possibilities = ['rain', 'snow', 'fog', 'sun']\n",
    "    return choice(possibilities)\n",
    "```\n",
    "\n",
    "메인 프로그램(`weatherman.py`)에서 import해서 포함되어 있는 함수에 접근할 수 있다.\n",
    "\n",
    "``` py\n",
    "import report\n",
    "\n",
    "description = report.get_description()\n",
    "print(\"Today's weather: \", description)\n",
    "```\n",
    "\n",
    "``` sh\n",
    "$ python weatherman.py\n",
    "Today's weather: sun\n",
    "$ python weatherman.py\n",
    "Today's weather: rain\n",
    "$ python weatherman.py\n",
    "Today's weather: fog\n",
    "```\n",
    "\n",
    "아래 방식 모두 위와 동일하게 동작한다.\n",
    "\n",
    "``` py\n",
    "def get_description():\n",
    "    import random\n",
    "    possibilities = ['rain', 'snow', 'fog', 'sun']\n",
    "    return random.choice(possibilities)\n",
    "```\n",
    "\n",
    "``` py\n",
    "import random\n",
    "def get_description():\n",
    "    possibilities = ['rain', 'snow', 'fog', 'sun']\n",
    "    return random.choice(possibilities)\n",
    "```"
   ]
  },
  {
   "cell_type": "markdown",
   "metadata": {},
   "source": [
    "### 5.3.2 다른 이름으로 모듈 임포트하기\n",
    "\n",
    "``` py\n",
    "import report as wr # alias해서 사용할 수 있다.\n",
    "description = wr.get_description()\n",
    "print(\"Today's weather: \", description)\n",
    "```"
   ]
  },
  {
   "cell_type": "markdown",
   "metadata": {},
   "source": [
    "### 5.3.3 필요한 모듈만 임포트하기\n",
    "\n",
    "```py\n",
    "from report import get_description as do_it\n",
    "\n",
    "description = do_it()\n",
    "print(\"Today's weather: \", description)\n",
    "```"
   ]
  },
  {
   "cell_type": "markdown",
   "metadata": {},
   "source": [
    "### 5.3.4 모듈 검색 경로\n",
    "\n",
    "python은 `sys.path`에 있는 순서대로 모듈을 검색한다."
   ]
  },
  {
   "cell_type": "code",
   "execution_count": 5,
   "metadata": {
    "collapsed": false
   },
   "outputs": [
    {
     "name": "stdout",
     "output_type": "stream",
     "text": [
      "\n",
      "/usr/lib/python35.zip\n",
      "/usr/lib/python3.5\n",
      "/usr/lib/python3.5/plat-x86_64-linux-gnu\n",
      "/usr/lib/python3.5/lib-dynload\n",
      "/usr/local/lib/python3.5/dist-packages\n",
      "/usr/lib/python3/dist-packages\n",
      "/usr/local/lib/python3.5/dist-packages/IPython/extensions\n",
      "/home/amazingguni/.ipython\n"
     ]
    }
   ],
   "source": [
    "import sys\n",
    "for place in sys.path:\n",
    "    print(place)"
   ]
  },
  {
   "cell_type": "markdown",
   "metadata": {},
   "source": [
    "# 5.4 패키지\n",
    "\n",
    "python에서는 `__init__.py`파일이 있는 디렉토리를 패키지로 간주한다.\n",
    "\n",
    "> `__init__.py`는 비어 있어도 상관 없다.\n",
    "\n",
    "아래 디렉토리 구조로 구성된 프로젝트가 있을 때\n",
    "\n",
    "```\n",
    "boxes/weather.py\n",
    "boxes/source/__init__.py\n",
    "boxes/source/daily.py\n",
    "boxes/source/weekly.py\n",
    "```\n",
    "\n",
    "boxes/source/daily.py\n",
    "\n",
    "``` py\n",
    "def forecast():\n",
    "    return 'like yesterday'\n",
    "```\n",
    "\n",
    "boxes/source/weekly.py\n",
    "\n",
    "``` py\n",
    "def forecast():\n",
    "    return ['snow', 'more', 'snow', 'more', 'snow', 'more', 'sunny']\n",
    "```\n",
    "\n",
    "boxes/weather.py\n",
    "\n",
    "``` py\n",
    "from sources import daily, weekly\n",
    "\n",
    "print(\"Daily forecast: \", daily.forecast())\n",
    "print(\"Weekly forecast: \", weekly.forecast())\n",
    "```\n",
    "\n",
    "실행하면 예상대로 결과가 출력된다.\n",
    "\n",
    "```sh\n",
    "$ python weather.py\n",
    "Daily forcast: like yesterday\n",
    "Weekly forecase: ['snow', 'more', 'snow', 'more', 'snow', 'more', 'sunny']\n",
    "```"
   ]
  },
  {
   "cell_type": "markdown",
   "metadata": {},
   "source": [
    "# 5.5 파이썬 표준 라이브러리\n",
    "\n",
    "## 5.5.1 누락된 키 처리하기: setdefault(), defaultdict()\n"
   ]
  },
  {
   "cell_type": "code",
   "execution_count": 9,
   "metadata": {
    "collapsed": false
   },
   "outputs": [
    {
     "name": "stdout",
     "output_type": "stream",
     "text": [
      "{'b': 2, 'a': 1}\n",
      "{'c': 12, 'b': 2, 'a': 1}\n",
      "{'c': 12, 'b': 2, 'a': 1}\n"
     ]
    }
   ],
   "source": [
    "periodic_table = {'a' : 1, 'b' : 2}\n",
    "print(periodic_table)\n",
    "\n",
    "periodic_table.setdefault('c', 12)\n",
    "print(periodic_table)\n",
    "\n",
    "periodic_table.setdefault('c', 5)\n",
    "print(periodic_table)"
   ]
  },
  {
   "cell_type": "code",
   "execution_count": 11,
   "metadata": {
    "collapsed": false
   },
   "outputs": [
    {
     "name": "stdout",
     "output_type": "stream",
     "text": [
      "2\n",
      "0\n"
     ]
    }
   ],
   "source": [
    "from collections import defaultdict\n",
    "\n",
    "periodic_table = defaultdict(int)\n",
    "periodic_table['a'] = 2\n",
    "print(periodic_table['a'])\n",
    "print(periodic_table['key'])"
   ]
  },
  {
   "cell_type": "code",
   "execution_count": 12,
   "metadata": {
    "collapsed": false
   },
   "outputs": [
    {
     "name": "stdout",
     "output_type": "stream",
     "text": [
      "Sam\n",
      "Huh?\n"
     ]
    }
   ],
   "source": [
    "from collections import defaultdict\n",
    "\n",
    "def no_idea():\n",
    "    return 'Huh?'\n",
    "\n",
    "periodic_table = defaultdict(no_idea)\n",
    "periodic_table['a'] = \"Sam\"\n",
    "print(periodic_table['a'])\n",
    "print(periodic_table['key'])"
   ]
  },
  {
   "cell_type": "markdown",
   "metadata": {},
   "source": [
    "### 5.5.2 항목 세기: Counter()"
   ]
  },
  {
   "cell_type": "code",
   "execution_count": 18,
   "metadata": {
    "collapsed": false
   },
   "outputs": [
    {
     "name": "stdout",
     "output_type": "stream",
     "text": [
      "> breakfast_counter\n",
      "Counter({'spam': 3, 'milk': 2, 'eggs': 1})\n",
      "> breakfast_counter.most_common()\n",
      "[('spam', 3), ('milk', 2), ('eggs', 1)]\n",
      "> breakfast_counter.most_common(1)\n",
      "[('spam', 3)]\n",
      "> lunch_counter\n",
      "Counter({'spam': 1, 'eggs': 1, 'milk': 1})\n",
      "> breakfast_counter + lunch_counter\n",
      "Counter({'spam': 4, 'milk': 3, 'eggs': 2})\n",
      "> breakfast_counter - lunch_counter\n",
      "Counter({'spam': 2, 'milk': 1})\n",
      "> breakfast_counter & lunch_counter\n",
      "Counter({'spam': 1, 'eggs': 1, 'milk': 1})\n"
     ]
    }
   ],
   "source": [
    "from collections import Counter\n",
    "breakfast = ['spam', 'spam', 'eggs', 'spam', 'milk', 'milk']\n",
    "breakfast_counter = Counter(breakfast)\n",
    "print(\"> breakfast_counter\")\n",
    "print(breakfast_counter)\n",
    "\n",
    "print(\"> breakfast_counter.most_common()\")\n",
    "print(breakfast_counter.most_common())\n",
    "print(\"> breakfast_counter.most_common(1)\")\n",
    "print(breakfast_counter.most_common(1))\n",
    "\n",
    "lunch = ['spam', 'milk', 'eggs']\n",
    "lunch_counter = Counter(lunch)\n",
    "print(\"> lunch_counter\")\n",
    "print(lunch_counter)\n",
    "\n",
    "print(\"> breakfast_counter + lunch_counter\")\n",
    "print(breakfast_counter + lunch_counter)\n",
    "\n",
    "print(\"> breakfast_counter - lunch_counter\")\n",
    "print(breakfast_counter - lunch_counter)\n",
    "\n",
    "print(\"> breakfast_counter & lunch_counter\")\n",
    "print(breakfast_counter & lunch_counter)"
   ]
  },
  {
   "cell_type": "markdown",
   "metadata": {},
   "source": [
    "### 5.5.3 키 정렬하기: OrderedDict()\n",
    "\n",
    "딕셔너리는 키 순서를 예측할 수 없지만 OrderedDict는 순서를 기억하고 이터레이터로부터 순서대로 키 값을 반환한다.\n"
   ]
  },
  {
   "cell_type": "code",
   "execution_count": 19,
   "metadata": {
    "collapsed": false
   },
   "outputs": [
    {
     "name": "stdout",
     "output_type": "stream",
     "text": [
      "Moe\n",
      "Larry\n",
      "Curly\n"
     ]
    }
   ],
   "source": [
    "from collections import OrderedDict\n",
    "quotes = OrderedDict([\n",
    "        ('Moe', 'A wise guy, huh?'),\n",
    "        ('Larry', 'Ow!'),\n",
    "        ('Curly', 'Nyuk nyuk!'),\n",
    "    ])\n",
    "\n",
    "for stooge in quotes:\n",
    "    print(stooge)"
   ]
  },
  {
   "cell_type": "code",
   "execution_count": 20,
   "metadata": {
    "collapsed": false
   },
   "outputs": [
    {
     "name": "stdout",
     "output_type": "stream",
     "text": [
      "Curly\n",
      "Moe\n",
      "Larry\n"
     ]
    }
   ],
   "source": [
    "from collections import OrderedDict\n",
    "quotes = {\n",
    "        'Moe': 'A wise guy, huh?',\n",
    "        'Larry': 'Ow!',\n",
    "        'Curly': 'Nyuk nyuk!',\n",
    "    }\n",
    "\n",
    "for stooge in quotes:\n",
    "    print(stooge)"
   ]
  },
  {
   "cell_type": "markdown",
   "metadata": {},
   "source": [
    "### 5.5.4 스택 + 큐 == 데크\n",
    "\n",
    "Deque는 스택과 큐의 기능을 모두 가진 출입구가 양 끝에 있는 큐이다.\n",
    "\n",
    "### 5.5.5 코드 구조 순회하기: itertools\n",
    "\n",
    "itertools는 특수 목적의 이터레이터 함수를 포함하고 있다.\n",
    "\n",
    "### 5.5.6 깔끔하게 출력하기: pprint"
   ]
  },
  {
   "cell_type": "code",
   "execution_count": 21,
   "metadata": {
    "collapsed": false
   },
   "outputs": [
    {
     "name": "stdout",
     "output_type": "stream",
     "text": [
      "OrderedDict([('Moe', 'A wise guy, huh?'), ('Larry', 'Ow!'), ('Curly', 'Nyuk nyuk!')])\n",
      "\n",
      "OrderedDict([('Moe', 'A wise guy, huh?'),\n",
      "             ('Larry', 'Ow!'),\n",
      "             ('Curly', 'Nyuk nyuk!')])\n"
     ]
    }
   ],
   "source": [
    "from pprint import pprint\n",
    "\n",
    "from collections import OrderedDict\n",
    "quotes = OrderedDict([\n",
    "        ('Moe', 'A wise guy, huh?'),\n",
    "        ('Larry', 'Ow!'),\n",
    "        ('Curly', 'Nyuk nyuk!'),\n",
    "    ])\n",
    "\n",
    "print(quotes)\n",
    "\n",
    "print()\n",
    "\n",
    "pprint(quotes)\n"
   ]
  },
  {
   "cell_type": "code",
   "execution_count": null,
   "metadata": {
    "collapsed": true
   },
   "outputs": [],
   "source": []
  }
 ],
 "metadata": {
  "kernelspec": {
   "display_name": "Python 3",
   "language": "python",
   "name": "python3"
  },
  "language_info": {
   "codemirror_mode": {
    "name": "ipython",
    "version": 3
   },
   "file_extension": ".py",
   "mimetype": "text/x-python",
   "name": "python",
   "nbconvert_exporter": "python",
   "pygments_lexer": "ipython3",
   "version": "3.5.2"
  }
 },
 "nbformat": 4,
 "nbformat_minor": 1
}
