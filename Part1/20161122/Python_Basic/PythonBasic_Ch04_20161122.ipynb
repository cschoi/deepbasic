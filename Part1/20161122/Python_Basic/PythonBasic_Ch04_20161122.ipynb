{
 "cells": [
  {
   "cell_type": "markdown",
   "metadata": {
    "collapsed": true
   },
   "source": [
    "#  Chapter 4. 파이  크러스트 :  코드구조"
   ]
  },
  {
   "cell_type": "markdown",
   "metadata": {},
   "source": [
    "##  1)  코멘트 달기"
   ]
  },
  {
   "cell_type": "code",
   "execution_count": 2,
   "metadata": {
    "collapsed": false
   },
   "outputs": [
    {
     "name": "stdout",
     "output_type": "stream",
     "text": [
      "Hello\n"
     ]
    }
   ],
   "source": [
    "#  \"#\"을 입력하면  코멘트.\n",
    "print(\"Hello\")\n",
    "# print(\"World\")"
   ]
  },
  {
   "cell_type": "markdown",
   "metadata": {},
   "source": [
    "## 2) 비교하기 (if, elif, else)"
   ]
  },
  {
   "cell_type": "code",
   "execution_count": 3,
   "metadata": {
    "collapsed": false
   },
   "outputs": [
    {
     "name": "stdout",
     "output_type": "stream",
     "text": [
      "Choose color : red\n",
      "It's a tomato\n"
     ]
    }
   ],
   "source": [
    "color = input(\"Choose color : \")\n",
    "\n",
    "if color == \"red\":\n",
    "    print(\"It's a tomato\")\n",
    "elif color == \"green\":\n",
    "    print(\"It's a green pepper\")\n",
    "elif color == \"bee purple\":\n",
    "    print(\"Hm.. I don't know\")\n",
    "else:\n",
    "    print(\"I've never heard of \", color)"
   ]
  },
  {
   "cell_type": "markdown",
   "metadata": {},
   "source": [
    "#### True, False  형태의 조건문일 경우"
   ]
  },
  {
   "cell_type": "markdown",
   "metadata": {},
   "source": [
    "-  False로 간주되는 요소 :  0,  0.0,  '  ',  [],  {},  (),  set()"
   ]
  },
  {
   "cell_type": "code",
   "execution_count": 4,
   "metadata": {
    "collapsed": false
   },
   "outputs": [
    {
     "name": "stdout",
     "output_type": "stream",
     "text": [
      "It's empty\n"
     ]
    }
   ],
   "source": [
    "some_list = []\n",
    "\n",
    "if some_list:\n",
    "    print(\"There's something in here\")\n",
    "else:\n",
    "    print(\"It's empty\")"
   ]
  },
  {
   "cell_type": "markdown",
   "metadata": {},
   "source": [
    "##  3)  반복문"
   ]
  },
  {
   "cell_type": "markdown",
   "metadata": {},
   "source": [
    "#### while문"
   ]
  },
  {
   "cell_type": "code",
   "execution_count": 14,
   "metadata": {
    "collapsed": false
   },
   "outputs": [
    {
     "name": "stdout",
     "output_type": "stream",
     "text": [
      "Integer, please [q or quit]: 2\n"
     ]
    }
   ],
   "source": [
    "while True:\n",
    "    value = input(\"Integer, please [q or quit]: \")\n",
    "    if value == 'q' or 'quit':\n",
    "        break\n",
    "    elif int(value) % 2 == 0:\n",
    "        continue\n",
    "    print(int(value), 'squared is', int(value) * int(value))"
   ]
  },
  {
   "cell_type": "code",
   "execution_count": 13,
   "metadata": {
    "collapsed": false
   },
   "outputs": [
    {
     "name": "stdout",
     "output_type": "stream",
     "text": [
      "1\n",
      "2\n",
      "3\n",
      "4\n",
      "5\n"
     ]
    }
   ],
   "source": [
    "count = 1\n",
    "while count <=5:\n",
    "    print(count)\n",
    "    count += 1"
   ]
  },
  {
   "cell_type": "markdown",
   "metadata": {},
   "source": [
    "#### for문"
   ]
  },
  {
   "cell_type": "code",
   "execution_count": 15,
   "metadata": {
    "collapsed": false
   },
   "outputs": [
    {
     "name": "stdout",
     "output_type": "stream",
     "text": [
      "a\n",
      "b\n",
      "c\n",
      "d\n"
     ]
    }
   ],
   "source": [
    "letters = [\"a\", \"b\", \"c\", \"d\"]\n",
    "\n",
    "for letter in letters:\n",
    "    print(letter)"
   ]
  },
  {
   "cell_type": "code",
   "execution_count": 16,
   "metadata": {
    "collapsed": false
   },
   "outputs": [
    {
     "name": "stdout",
     "output_type": "stream",
     "text": [
      "A\n",
      "D\n",
      "B\n",
      "C\n"
     ]
    }
   ],
   "source": [
    "UppertoLower = {\"A\" : \"a\", \"B\" : \"b\", \"C\" : \"c\", \"D\" : \"d\"}\n",
    "\n",
    "# 일반적으로 key만 반환\n",
    "for char in UppertoLower:\n",
    "    print(char)"
   ]
  },
  {
   "cell_type": "code",
   "execution_count": 19,
   "metadata": {
    "collapsed": false
   },
   "outputs": [
    {
     "name": "stdout",
     "output_type": "stream",
     "text": [
      "('A', 'a')\n",
      "('D', 'd')\n",
      "('B', 'b')\n",
      "('C', 'c')\n"
     ]
    }
   ],
   "source": [
    "# .items() 사용으로 튜플 타입의 (key, value) 출력\n",
    "for item in UppertoLower.items():\n",
    "    print(item)"
   ]
  },
  {
   "cell_type": "code",
   "execution_count": 21,
   "metadata": {
    "collapsed": false
   },
   "outputs": [
    {
     "name": "stdout",
     "output_type": "stream",
     "text": [
      "A to a\n",
      "D to d\n",
      "B to b\n",
      "C to c\n"
     ]
    }
   ],
   "source": [
    "for upper, lower in UppertoLower.items():\n",
    "    print(upper, \"to\", lower)"
   ]
  },
  {
   "cell_type": "markdown",
   "metadata": {},
   "source": [
    "## 4) 컴프리헨션"
   ]
  },
  {
   "cell_type": "markdown",
   "metadata": {},
   "source": [
    "####  리스트 컴프리헨션"
   ]
  },
  {
   "cell_type": "code",
   "execution_count": 22,
   "metadata": {
    "collapsed": false
   },
   "outputs": [
    {
     "name": "stdout",
     "output_type": "stream",
     "text": [
      "[1, 2, 3, 4, 5]\n"
     ]
    }
   ],
   "source": [
    "number_list = []\n",
    "for number in range(1, 6):\n",
    "    number_list.append(number)\n",
    "\n",
    "print(number_list)"
   ]
  },
  {
   "cell_type": "code",
   "execution_count": 26,
   "metadata": {
    "collapsed": false
   },
   "outputs": [
    {
     "name": "stdout",
     "output_type": "stream",
     "text": [
      "[1, 2, 3, 4, 5]\n"
     ]
    }
   ],
   "source": [
    "number_list = [num for num in range(1, 6)]\n",
    "print(number_list)"
   ]
  },
  {
   "cell_type": "code",
   "execution_count": 27,
   "metadata": {
    "collapsed": false
   },
   "outputs": [
    {
     "name": "stdout",
     "output_type": "stream",
     "text": [
      "[1, 3, 5]\n"
     ]
    }
   ],
   "source": [
    "a_list = [num for num in range(1, 6) if num % 2 == 1]\n",
    "print(a_list)"
   ]
  },
  {
   "cell_type": "markdown",
   "metadata": {},
   "source": [
    "####  딕셔너리 컴프리헨션"
   ]
  },
  {
   "cell_type": "code",
   "execution_count": 28,
   "metadata": {
    "collapsed": false
   },
   "outputs": [
    {
     "name": "stdout",
     "output_type": "stream",
     "text": [
      "{'s': 1, 't': 2, 'l': 1, 'e': 2, 'r': 1}\n"
     ]
    }
   ],
   "source": [
    "word = \"letters\"\n",
    "letter_count = {letter: word.count(letter) for letter in word}\n",
    "print(letter_count)"
   ]
  },
  {
   "cell_type": "markdown",
   "metadata": {},
   "source": [
    "#### 제너레이터 컴프리헨션 (튜플)"
   ]
  },
  {
   "cell_type": "code",
   "execution_count": 34,
   "metadata": {
    "collapsed": false
   },
   "outputs": [
    {
     "data": {
      "text/plain": [
       "<generator object <genexpr> at 0x1056e3410>"
      ]
     },
     "execution_count": 34,
     "metadata": {},
     "output_type": "execute_result"
    }
   ],
   "source": [
    "number_thing = (num for num in range(1, 6))\n",
    "number_thing"
   ]
  },
  {
   "cell_type": "code",
   "execution_count": 35,
   "metadata": {
    "collapsed": false
   },
   "outputs": [
    {
     "data": {
      "text/plain": [
       "[1, 2, 3, 4, 5]"
      ]
     },
     "execution_count": 35,
     "metadata": {},
     "output_type": "execute_result"
    }
   ],
   "source": [
    "list(number_thing)"
   ]
  },
  {
   "cell_type": "markdown",
   "metadata": {},
   "source": [
    "## 5) 함수"
   ]
  },
  {
   "cell_type": "code",
   "execution_count": 36,
   "metadata": {
    "collapsed": true
   },
   "outputs": [],
   "source": [
    "#  1. 정의,  호출(return), 인자,  매개변수\n",
    "\n",
    "def menu(wine, entree, dessert):\n",
    "    return {'wine' : wine, 'entree' : entree, 'dessert' : dessert}"
   ]
  },
  {
   "cell_type": "code",
   "execution_count": 37,
   "metadata": {
    "collapsed": false
   },
   "outputs": [
    {
     "data": {
      "text/plain": [
       "{'dessert': 'cake', 'entree': 'chicken', 'wine': 'chardonnay'}"
      ]
     },
     "execution_count": 37,
     "metadata": {},
     "output_type": "execute_result"
    }
   ],
   "source": [
    "#  2. 위치  인자 :  같은 위치\n",
    "\n",
    "menu('chardonnay', 'chicken', 'cake')"
   ]
  },
  {
   "cell_type": "code",
   "execution_count": 40,
   "metadata": {
    "collapsed": false
   },
   "outputs": [
    {
     "data": {
      "text/plain": [
       "{'dessert': 'bagel', 'entree': 'beef', 'wine': 'bordeaux'}"
      ]
     },
     "execution_count": 40,
     "metadata": {},
     "output_type": "execute_result"
    }
   ],
   "source": [
    "#  3. 키워드 인자\n",
    "\n",
    "menu(entree = 'beef', dessert = 'bagel', wine = 'bordeaux')"
   ]
  },
  {
   "cell_type": "code",
   "execution_count": 41,
   "metadata": {
    "collapsed": true
   },
   "outputs": [],
   "source": [
    "#  4. default  지정\n",
    "\n",
    "def menu(wine, entree, dessert='pudding'):\n",
    "    return {'wine' : wine, 'entree' : entree, 'dessert' : dessert}"
   ]
  },
  {
   "cell_type": "code",
   "execution_count": 42,
   "metadata": {
    "collapsed": false
   },
   "outputs": [
    {
     "data": {
      "text/plain": [
       "{'dessert': 'pudding', 'entree': 'chicken', 'wine': 'chardonnay'}"
      ]
     },
     "execution_count": 42,
     "metadata": {},
     "output_type": "execute_result"
    }
   ],
   "source": [
    "menu('chardonnay', 'chicken')"
   ]
  },
  {
   "cell_type": "code",
   "execution_count": 43,
   "metadata": {
    "collapsed": true
   },
   "outputs": [],
   "source": [
    "# 5. Asterisk (*) \n",
    "## asterisk  사용시,  해당 위치의 인자들을 모아서 튜플로 반환\n",
    "\n",
    "def print_more(required1, required2, *args):\n",
    "    print('Need this one: ', required1)\n",
    "    print('Need this one too: ', required2)\n",
    "    print('All the rest: ', args)"
   ]
  },
  {
   "cell_type": "code",
   "execution_count": 44,
   "metadata": {
    "collapsed": false
   },
   "outputs": [
    {
     "name": "stdout",
     "output_type": "stream",
     "text": [
      "Need this one:  cap\n",
      "Need this one too:  glove\n",
      "All the rest:  ('scarf', 'monocle', 'mustache wax')\n"
     ]
    }
   ],
   "source": [
    "print_more('cap', 'glove', 'scarf', 'monocle', 'mustache wax')"
   ]
  },
  {
   "cell_type": "code",
   "execution_count": 48,
   "metadata": {
    "collapsed": true
   },
   "outputs": [],
   "source": [
    "# 6. 키워드 인자 모으기 (key argument, **)\n",
    "## 키워드 인자를 딕셔너리로 반환\n",
    "\n",
    "def menu2(**kwargs):\n",
    "    print('Keyword arguments: ', kwargs)"
   ]
  },
  {
   "cell_type": "code",
   "execution_count": 49,
   "metadata": {
    "collapsed": false
   },
   "outputs": [
    {
     "name": "stdout",
     "output_type": "stream",
     "text": [
      "Keyword arguments:  {'wine': 'merlot', 'dessert': 'macaroon', 'entree': 'mutton'}\n"
     ]
    }
   ],
   "source": [
    "menu2(wine = 'merlot', entree = 'mutton', dessert = 'macaroon')"
   ]
  },
  {
   "cell_type": "code",
   "execution_count": 50,
   "metadata": {
    "collapsed": true
   },
   "outputs": [],
   "source": [
    "#  7. docstring\n",
    "##  함수의 정의를 문서화\n",
    "\n",
    "def print_if_true(thing, check):\n",
    "    '''\n",
    "    Prints the first argument if a second argument is true.\n",
    "    The operation is:\n",
    "        1. Check whether the *second* argument is true.\n",
    "        2. If it is, print the *first* argument.\n",
    "    '''\n",
    "    if check:\n",
    "        print(thing)\n"
   ]
  },
  {
   "cell_type": "code",
   "execution_count": 54,
   "metadata": {
    "collapsed": false
   },
   "outputs": [
    {
     "name": "stdout",
     "output_type": "stream",
     "text": [
      "\n",
      "    Prints the first argument if a second argument is true.\n",
      "    The operation is:\n",
      "        1. Check whether the *second* argument is true.\n",
      "        2. If it is, print the *first* argument.\n",
      "    \n"
     ]
    }
   ],
   "source": [
    "print(print_if_true.__doc__)"
   ]
  },
  {
   "cell_type": "markdown",
   "metadata": {},
   "source": [
    "### 함수 = first class citizens (모든것은 객체다!)"
   ]
  },
  {
   "cell_type": "code",
   "execution_count": 55,
   "metadata": {
    "collapsed": true
   },
   "outputs": [],
   "source": [
    "def answer():\n",
    "    print(42)"
   ]
  },
  {
   "cell_type": "code",
   "execution_count": 56,
   "metadata": {
    "collapsed": false
   },
   "outputs": [
    {
     "name": "stdout",
     "output_type": "stream",
     "text": [
      "42\n"
     ]
    }
   ],
   "source": [
    "##  함수 호출\n",
    "answer()"
   ]
  },
  {
   "cell_type": "code",
   "execution_count": 57,
   "metadata": {
    "collapsed": true
   },
   "outputs": [],
   "source": [
    "def run_something(func):\n",
    "    func()"
   ]
  },
  {
   "cell_type": "code",
   "execution_count": 58,
   "metadata": {
    "collapsed": false
   },
   "outputs": [
    {
     "name": "stdout",
     "output_type": "stream",
     "text": [
      "42\n"
     ]
    }
   ],
   "source": [
    "## 함수를 데이터처럼 사용!\n",
    "## ()가 있으면 함수,  없으면 객체\n",
    "run_something(answer)"
   ]
  },
  {
   "cell_type": "code",
   "execution_count": 59,
   "metadata": {
    "collapsed": false
   },
   "outputs": [
    {
     "data": {
      "text/plain": [
       "function"
      ]
     },
     "execution_count": 59,
     "metadata": {},
     "output_type": "execute_result"
    }
   ],
   "source": [
    "type(run_something)"
   ]
  },
  {
   "cell_type": "code",
   "execution_count": 60,
   "metadata": {
    "collapsed": true
   },
   "outputs": [],
   "source": [
    "## 인자에 함수를 넣어서 함수 호출  예제(1)\n",
    "\n",
    "def add_args(arg1, arg2):\n",
    "    print(arg1, arg2)\n",
    "\n",
    "def run_something_with_args(func, arg1, arg2):\n",
    "    func(arg1, arg2)"
   ]
  },
  {
   "cell_type": "code",
   "execution_count": 61,
   "metadata": {
    "collapsed": false
   },
   "outputs": [
    {
     "name": "stdout",
     "output_type": "stream",
     "text": [
      "5 9\n"
     ]
    }
   ],
   "source": [
    "run_something_with_args(add_args, 5, 9)"
   ]
  },
  {
   "cell_type": "code",
   "execution_count": 62,
   "metadata": {
    "collapsed": true
   },
   "outputs": [],
   "source": [
    "## 인자에 함수를 넣어서 함수 호출  예제(2)\n",
    "\n",
    "def sum_args(*args):\n",
    "    return sum(args)\n",
    "\n",
    "def run_with_positional_args(func, *args):\n",
    "    return func(*args)"
   ]
  },
  {
   "cell_type": "code",
   "execution_count": 63,
   "metadata": {
    "collapsed": false
   },
   "outputs": [
    {
     "data": {
      "text/plain": [
       "15"
      ]
     },
     "execution_count": 63,
     "metadata": {},
     "output_type": "execute_result"
    }
   ],
   "source": [
    "run_with_positional_args(sum_args, 1, 2, 3, 4, 5)"
   ]
  },
  {
   "cell_type": "code",
   "execution_count": 64,
   "metadata": {
    "collapsed": true
   },
   "outputs": [],
   "source": [
    "# 8. 내부 함수\n",
    "## 또  다른 함수 내에 어떤 복잡한 작업을 한번 이상 수행할 때 유용\n",
    "\n",
    "def knights(saying):\n",
    "    def inner(quote):\n",
    "        return \"We are the knights who say: '%s' \" % quote\n",
    "    return inner(saying)"
   ]
  },
  {
   "cell_type": "code",
   "execution_count": 65,
   "metadata": {
    "collapsed": false
   },
   "outputs": [
    {
     "data": {
      "text/plain": [
       "\"We are the knights who say: 'Ni!' \""
      ]
     },
     "execution_count": 65,
     "metadata": {},
     "output_type": "execute_result"
    }
   ],
   "source": [
    "knights(\"Ni!\")"
   ]
  },
  {
   "cell_type": "code",
   "execution_count": 66,
   "metadata": {
    "collapsed": true
   },
   "outputs": [],
   "source": [
    "#  9. 클로져\n"
   ]
  },
  {
   "cell_type": "code",
   "execution_count": 68,
   "metadata": {
    "collapsed": true
   },
   "outputs": [],
   "source": [
    "#  10.  익명함수 :  lambda()\n",
    "def edit_story(words, func):\n",
    "    for word in words:\n",
    "        print(func(word))\n",
    "\n",
    "def enliven(word):\n",
    "    return word.capitalize() + '!'"
   ]
  },
  {
   "cell_type": "code",
   "execution_count": 69,
   "metadata": {
    "collapsed": false
   },
   "outputs": [
    {
     "name": "stdout",
     "output_type": "stream",
     "text": [
      "Anyeong!\n",
      "Hello!\n",
      "Konichiwa!\n",
      "Ni hao!\n"
     ]
    }
   ],
   "source": [
    "greeting = ['anyeong', 'hello', 'konichiwa', 'ni hao']\n",
    "edit_story(greeting, enliven)"
   ]
  },
  {
   "cell_type": "code",
   "execution_count": 71,
   "metadata": {
    "collapsed": false
   },
   "outputs": [
    {
     "name": "stdout",
     "output_type": "stream",
     "text": [
      "Anyeong!\n",
      "Hello!\n",
      "Konichiwa!\n",
      "Ni hao!\n"
     ]
    }
   ],
   "source": [
    "## 익명함수를 사용\n",
    "edit_story(greeting, lambda word: word.capitalize() + '!')"
   ]
  },
  {
   "cell_type": "markdown",
   "metadata": {},
   "source": [
    "##  6)  Generator"
   ]
  },
  {
   "cell_type": "markdown",
   "metadata": {},
   "source": [
    "**제너레이터**\n",
    "-  파이썬의 시퀀스를 생성하는 객체\n",
    "-  전체 시퀀스를 메모리에 생성,  정렬하지 않아도 큰 시퀀스 순회 가능\n",
    "-  range, xrange(python2) : python3에서는 range로 통합\n",
    "-  제너레이터 함수 :  yield문으로 반환 (return X)\n",
    "-  http://bluese05.tistory.com/56"
   ]
  },
  {
   "cell_type": "code",
   "execution_count": 72,
   "metadata": {
    "collapsed": true
   },
   "outputs": [],
   "source": [
    "def my_range(first = 0, last = 10, step = 1):\n",
    "    number = first\n",
    "    while number < last:\n",
    "        yield number\n",
    "        number += step"
   ]
  },
  {
   "cell_type": "code",
   "execution_count": 73,
   "metadata": {
    "collapsed": false
   },
   "outputs": [
    {
     "data": {
      "text/plain": [
       "<function __main__.my_range>"
      ]
     },
     "execution_count": 73,
     "metadata": {},
     "output_type": "execute_result"
    }
   ],
   "source": [
    "my_range"
   ]
  },
  {
   "cell_type": "code",
   "execution_count": 74,
   "metadata": {
    "collapsed": false
   },
   "outputs": [
    {
     "data": {
      "text/plain": [
       "<generator object my_range at 0x1056e3938>"
      ]
     },
     "execution_count": 74,
     "metadata": {},
     "output_type": "execute_result"
    }
   ],
   "source": [
    "ranger = my_range(1, 5)\n",
    "ranger"
   ]
  },
  {
   "cell_type": "code",
   "execution_count": 79,
   "metadata": {
    "collapsed": false
   },
   "outputs": [
    {
     "name": "stdout",
     "output_type": "stream",
     "text": [
      "1\n",
      "2\n",
      "3\n",
      "4\n"
     ]
    }
   ],
   "source": [
    "for i in ranger:\n",
    "    print(i)"
   ]
  },
  {
   "cell_type": "markdown",
   "metadata": {},
   "source": [
    "## 7) Decorator "
   ]
  },
  {
   "cell_type": "markdown",
   "metadata": {},
   "source": [
    "- 소스코드 수정 없이 사용중인 함수 수정하고 싶을 때 사용  \n",
    "- ex) 함수에 전달 된 인자를 보기 위한 디버깅 문 추가\n",
    "\n",
    "- 하나의 함수를 취해서 또 다른 함수에 반환"
   ]
  },
  {
   "cell_type": "code",
   "execution_count": 80,
   "metadata": {
    "collapsed": true
   },
   "outputs": [],
   "source": [
    "def document_it(func):\n",
    "    def new_function(*args, **kwargs):\n",
    "        print('Running function:', func.__name__)\n",
    "        print('Positional arguments:', args)\n",
    "        print('Keyword arguments:', kwargs)\n",
    "        result = func(*args, **kwargs)\n",
    "        print('Result:', result)\n",
    "        return result\n",
    "    return new_function"
   ]
  },
  {
   "cell_type": "code",
   "execution_count": 81,
   "metadata": {
    "collapsed": true
   },
   "outputs": [],
   "source": [
    "def add_ints(a, b):\n",
    "    return a + b"
   ]
  },
  {
   "cell_type": "code",
   "execution_count": 85,
   "metadata": {
    "collapsed": false
   },
   "outputs": [
    {
     "data": {
      "text/plain": [
       "<function __main__.document_it.<locals>.new_function>"
      ]
     },
     "execution_count": 85,
     "metadata": {},
     "output_type": "execute_result"
    }
   ],
   "source": [
    "# #  수동으로 데커레이터 할당\n",
    "cooler_add_ints = document_it(add_ints)\n",
    "cooler_add_ints"
   ]
  },
  {
   "cell_type": "code",
   "execution_count": 86,
   "metadata": {
    "collapsed": false
   },
   "outputs": [
    {
     "name": "stdout",
     "output_type": "stream",
     "text": [
      "Running function: add_ints\n",
      "Positional arguments: (3, 5)\n",
      "Keyword arguments: {}\n",
      "Result: 8\n"
     ]
    },
    {
     "data": {
      "text/plain": [
       "8"
      ]
     },
     "execution_count": 86,
     "metadata": {},
     "output_type": "execute_result"
    }
   ],
   "source": [
    "cooler_add_ints(3, 5)"
   ]
  },
  {
   "cell_type": "code",
   "execution_count": 89,
   "metadata": {
    "collapsed": false
   },
   "outputs": [],
   "source": [
    "@document_it\n",
    "def add_ints(a, b):\n",
    "    return a + b"
   ]
  },
  {
   "cell_type": "code",
   "execution_count": 91,
   "metadata": {
    "collapsed": false
   },
   "outputs": [
    {
     "name": "stdout",
     "output_type": "stream",
     "text": [
      "Running function: add_ints\n",
      "Positional arguments: (5, 10)\n",
      "Keyword arguments: {}\n",
      "Result: 15\n"
     ]
    },
    {
     "data": {
      "text/plain": [
       "15"
      ]
     },
     "execution_count": 91,
     "metadata": {},
     "output_type": "execute_result"
    }
   ],
   "source": [
    "add_ints(5, 10)"
   ]
  },
  {
   "cell_type": "markdown",
   "metadata": {},
   "source": [
    "## 8) 네임스페이스와 스코프"
   ]
  },
  {
   "cell_type": "code",
   "execution_count": 1,
   "metadata": {
    "collapsed": true
   },
   "outputs": [],
   "source": [
    "# 1. 전역 변수 \n",
    "animal = 'fruitbat'\n",
    "def print_global():\n",
    "    print('inside print_global:', animal)"
   ]
  },
  {
   "cell_type": "code",
   "execution_count": 2,
   "metadata": {
    "collapsed": false
   },
   "outputs": [
    {
     "name": "stdout",
     "output_type": "stream",
     "text": [
      "at the top level: fruitbat\n"
     ]
    }
   ],
   "source": [
    "print('at the top level:', animal)"
   ]
  },
  {
   "cell_type": "code",
   "execution_count": 3,
   "metadata": {
    "collapsed": false
   },
   "outputs": [
    {
     "name": "stdout",
     "output_type": "stream",
     "text": [
      "inside print_global: fruitbat\n"
     ]
    }
   ],
   "source": [
    "print_global()"
   ]
  },
  {
   "cell_type": "code",
   "execution_count": 4,
   "metadata": {
    "collapsed": true
   },
   "outputs": [],
   "source": [
    "# 2. 함수에서 전역변수 변경 불가능\n",
    "\n",
    "def change_and_print_global():\n",
    "    print('inside change_and_print_global:', animal)\n",
    "    animal = 'wombat'\n",
    "    print('after the change:', animal)"
   ]
  },
  {
   "cell_type": "code",
   "execution_count": 5,
   "metadata": {
    "collapsed": false
   },
   "outputs": [
    {
     "ename": "UnboundLocalError",
     "evalue": "local variable 'animal' referenced before assignment",
     "output_type": "error",
     "traceback": [
      "\u001b[0;31m---------------------------------------------------------------------------\u001b[0m",
      "\u001b[0;31mUnboundLocalError\u001b[0m                         Traceback (most recent call last)",
      "\u001b[0;32m<ipython-input-5-3951755be21b>\u001b[0m in \u001b[0;36m<module>\u001b[0;34m()\u001b[0m\n\u001b[0;32m----> 1\u001b[0;31m \u001b[0mchange_and_print_global\u001b[0m\u001b[0;34m(\u001b[0m\u001b[0;34m)\u001b[0m\u001b[0;34m\u001b[0m\u001b[0m\n\u001b[0m",
      "\u001b[0;32m<ipython-input-4-19245e5e266a>\u001b[0m in \u001b[0;36mchange_and_print_global\u001b[0;34m()\u001b[0m\n\u001b[1;32m      2\u001b[0m \u001b[0;34m\u001b[0m\u001b[0m\n\u001b[1;32m      3\u001b[0m \u001b[0;32mdef\u001b[0m \u001b[0mchange_and_print_global\u001b[0m\u001b[0;34m(\u001b[0m\u001b[0;34m)\u001b[0m\u001b[0;34m:\u001b[0m\u001b[0;34m\u001b[0m\u001b[0m\n\u001b[0;32m----> 4\u001b[0;31m     \u001b[0mprint\u001b[0m\u001b[0;34m(\u001b[0m\u001b[0;34m'inside change_and_print_global:'\u001b[0m\u001b[0;34m,\u001b[0m \u001b[0manimal\u001b[0m\u001b[0;34m)\u001b[0m\u001b[0;34m\u001b[0m\u001b[0m\n\u001b[0m\u001b[1;32m      5\u001b[0m     \u001b[0manimal\u001b[0m \u001b[0;34m=\u001b[0m \u001b[0;34m'wombat'\u001b[0m\u001b[0;34m\u001b[0m\u001b[0m\n\u001b[1;32m      6\u001b[0m     \u001b[0mprint\u001b[0m\u001b[0;34m(\u001b[0m\u001b[0;34m'after the change:'\u001b[0m\u001b[0;34m,\u001b[0m \u001b[0manimal\u001b[0m\u001b[0;34m)\u001b[0m\u001b[0;34m\u001b[0m\u001b[0m\n",
      "\u001b[0;31mUnboundLocalError\u001b[0m: local variable 'animal' referenced before assignment"
     ]
    }
   ],
   "source": [
    "change_and_print_global()"
   ]
  },
  {
   "cell_type": "code",
   "execution_count": 6,
   "metadata": {
    "collapsed": true
   },
   "outputs": [],
   "source": [
    "# 3. global  키워드를 통한 전역변수 접근 (함수를 통한 전역변수 변경)\n",
    "animal = 'fruitbat'\n",
    "def change_and_print_global():\n",
    "    global animal\n",
    "    animal = 'wombat'\n",
    "    print('after the change:', animal, id(animal))"
   ]
  },
  {
   "cell_type": "code",
   "execution_count": 7,
   "metadata": {
    "collapsed": false
   },
   "outputs": [
    {
     "data": {
      "text/plain": [
       "'fruitbat'"
      ]
     },
     "execution_count": 7,
     "metadata": {},
     "output_type": "execute_result"
    }
   ],
   "source": [
    "animal"
   ]
  },
  {
   "cell_type": "code",
   "execution_count": 8,
   "metadata": {
    "collapsed": false
   },
   "outputs": [
    {
     "name": "stdout",
     "output_type": "stream",
     "text": [
      "after the change: wombat 4434791368\n"
     ]
    }
   ],
   "source": [
    "change_and_print_global()"
   ]
  },
  {
   "cell_type": "code",
   "execution_count": 9,
   "metadata": {
    "collapsed": false
   },
   "outputs": [
    {
     "data": {
      "text/plain": [
       "'wombat'"
      ]
     },
     "execution_count": 9,
     "metadata": {},
     "output_type": "execute_result"
    }
   ],
   "source": [
    "animal"
   ]
  },
  {
   "cell_type": "code",
   "execution_count": 10,
   "metadata": {
    "collapsed": true
   },
   "outputs": [],
   "source": [
    "animal = 'fruitbat'\n",
    "def change_local():\n",
    "    animal = 'wombat'\n",
    "    print('locals:' , locals())"
   ]
  },
  {
   "cell_type": "code",
   "execution_count": 11,
   "metadata": {
    "collapsed": false
   },
   "outputs": [
    {
     "data": {
      "text/plain": [
       "'fruitbat'"
      ]
     },
     "execution_count": 11,
     "metadata": {},
     "output_type": "execute_result"
    }
   ],
   "source": [
    "animal"
   ]
  },
  {
   "cell_type": "code",
   "execution_count": 12,
   "metadata": {
    "collapsed": false
   },
   "outputs": [
    {
     "name": "stdout",
     "output_type": "stream",
     "text": [
      "locals: {'animal': 'wombat'}\n"
     ]
    }
   ],
   "source": [
    "change_local()"
   ]
  },
  {
   "cell_type": "code",
   "execution_count": 13,
   "metadata": {
    "collapsed": false
   },
   "outputs": [
    {
     "name": "stdout",
     "output_type": "stream",
     "text": [
      "globals: {'_oh': {9: 'wombat', 11: 'fruitbat', 7: 'fruitbat'}, '_i13': \"print('globals:', globals() )\", '_i2': \"print('at the top level:', animal)\", '_i12': 'change_local()', '_i1': \"# 1. 전역 변수 \\nanimal = 'fruitbat'\\ndef print_global():\\n    print('inside print_global:', animal)\", '__spec__': None, '__name__': '__main__', '__builtin__': <module 'builtins' (built-in)>, '_dh': ['/Users/cschoi/Study/deepbasic/Part1/20161122/Python_Basic'], '_i6': \"# 3. global  키워드를 통한 전역변수 접근 (함수를 통한 전역변수 변경)\\nanimal = 'fruitbat'\\ndef change_and_print_global():\\n    global animal\\n    animal = 'wombat'\\n    print('after the change:', animal, id(animal))\", '___': 'fruitbat', '_i5': 'change_and_print_global()', 'animal': 'fruitbat', '_9': 'wombat', 'quit': <IPython.core.autocall.ZMQExitAutocall object at 0x1084b0b70>, 'print_global': <function print_global at 0x10855b620>, '_iii': \"animal = 'fruitbat'\\ndef change_local():\\n    animal = 'wombat'\\n    print('locals:' , locals())\", '_ih': ['', \"# 1. 전역 변수 \\nanimal = 'fruitbat'\\ndef print_global():\\n    print('inside print_global:', animal)\", \"print('at the top level:', animal)\", 'print_global()', \"# 2. 함수에서 전역변수 변경 불가능\\n\\ndef change_and_print_global():\\n    print('inside change_and_print_global:', animal)\\n    animal = 'wombat'\\n    print('after the change:', animal)\", 'change_and_print_global()', \"# 3. global  키워드를 통한 전역변수 접근 (함수를 통한 전역변수 변경)\\nanimal = 'fruitbat'\\ndef change_and_print_global():\\n    global animal\\n    animal = 'wombat'\\n    print('after the change:', animal, id(animal))\", 'animal', 'change_and_print_global()', 'animal', \"animal = 'fruitbat'\\ndef change_local():\\n    animal = 'wombat'\\n    print('locals:' , locals())\", 'animal', 'change_local()', \"print('globals:', globals() )\"], '_7': 'fruitbat', 'exit': <IPython.core.autocall.ZMQExitAutocall object at 0x1084b0b70>, 'In': ['', \"# 1. 전역 변수 \\nanimal = 'fruitbat'\\ndef print_global():\\n    print('inside print_global:', animal)\", \"print('at the top level:', animal)\", 'print_global()', \"# 2. 함수에서 전역변수 변경 불가능\\n\\ndef change_and_print_global():\\n    print('inside change_and_print_global:', animal)\\n    animal = 'wombat'\\n    print('after the change:', animal)\", 'change_and_print_global()', \"# 3. global  키워드를 통한 전역변수 접근 (함수를 통한 전역변수 변경)\\nanimal = 'fruitbat'\\ndef change_and_print_global():\\n    global animal\\n    animal = 'wombat'\\n    print('after the change:', animal, id(animal))\", 'animal', 'change_and_print_global()', 'animal', \"animal = 'fruitbat'\\ndef change_local():\\n    animal = 'wombat'\\n    print('locals:' , locals())\", 'animal', 'change_local()', \"print('globals:', globals() )\"], 'change_and_print_global': <function change_and_print_global at 0x109618598>, '_ii': 'animal', '_11': 'fruitbat', '__package__': None, '__loader__': None, '_i10': \"animal = 'fruitbat'\\ndef change_local():\\n    animal = 'wombat'\\n    print('locals:' , locals())\", '_i7': 'animal', '_i8': 'change_and_print_global()', '_i4': \"# 2. 함수에서 전역변수 변경 불가능\\n\\ndef change_and_print_global():\\n    print('inside change_and_print_global:', animal)\\n    animal = 'wombat'\\n    print('after the change:', animal)\", '_i11': 'animal', '_': 'fruitbat', '__builtins__': <module 'builtins' (built-in)>, '_sh': <module 'IPython.core.shadowns' from '/Users/cschoi/.pyenv/versions/3.5.1/envs/venv3.5.1/lib/python3.5/site-packages/IPython/core/shadowns.py'>, '_i9': 'animal', '__': 'wombat', 'change_local': <function change_local at 0x1096186a8>, '__doc__': 'Automatically created module for IPython interactive environment', 'get_ipython': <bound method InteractiveShell.get_ipython of <ipykernel.zmqshell.ZMQInteractiveShell object at 0x1082b6cf8>>, '_i': 'change_local()', '_i3': 'print_global()', 'Out': {9: 'wombat', 11: 'fruitbat', 7: 'fruitbat'}}\n"
     ]
    }
   ],
   "source": [
    "print('globals:', globals() )"
   ]
  },
  {
   "cell_type": "code",
   "execution_count": 14,
   "metadata": {
    "collapsed": true
   },
   "outputs": [],
   "source": [
    "# 5. 파이썬 예약어  :  언더스코어\n",
    "\n",
    "def amazing():\n",
    "    '''\n",
    "    This is the amazing function.\n",
    "    Want to see it again?\n",
    "    '''\n",
    "    print('This function is named:', amazing.__name__)\n",
    "    print('And its docstring is:', amazing.__doc__)"
   ]
  },
  {
   "cell_type": "code",
   "execution_count": 15,
   "metadata": {
    "collapsed": false
   },
   "outputs": [
    {
     "name": "stdout",
     "output_type": "stream",
     "text": [
      "This function is named: amazing\n",
      "And its docstring is: \n",
      "    This is the amazing function.\n",
      "    Want to see it again?\n",
      "    \n"
     ]
    }
   ],
   "source": [
    "amazing()"
   ]
  },
  {
   "cell_type": "markdown",
   "metadata": {},
   "source": [
    "## 9) 예외 처리하기 :  try, except"
   ]
  },
  {
   "cell_type": "code",
   "execution_count": 16,
   "metadata": {
    "collapsed": false
   },
   "outputs": [
    {
     "name": "stdout",
     "output_type": "stream",
     "text": [
      "Position [q to quit]? 2\n",
      "3\n",
      "Position [q to quit]? 3\n",
      "Bad index: 3\n",
      "Position [q to quit]? 4\n",
      "Bad index: 4\n",
      "Position [q to quit]? two\n",
      "Something else broke: invalid literal for int() with base 10: 'two'\n",
      "Position [q to quit]? q\n"
     ]
    }
   ],
   "source": [
    "short_list = [1, 2, 3]\n",
    "while True:\n",
    "    value = input('Position [q to quit]? ')\n",
    "    if value == 'q':\n",
    "        break\n",
    "    try:\n",
    "        position = int(value)\n",
    "        print(short_list[position])\n",
    "    except IndexError:\n",
    "        print('Bad index:', position)\n",
    "    except Exception as other:\n",
    "        print('Something else broke:', other)"
   ]
  },
  {
   "cell_type": "markdown",
   "metadata": {},
   "source": [
    "## 10) 예외 만들기"
   ]
  },
  {
   "cell_type": "code",
   "execution_count": 18,
   "metadata": {
    "collapsed": true
   },
   "outputs": [],
   "source": [
    "class UppercaseException(Exception):\n",
    "    pass"
   ]
  },
  {
   "cell_type": "code",
   "execution_count": 19,
   "metadata": {
    "collapsed": false
   },
   "outputs": [
    {
     "ename": "UppercaseException",
     "evalue": "LMN",
     "output_type": "error",
     "traceback": [
      "\u001b[0;31m---------------------------------------------------------------------------\u001b[0m",
      "\u001b[0;31mUppercaseException\u001b[0m                        Traceback (most recent call last)",
      "\u001b[0;32m<ipython-input-19-0227b7685d1f>\u001b[0m in \u001b[0;36m<module>\u001b[0;34m()\u001b[0m\n\u001b[1;32m      2\u001b[0m \u001b[0;32mfor\u001b[0m \u001b[0mword\u001b[0m \u001b[0;32min\u001b[0m \u001b[0mwords\u001b[0m\u001b[0;34m:\u001b[0m\u001b[0;34m\u001b[0m\u001b[0m\n\u001b[1;32m      3\u001b[0m     \u001b[0;32mif\u001b[0m \u001b[0mword\u001b[0m\u001b[0;34m.\u001b[0m\u001b[0misupper\u001b[0m\u001b[0;34m(\u001b[0m\u001b[0;34m)\u001b[0m\u001b[0;34m:\u001b[0m\u001b[0;34m\u001b[0m\u001b[0m\n\u001b[0;32m----> 4\u001b[0;31m         \u001b[0;32mraise\u001b[0m \u001b[0mUppercaseException\u001b[0m\u001b[0;34m(\u001b[0m\u001b[0mword\u001b[0m\u001b[0;34m)\u001b[0m\u001b[0;34m\u001b[0m\u001b[0m\n\u001b[0m",
      "\u001b[0;31mUppercaseException\u001b[0m: LMN"
     ]
    }
   ],
   "source": [
    "words = [\"abc\", \"efg\", \"Hik\", \"LMN\"]\n",
    "for word in words:\n",
    "    if word.isupper():\n",
    "        raise UppercaseException(word)"
   ]
  },
  {
   "cell_type": "code",
   "execution_count": null,
   "metadata": {
    "collapsed": true
   },
   "outputs": [],
   "source": []
  }
 ],
 "metadata": {
  "kernelspec": {
   "display_name": "Python 3",
   "language": "python",
   "name": "python3"
  },
  "language_info": {
   "codemirror_mode": {
    "name": "ipython",
    "version": 3
   },
   "file_extension": ".py",
   "mimetype": "text/x-python",
   "name": "python",
   "nbconvert_exporter": "python",
   "pygments_lexer": "ipython3",
   "version": "3.5.1"
  }
 },
 "nbformat": 4,
 "nbformat_minor": 1
}
