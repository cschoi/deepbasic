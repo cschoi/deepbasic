{
 "cells": [
  {
   "cell_type": "markdown",
   "metadata": {},
   "source": [
    "# 딥베이직\n",
    "# 20161115 김단비"
   ]
  },
  {
   "cell_type": "markdown",
   "metadata": {},
   "source": [
    "# 3. 파이 채우기: 리스트, 튜플, 딕셔너리, 셋"
   ]
  },
  {
   "cell_type": "markdown",
   "metadata": {},
   "source": [
    "2장에서 부울, 정수, 부동소수점수, 문자열에 대한 기본 데이터 타입을 살펴봤다. <br>\n",
    "이들 데이터 타입이 원자라면 이번 장에서 다룰 자료구조(data structure)는 분자다. <br>\n",
    "대부분의 프로그래밍 과정은 데이터를 잘게 나누고 이들을 붙여서 특정한 형태로 만든다"
   ]
  },
  {
   "cell_type": "markdown",
   "metadata": {},
   "source": [
    "## 3.1 리스트와 튜플\n",
    "이전 장에서 문자열은 문자의 시퀀스라는 걸 배웠다. 리스트는 모든 것의 시퀀스임 <br>\n",
    "파이썬에는 두 가지 다른 시퀀스 구조가 있는데, 튜플과 리스트임"
   ]
  },
  {
   "cell_type": "markdown",
   "metadata": {},
   "source": [
    "#### 파이썬은 왜 리스트와 튜플 두 가지를 포함하고 있을까?\n",
    "튜플은 불변(immutable), 리스트는 변경 가능(mutable)하니까. <br>\n",
    "튜플은 항목을 할당하고 이를 바꿀 수 없음 <br>\n",
    "리스트는 항목을 할당하고 자유롭게 수정하거나 삭제 가능 <br>"
   ]
  },
  {
   "cell_type": "markdown",
   "metadata": {},
   "source": [
    "## 3.2 리스트\n",
    "리스트는 데이터를 순차적으로 파악하는 데 유용 <br>\n",
    "리스트의 현재 위치에서 새로운 요소를 추가하거나 삭제 혹은 기존 요소를 덮어쓸 수 있음 <br>\n",
    "동일한 값이 여러 번 나타날 수 있음!\n",
    "### 3.2.1 리스트 생성하기: [ ] 또는 list( )\n",
    "리스트는 콤마(,)로 구분하고 대괄호([ ])로 둘러싸여 있음"
   ]
  },
  {
   "cell_type": "code",
   "execution_count": 2,
   "metadata": {
    "collapsed": true
   },
   "outputs": [],
   "source": [
    "empty_list = [ ]\n",
    "weekdays = ['Monday', 'Tuesday', 'Wednesday', 'Thursday', 'Friday'] #리스트의 순서를 가장 잘 활용할 수 있는 예제 중 하나\n",
    "big_birds = ['emu', 'ostrich', 'cassowary']\n",
    "first_names = ['Graham', 'John', 'Terry', 'Terry', 'Michael'] #값이 유일할 필요가 없다는 걸 보여줌"
   ]
  },
  {
   "cell_type": "markdown",
   "metadata": {},
   "source": [
    "#### NOTE_요소들이 순서는 상관없이 유일한 값으로 유지될 필요가 있다면 리스트보다 셋(Set)을 사용하는 것이 더 좋음! 좀 이따 나와요\n",
    "\n",
    "또한 list() 함수로 빈 리스트 할당 가능"
   ]
  },
  {
   "cell_type": "code",
   "execution_count": 1,
   "metadata": {
    "collapsed": false
   },
   "outputs": [
    {
     "data": {
      "text/plain": [
       "[]"
      ]
     },
     "execution_count": 1,
     "metadata": {},
     "output_type": "execute_result"
    }
   ],
   "source": [
    "another_empty_list = list()\n",
    "another_empty_list"
   ]
  },
  {
   "cell_type": "markdown",
   "metadata": {},
   "source": [
    "#### NOTE_4.6절 컴프리헨션에서는 리스트를 생성하는 다른 방법인 리스트 컴프리헨션을 설명한대요"
   ]
  },
  {
   "cell_type": "markdown",
   "metadata": {},
   "source": [
    "### 3.2.2 다른 데이터 타입을 리스트로 변환하기: list( )\n",
    "list( )함수는 다른 데이터 타입을 리스트로 변환함 <br>\n",
    "아래 예제는 하나의 단어를 한 문자 문자열의 리스트로 변환"
   ]
  },
  {
   "cell_type": "code",
   "execution_count": 3,
   "metadata": {
    "collapsed": false
   },
   "outputs": [
    {
     "data": {
      "text/plain": [
       "['c', 'a', 't']"
      ]
     },
     "execution_count": 3,
     "metadata": {},
     "output_type": "execute_result"
    }
   ],
   "source": [
    "list('cat')"
   ]
  },
  {
   "cell_type": "markdown",
   "metadata": {},
   "source": [
    "다음 예제는 튜플을 리스트로 변환"
   ]
  },
  {
   "cell_type": "code",
   "execution_count": 5,
   "metadata": {
    "collapsed": false
   },
   "outputs": [
    {
     "data": {
      "text/plain": [
       "['ready', 'fire', 'aim']"
      ]
     },
     "execution_count": 5,
     "metadata": {},
     "output_type": "execute_result"
    }
   ],
   "source": [
    "a_tuple = ('ready', 'fire', 'aim')\n",
    "list(a_tuple)"
   ]
  },
  {
   "cell_type": "markdown",
   "metadata": {},
   "source": [
    "2.3.9절 '문자열 나누기'에서 본 split( )함수는 문자열을 구분자로 나누어서 리스트로 변환"
   ]
  },
  {
   "cell_type": "code",
   "execution_count": 6,
   "metadata": {
    "collapsed": false
   },
   "outputs": [
    {
     "data": {
      "text/plain": [
       "['1', '6', '1952']"
      ]
     },
     "execution_count": 6,
     "metadata": {},
     "output_type": "execute_result"
    }
   ],
   "source": [
    "birthday = '1/6/1952'\n",
    "birthday.split('/')"
   ]
  },
  {
   "cell_type": "markdown",
   "metadata": {},
   "source": [
    "문자열에 구분자가 여러 개 있다면 리스트에 빈 문자열이 들어감"
   ]
  },
  {
   "cell_type": "code",
   "execution_count": 7,
   "metadata": {
    "collapsed": false
   },
   "outputs": [
    {
     "data": {
      "text/plain": [
       "['a', 'b', '', 'c', 'd', '', '', 'e']"
      ]
     },
     "execution_count": 7,
     "metadata": {},
     "output_type": "execute_result"
    }
   ],
   "source": [
    "splitme = 'a/b//c/d///e'\n",
    "splitme.split('/')"
   ]
  },
  {
   "cell_type": "markdown",
   "metadata": {},
   "source": [
    "두 문자 문자열 //을 구분자로 사용하면 다음과 같은 결과 얻음"
   ]
  },
  {
   "cell_type": "code",
   "execution_count": 8,
   "metadata": {
    "collapsed": false
   },
   "outputs": [
    {
     "data": {
      "text/plain": [
       "['a/b', 'c/d', '/e']"
      ]
     },
     "execution_count": 8,
     "metadata": {},
     "output_type": "execute_result"
    }
   ],
   "source": [
    "splitme = 'a/b//c/d///e'\n",
    "splitme.split('//')"
   ]
  },
  {
   "cell_type": "markdown",
   "metadata": {},
   "source": [
    "### 3.2.3 [offset]으로 항목 얻기\n",
    "문자열과 마찬가지로 리스트는 오프셋으로 하나의 특정 값 추출 가능"
   ]
  },
  {
   "cell_type": "code",
   "execution_count": 9,
   "metadata": {
    "collapsed": false
   },
   "outputs": [
    {
     "data": {
      "text/plain": [
       "'Groucho'"
      ]
     },
     "execution_count": 9,
     "metadata": {},
     "output_type": "execute_result"
    }
   ],
   "source": [
    "marxes = ['Groucho', 'Chico', 'Harpo']\n",
    "marxes[0]"
   ]
  },
  {
   "cell_type": "code",
   "execution_count": 10,
   "metadata": {
    "collapsed": false
   },
   "outputs": [
    {
     "data": {
      "text/plain": [
       "'Chico'"
      ]
     },
     "execution_count": 10,
     "metadata": {},
     "output_type": "execute_result"
    }
   ],
   "source": [
    "marxes[1]"
   ]
  },
  {
   "cell_type": "code",
   "execution_count": 11,
   "metadata": {
    "collapsed": false
   },
   "outputs": [
    {
     "data": {
      "text/plain": [
       "'Harpo'"
      ]
     },
     "execution_count": 11,
     "metadata": {},
     "output_type": "execute_result"
    }
   ],
   "source": [
    "marxes[2]"
   ]
  },
  {
   "cell_type": "markdown",
   "metadata": {},
   "source": [
    "문자열과 마찬가지로 음수의 인덱스는 끝에서 거꾸로 값 추출함"
   ]
  },
  {
   "cell_type": "code",
   "execution_count": 12,
   "metadata": {
    "collapsed": false
   },
   "outputs": [
    {
     "data": {
      "text/plain": [
       "'Harpo'"
      ]
     },
     "execution_count": 12,
     "metadata": {},
     "output_type": "execute_result"
    }
   ],
   "source": [
    "marxes[-1]"
   ]
  },
  {
   "cell_type": "code",
   "execution_count": 13,
   "metadata": {
    "collapsed": false
   },
   "outputs": [
    {
     "data": {
      "text/plain": [
       "'Chico'"
      ]
     },
     "execution_count": 13,
     "metadata": {},
     "output_type": "execute_result"
    }
   ],
   "source": [
    "marxes[-2]"
   ]
  },
  {
   "cell_type": "code",
   "execution_count": 14,
   "metadata": {
    "collapsed": false
   },
   "outputs": [
    {
     "data": {
      "text/plain": [
       "'Groucho'"
      ]
     },
     "execution_count": 14,
     "metadata": {},
     "output_type": "execute_result"
    }
   ],
   "source": [
    "marxes[-3]"
   ]
  },
  {
   "cell_type": "markdown",
   "metadata": {},
   "source": [
    "#### 리스트의 오프셋은 값을 할당한 위치에 맞게 입력하지 않으면 예외(에러)가 발생함"
   ]
  },
  {
   "cell_type": "code",
   "execution_count": 15,
   "metadata": {
    "collapsed": false
   },
   "outputs": [
    {
     "ename": "IndexError",
     "evalue": "list index out of range",
     "output_type": "error",
     "traceback": [
      "\u001b[0;31m---------------------------------------------------------------------------\u001b[0m",
      "\u001b[0;31mIndexError\u001b[0m                                Traceback (most recent call last)",
      "\u001b[0;32m<ipython-input-15-3e37954ddf51>\u001b[0m in \u001b[0;36m<module>\u001b[0;34m()\u001b[0m\n\u001b[0;32m----> 1\u001b[0;31m \u001b[0mmarxes\u001b[0m\u001b[0;34m[\u001b[0m\u001b[0;36m5\u001b[0m\u001b[0;34m]\u001b[0m\u001b[0;34m\u001b[0m\u001b[0m\n\u001b[0m",
      "\u001b[0;31mIndexError\u001b[0m: list index out of range"
     ]
    }
   ],
   "source": [
    "marxes[5]"
   ]
  },
  {
   "cell_type": "markdown",
   "metadata": {},
   "source": [
    "### 3.2.4 리스트의 리스트\n",
    "리스트는 리스트 뿐만 아니라 다른 타입의 요소도 포함할 수 있음"
   ]
  },
  {
   "cell_type": "code",
   "execution_count": 16,
   "metadata": {
    "collapsed": true
   },
   "outputs": [],
   "source": [
    "small_birds = ['hummingbird', 'finch']\n",
    "extinct_birds = ['dodo', 'passenger pigeon', 'Norwegian Blue']\n",
    "carol_birds = [3, 'French hens', 2, 'turtledoves']\n",
    "all_birds = [small_birds, extinct_birds, 'macaw', carol_birds]"
   ]
  },
  {
   "cell_type": "code",
   "execution_count": 17,
   "metadata": {
    "collapsed": false
   },
   "outputs": [
    {
     "data": {
      "text/plain": [
       "[['hummingbird', 'finch'],\n",
       " ['dodo', 'passenger pigeon', 'Norwegian Blue'],\n",
       " 'macaw',\n",
       " [3, 'French hens', 2, 'turtledoves']]"
      ]
     },
     "execution_count": 17,
     "metadata": {},
     "output_type": "execute_result"
    }
   ],
   "source": [
    "all_birds"
   ]
  },
  {
   "cell_type": "markdown",
   "metadata": {},
   "source": [
    "첫 번째 항목 추출해보자"
   ]
  },
  {
   "cell_type": "code",
   "execution_count": 18,
   "metadata": {
    "collapsed": false
   },
   "outputs": [
    {
     "data": {
      "text/plain": [
       "['hummingbird', 'finch']"
      ]
     },
     "execution_count": 18,
     "metadata": {},
     "output_type": "execute_result"
    }
   ],
   "source": [
    "all_birds[0]"
   ]
  },
  {
   "cell_type": "markdown",
   "metadata": {},
   "source": [
    "첫 번째 항목은 리스트. all_birds 리스트의 첫 번째 항목인 small_birds 리스트임 <br>\n",
    "\n",
    "small_birds 리스트의 두 번째 항목을 다음과 같이 두 인덱스를 사용해서 추출 가능"
   ]
  },
  {
   "cell_type": "code",
   "execution_count": 20,
   "metadata": {
    "collapsed": false
   },
   "outputs": [
    {
     "data": {
      "text/plain": [
       "'finch'"
      ]
     },
     "execution_count": 20,
     "metadata": {},
     "output_type": "execute_result"
    }
   ],
   "source": [
    "all_birds[0][1]"
   ]
  },
  {
   "cell_type": "markdown",
   "metadata": {},
   "source": [
    "[0]은 all_birds의 첫 번째 항목을 가리키고, [1]은 앞에서 가리킨 항목(small_birds)의 두 번째 항목을 가리킴\n",
    "### 3.2.5 [offset]으로 항목 바꾸기\n",
    "오프셋으로 항목을 얻어서 바꿀 수 있음"
   ]
  },
  {
   "cell_type": "code",
   "execution_count": 21,
   "metadata": {
    "collapsed": false
   },
   "outputs": [
    {
     "data": {
      "text/plain": [
       "['Groucho', 'Chico', 'Wanda']"
      ]
     },
     "execution_count": 21,
     "metadata": {},
     "output_type": "execute_result"
    }
   ],
   "source": [
    "marxes = ['Groucho', 'Chico', 'Harpo']\n",
    "marxes[2] = 'Wanda'\n",
    "marxes"
   ]
  },
  {
   "cell_type": "markdown",
   "metadata": {},
   "source": [
    "리스트의 오프셋은 리스트에서 유효한 위치여야 함! <br>\n",
    "문자열은 이러한 방식으로 변경 불가! 문자열은 불변이니까! <br>\n",
    "하지만 리스트는 변경 가능하므로 리스트의 항목 수와 항목 내용을 바꿀 수 있음"
   ]
  },
  {
   "cell_type": "markdown",
   "metadata": {},
   "source": [
    "### 3.2.6 슬라이스로 항목 추출하기\n",
    "슬라이스를 사용해서 리스트의 서브시퀀스를 추출할 수 있음"
   ]
  },
  {
   "cell_type": "code",
   "execution_count": 24,
   "metadata": {
    "collapsed": false
   },
   "outputs": [
    {
     "data": {
      "text/plain": [
       "['Groucho', 'Chico']"
      ]
     },
     "execution_count": 24,
     "metadata": {},
     "output_type": "execute_result"
    }
   ],
   "source": [
    "marxes = ['Groucho', 'Chico', 'Harpo']\n",
    "marxes[0:2]"
   ]
  },
  {
   "cell_type": "markdown",
   "metadata": {},
   "source": [
    "리스트의 슬라이스 또한 리스트! <br>\n",
    "문자열과 마찬가지로 슬라이스에 스텝 사용 가능 <br>\n",
    "아래 예제는 처음부터 오른쪽으로 2칸씩 항목 추출"
   ]
  },
  {
   "cell_type": "code",
   "execution_count": 25,
   "metadata": {
    "collapsed": false
   },
   "outputs": [
    {
     "data": {
      "text/plain": [
       "['Groucho', 'Harpo']"
      ]
     },
     "execution_count": 25,
     "metadata": {},
     "output_type": "execute_result"
    }
   ],
   "source": [
    "marxes[::2]"
   ]
  },
  {
   "cell_type": "markdown",
   "metadata": {},
   "source": [
    "다음 예제는 끝에서 왼쪽으로 2칸씩 항목 추출"
   ]
  },
  {
   "cell_type": "code",
   "execution_count": 26,
   "metadata": {
    "collapsed": false
   },
   "outputs": [
    {
     "data": {
      "text/plain": [
       "['Harpo', 'Groucho']"
      ]
     },
     "execution_count": 26,
     "metadata": {},
     "output_type": "execute_result"
    }
   ],
   "source": [
    "marxes[::-2]"
   ]
  },
  {
   "cell_type": "markdown",
   "metadata": {},
   "source": [
    "리스트 반전"
   ]
  },
  {
   "cell_type": "code",
   "execution_count": 27,
   "metadata": {
    "collapsed": false
   },
   "outputs": [
    {
     "data": {
      "text/plain": [
       "['Harpo', 'Chico', 'Groucho']"
      ]
     },
     "execution_count": 27,
     "metadata": {},
     "output_type": "execute_result"
    }
   ],
   "source": [
    "marxes[::-1]"
   ]
  },
  {
   "cell_type": "markdown",
   "metadata": {},
   "source": [
    "### 3.2.7 리스트의 끝에 항목 추가하기: append( )\n",
    "append( )는 리스트의 끝에 새 항목을 추가함. 리스트는 변경 가능해서 추가 가능 <br>\n",
    "이전 예제에 Zeppo를 넣어봅시다"
   ]
  },
  {
   "cell_type": "code",
   "execution_count": 28,
   "metadata": {
    "collapsed": false
   },
   "outputs": [
    {
     "data": {
      "text/plain": [
       "['Groucho', 'Chico', 'Harpo', 'Zeppo']"
      ]
     },
     "execution_count": 28,
     "metadata": {},
     "output_type": "execute_result"
    }
   ],
   "source": [
    "marxes.append('Zeppo')\n",
    "marxes"
   ]
  },
  {
   "cell_type": "markdown",
   "metadata": {},
   "source": [
    "### 3.2.8 리스트 병합하기: extend( ) 또는 +=\n",
    "extend( )를 사용해 다른 리스트 병합 가능 <br>\n",
    "리스트 marxes에 새로운 리스트 others 병합해봅시다"
   ]
  },
  {
   "cell_type": "code",
   "execution_count": 29,
   "metadata": {
    "collapsed": false
   },
   "outputs": [
    {
     "data": {
      "text/plain": [
       "['Groucho', 'Chico', 'Harpo', 'Zeppo', 'Gummo', 'Karl']"
      ]
     },
     "execution_count": 29,
     "metadata": {},
     "output_type": "execute_result"
    }
   ],
   "source": [
    "marxes = ['Groucho', 'Chico', 'Harpo', 'Zeppo']\n",
    "others = ['Gummo', 'Karl']\n",
    "marxes.extend(others)\n",
    "marxes"
   ]
  },
  {
   "cell_type": "markdown",
   "metadata": {},
   "source": [
    "+=로도 병합할 수 있음"
   ]
  },
  {
   "cell_type": "code",
   "execution_count": 30,
   "metadata": {
    "collapsed": false
   },
   "outputs": [
    {
     "data": {
      "text/plain": [
       "['Groucho', 'Chico', 'Harpo', 'Zeppo', 'Gummo', 'Karl']"
      ]
     },
     "execution_count": 30,
     "metadata": {},
     "output_type": "execute_result"
    }
   ],
   "source": [
    "marxes = ['Groucho', 'Chico', 'Harpo', 'Zeppo']\n",
    "others = ['Gummo', 'Karl']\n",
    "marxes += others\n",
    "marxes"
   ]
  },
  {
   "cell_type": "markdown",
   "metadata": {},
   "source": [
    "append()를 사용하면 항목을 병합하지 않고 others가 하나의 리스트로 추가됨"
   ]
  },
  {
   "cell_type": "code",
   "execution_count": 31,
   "metadata": {
    "collapsed": false
   },
   "outputs": [
    {
     "data": {
      "text/plain": [
       "['Groucho', 'Chico', 'Harpo', 'Zeppo', ['Gummo', 'Karl']]"
      ]
     },
     "execution_count": 31,
     "metadata": {},
     "output_type": "execute_result"
    }
   ],
   "source": [
    "marxes = ['Groucho', 'Chico', 'Harpo', 'Zeppo']\n",
    "others = ['Gummo', 'Karl']\n",
    "marxes.append(others)\n",
    "marxes"
   ]
  },
  {
   "cell_type": "markdown",
   "metadata": {},
   "source": [
    "리스트가 다른 타입의 요소를 포함할 수 있다는 걸 보여줌 <br>\n",
    "marxes에는 4개의 문자열과 두 문자열의 리스트가 존재하게 됨\n",
    "\n",
    "### 3.2.9 오프셋과 insert( )로 항목 추가하기\n",
    "append() 함수는 단지 리스트의 끝에 항목을 추가하지만, insert()함수는 원하는 위치에 항목을 추가할 수 있음 <br>\n",
    "오프셋 0은 시작 지점에 항목을 삽입하고, 리스트의 끝을 넘는 오프셋은 append()처럼 끝에 항목 추가 <br>\n",
    "파이썬이 예외를 던질 걱정은 하지 않아도 됨!\n"
   ]
  },
  {
   "cell_type": "code",
   "execution_count": 35,
   "metadata": {
    "collapsed": false
   },
   "outputs": [
    {
     "data": {
      "text/plain": [
       "['Groucho', 'Chico', 'Harpo', 'Gummo', 'Zeppo']"
      ]
     },
     "execution_count": 35,
     "metadata": {},
     "output_type": "execute_result"
    }
   ],
   "source": [
    "marxes = ['Groucho', 'Chico', 'Harpo', 'Zeppo']\n",
    "marxes.insert(3, 'Gummo')\n",
    "marxes"
   ]
  },
  {
   "cell_type": "code",
   "execution_count": 36,
   "metadata": {
    "collapsed": false
   },
   "outputs": [
    {
     "data": {
      "text/plain": [
       "['Groucho', 'Chico', 'Harpo', 'Gummo', 'Zeppo', 'Karl']"
      ]
     },
     "execution_count": 36,
     "metadata": {},
     "output_type": "execute_result"
    }
   ],
   "source": [
    "marxes.insert(10, 'Karl')\n",
    "marxes"
   ]
  },
  {
   "cell_type": "markdown",
   "metadata": {},
   "source": [
    "### 3.2.10 오프셋으로 항목 삭제하기: del"
   ]
  },
  {
   "cell_type": "code",
   "execution_count": 37,
   "metadata": {
    "collapsed": false
   },
   "outputs": [
    {
     "data": {
      "text/plain": [
       "['Groucho', 'Chico', 'Harpo', 'Gummo', 'Zeppo']"
      ]
     },
     "execution_count": 37,
     "metadata": {},
     "output_type": "execute_result"
    }
   ],
   "source": [
    "del marxes[-1]\n",
    "marxes"
   ]
  },
  {
   "cell_type": "markdown",
   "metadata": {},
   "source": [
    "오프셋으로 리스트의 특정 항목을 삭제하면 제거된 항목 이후의 항목들이 한 칸씩 앞으로 당겨짐 <br>\n",
    "리스트의 길이도 1 감소함"
   ]
  },
  {
   "cell_type": "code",
   "execution_count": null,
   "metadata": {
    "collapsed": true
   },
   "outputs": [],
   "source": [
    "marxes = ['Groucho', 'Chico', 'Harpo', 'Gummo', 'Zeppo']\n",
    "marxes[2]"
   ]
  },
  {
   "cell_type": "code",
   "execution_count": null,
   "metadata": {
    "collapsed": true
   },
   "outputs": [],
   "source": [
    "del marxes[2]\n",
    "marxes"
   ]
  },
  {
   "cell_type": "code",
   "execution_count": null,
   "metadata": {
    "collapsed": true
   },
   "outputs": [],
   "source": [
    "marxes[2]"
   ]
  },
  {
   "cell_type": "markdown",
   "metadata": {},
   "source": [
    "#### NOTE_del은 리스트 함수가 아니라 파이썬 구문. marxes[-2].del을 수행할 수 없음\n",
    "### 3.2.11 값으로 항목 삭제하기: remove( )\n",
    "리스트에서 삭제할 항목의 위치를 모르는 경우, remove()와 값으로 그 항목 삭제 가능"
   ]
  },
  {
   "cell_type": "code",
   "execution_count": 38,
   "metadata": {
    "collapsed": false
   },
   "outputs": [
    {
     "data": {
      "text/plain": [
       "['Groucho', 'Chico', 'Harpo', 'Zeppo']"
      ]
     },
     "execution_count": 38,
     "metadata": {},
     "output_type": "execute_result"
    }
   ],
   "source": [
    "marxes = ['Groucho', 'Chico', 'Harpo', 'Gummo', 'Zeppo']\n",
    "marxes.remove('Gummo')\n",
    "marxes"
   ]
  },
  {
   "cell_type": "markdown",
   "metadata": {},
   "source": [
    "### 3.2.12 오프셋으로 항목을 얻은 후 삭제하기: pop( )\n",
    "pop()은 리스트에서 항목을 가져오는 동시에 그 항목을 삭제함 <br>\n",
    "오프셋과 함께 pop()을 호출했다면 그 오프셋의 항목이 반환됨 <br>\n",
    "pop(0)은 리스트의 head(시작)을 반환 <br>\n",
    "pop() 혹은 pop(-1)은 리스트의 tail(끝) 반환 <br>\n",
    "인자가 없다면 -1 사용해서 리스트의 끝을 반환함"
   ]
  },
  {
   "cell_type": "code",
   "execution_count": 39,
   "metadata": {
    "collapsed": false
   },
   "outputs": [
    {
     "data": {
      "text/plain": [
       "'Zeppo'"
      ]
     },
     "execution_count": 39,
     "metadata": {},
     "output_type": "execute_result"
    }
   ],
   "source": [
    "marxes = ['Groucho', 'Chico', 'Harpo', 'Zeppo']\n",
    "marxes.pop()"
   ]
  },
  {
   "cell_type": "code",
   "execution_count": 40,
   "metadata": {
    "collapsed": false
   },
   "outputs": [
    {
     "data": {
      "text/plain": [
       "['Groucho', 'Chico', 'Harpo']"
      ]
     },
     "execution_count": 40,
     "metadata": {},
     "output_type": "execute_result"
    }
   ],
   "source": [
    "marxes"
   ]
  },
  {
   "cell_type": "code",
   "execution_count": 41,
   "metadata": {
    "collapsed": false
   },
   "outputs": [
    {
     "data": {
      "text/plain": [
       "'Chico'"
      ]
     },
     "execution_count": 41,
     "metadata": {},
     "output_type": "execute_result"
    }
   ],
   "source": [
    "marxes.pop(1)"
   ]
  },
  {
   "cell_type": "code",
   "execution_count": 42,
   "metadata": {
    "collapsed": false
   },
   "outputs": [
    {
     "data": {
      "text/plain": [
       "['Groucho', 'Harpo']"
      ]
     },
     "execution_count": 42,
     "metadata": {},
     "output_type": "execute_result"
    }
   ],
   "source": [
    "marxes"
   ]
  },
  {
   "cell_type": "markdown",
   "metadata": {},
   "source": [
    "#### NOTE_컴퓨터 용어를 이야기해보자. 만약 append()로 새로운 항목을 끝에 추가한 뒤 pop()으로 다시 마지막 항목을 제거했다면, LIFO(Last In First Out, 후입선출) 자료구조인 스택(stack)을 구현한 것. pop(0)을 사용했다면 FIFO(First In First Out) 자료구조인 큐(queue)를 구현한 것\n",
    "수집한 데이터에서 가장 오래된 것을 먼저 사용(FIFO), 최근 것을 먼저 사용(LIFO)"
   ]
  },
  {
   "cell_type": "markdown",
   "metadata": {},
   "source": [
    "### 3.2.13 값으로 항목 오프셋 찾기: index( )\n",
    "항목 값의 리스트 오프셋을 알고 싶다면 index()를 사용하면 된다."
   ]
  },
  {
   "cell_type": "code",
   "execution_count": 43,
   "metadata": {
    "collapsed": false
   },
   "outputs": [
    {
     "data": {
      "text/plain": [
       "1"
      ]
     },
     "execution_count": 43,
     "metadata": {},
     "output_type": "execute_result"
    }
   ],
   "source": [
    "marxes = ['Groucho', 'Chico', 'Harpo', 'Zeppo']\n",
    "marxes.index('Chico')"
   ]
  },
  {
   "cell_type": "markdown",
   "metadata": {},
   "source": [
    "### 3.2.14 존재여부 확인하기: in\n",
    "리스트에서 어떤 값의 존재를 확인하려면 in을 사용"
   ]
  },
  {
   "cell_type": "code",
   "execution_count": 44,
   "metadata": {
    "collapsed": false
   },
   "outputs": [
    {
     "data": {
      "text/plain": [
       "True"
      ]
     },
     "execution_count": 44,
     "metadata": {},
     "output_type": "execute_result"
    }
   ],
   "source": [
    "marxes = ['Groucho', 'Chico', 'Harpo', 'Zeppo'] \n",
    "'Groucho' in marxes"
   ]
  },
  {
   "cell_type": "markdown",
   "metadata": {},
   "source": [
    "리스트에 같은 값이 여러 개 존재할 수 있음. 리스트에 값이 적어도 하나 존재하면 in은 True 반환"
   ]
  },
  {
   "cell_type": "code",
   "execution_count": 45,
   "metadata": {
    "collapsed": false
   },
   "outputs": [
    {
     "data": {
      "text/plain": [
       "True"
      ]
     },
     "execution_count": 45,
     "metadata": {},
     "output_type": "execute_result"
    }
   ],
   "source": [
    "words = ['a', 'deer', 'a' 'female', 'deer'] \n",
    "'deer' in words"
   ]
  },
  {
   "cell_type": "markdown",
   "metadata": {},
   "source": [
    "### 3.2.15 값 세기: count( )\n",
    "리스트에 특정 값이 얼마나 있는지 세기 위해서 count()를 사용"
   ]
  },
  {
   "cell_type": "code",
   "execution_count": 46,
   "metadata": {
    "collapsed": false
   },
   "outputs": [
    {
     "data": {
      "text/plain": [
       "1"
      ]
     },
     "execution_count": 46,
     "metadata": {},
     "output_type": "execute_result"
    }
   ],
   "source": [
    "marxes = ['Groucho', 'Chico', 'Harpo']\n",
    "marxes.count('Harpo')"
   ]
  },
  {
   "cell_type": "markdown",
   "metadata": {},
   "source": [
    "### 3.2.16 문자열로 변환하기: join( )\n",
    "2.3.10절에서 더 자세히 나와있으니 패스하려 했으나 예제 하나만 보고 갑시다"
   ]
  },
  {
   "cell_type": "code",
   "execution_count": 47,
   "metadata": {
    "collapsed": false
   },
   "outputs": [
    {
     "data": {
      "text/plain": [
       "'Groucho, Chico, Harpo'"
      ]
     },
     "execution_count": 47,
     "metadata": {},
     "output_type": "execute_result"
    }
   ],
   "source": [
    "marxes = ['Groucho', 'Chico', 'Harpo']\n",
    "', '.join(marxes)"
   ]
  },
  {
   "cell_type": "markdown",
   "metadata": {},
   "source": [
    "join( )은 문자열 메서드! 리스트 메서드가 아님. <br>\n",
    "marxes.join(', ')이 조금 더 직관적으로 보여도 이렇게 사용 불가!\n",
    "join( )의 인자는 문자열 혹은 반복 가능한 문자열의 시퀀스(리스트 포함)\n",
    "결과로 반환되는 값은 문자열\n",
    "join( )은 split( )의 반대라고 생각하면 기억하기 쉬워요"
   ]
  },
  {
   "cell_type": "code",
   "execution_count": 48,
   "metadata": {
    "collapsed": false
   },
   "outputs": [
    {
     "data": {
      "text/plain": [
       "'Harry * Hermione * Ron'"
      ]
     },
     "execution_count": 48,
     "metadata": {},
     "output_type": "execute_result"
    }
   ],
   "source": [
    "friends = ['Harry', 'Hermione', 'Ron']\n",
    "separator = ' * '\n",
    "joined = separator.join(friends)\n",
    "joined"
   ]
  },
  {
   "cell_type": "code",
   "execution_count": 49,
   "metadata": {
    "collapsed": false
   },
   "outputs": [
    {
     "data": {
      "text/plain": [
       "['Harry', 'Hermione', 'Ron']"
      ]
     },
     "execution_count": 49,
     "metadata": {},
     "output_type": "execute_result"
    }
   ],
   "source": [
    "separated = joined.split(separator)\n",
    "separated"
   ]
  },
  {
   "cell_type": "code",
   "execution_count": 50,
   "metadata": {
    "collapsed": false
   },
   "outputs": [
    {
     "data": {
      "text/plain": [
       "True"
      ]
     },
     "execution_count": 50,
     "metadata": {},
     "output_type": "execute_result"
    }
   ],
   "source": [
    "separated == friends"
   ]
  },
  {
   "cell_type": "markdown",
   "metadata": {},
   "source": [
    "### 3.2.17 정렬하기: sort( )\n",
    "오프셋을 이용해서 리스트를 정렬할 때도 있지만 값을 이용해서 리스트를 정렬할 때도 있음 <br>\n",
    "파이썬은 두 가지 함수를 제공함\n",
    "- sort()는 리스트 자체를 내부적으로 정렬\n",
    "- sorted()는 리스트의 정렬된 복사본을 반환\n",
    "\n",
    "리스트의 항목이 숫자인 경우, 기본적으로 오름차순으로 정렬 <br>\n",
    "문자열인 경우, 알파벳 순으로 정렬"
   ]
  },
  {
   "cell_type": "code",
   "execution_count": 51,
   "metadata": {
    "collapsed": false
   },
   "outputs": [
    {
     "data": {
      "text/plain": [
       "['Chico', 'Groucho', 'Harpo']"
      ]
     },
     "execution_count": 51,
     "metadata": {},
     "output_type": "execute_result"
    }
   ],
   "source": [
    "marxes = ['Groucho', 'Chico', 'Harpo']\n",
    "sorted_marxes = sorted(marxes)\n",
    "sorted_marxes"
   ]
  },
  {
   "cell_type": "markdown",
   "metadata": {},
   "source": [
    "sorted_marxes는 복사본, 원본 리스트는 변하지 않음"
   ]
  },
  {
   "cell_type": "code",
   "execution_count": 52,
   "metadata": {
    "collapsed": false
   },
   "outputs": [
    {
     "data": {
      "text/plain": [
       "['Groucho', 'Chico', 'Harpo']"
      ]
     },
     "execution_count": 52,
     "metadata": {},
     "output_type": "execute_result"
    }
   ],
   "source": [
    "marxes"
   ]
  },
  {
   "cell_type": "markdown",
   "metadata": {},
   "source": [
    "sort( )는 marxes를 정렬된 marxes로 바꿈"
   ]
  },
  {
   "cell_type": "code",
   "execution_count": 53,
   "metadata": {
    "collapsed": true
   },
   "outputs": [],
   "source": [
    "marxes.sort()"
   ]
  },
  {
   "cell_type": "code",
   "execution_count": 54,
   "metadata": {
    "collapsed": false
   },
   "outputs": [
    {
     "data": {
      "text/plain": [
       "['Chico', 'Groucho', 'Harpo']"
      ]
     },
     "execution_count": 54,
     "metadata": {},
     "output_type": "execute_result"
    }
   ],
   "source": [
    "marxes"
   ]
  },
  {
   "cell_type": "markdown",
   "metadata": {},
   "source": [
    "리스트의 요소들이 모두 같은 타입인 경우, sort( )는 제대로 동작함 <br>\n",
    "정수와 부동소수점수 같이 혼합된 타입도 정렬 가능, 파이썬이 자동으로 형변환해서 항목 정렬함"
   ]
  },
  {
   "cell_type": "code",
   "execution_count": 55,
   "metadata": {
    "collapsed": false
   },
   "outputs": [
    {
     "data": {
      "text/plain": [
       "[1, 2, 3, 4.0]"
      ]
     },
     "execution_count": 55,
     "metadata": {},
     "output_type": "execute_result"
    }
   ],
   "source": [
    "numbers = [2, 1, 4.0, 3]\n",
    "numbers.sort()\n",
    "numbers"
   ]
  },
  {
   "cell_type": "markdown",
   "metadata": {},
   "source": [
    "기본 정렬 방식은 오름차순, 내림차순으로 정렬하고 싶다면 인자에 reverse=True 추가"
   ]
  },
  {
   "cell_type": "code",
   "execution_count": 56,
   "metadata": {
    "collapsed": false
   },
   "outputs": [
    {
     "data": {
      "text/plain": [
       "[4.0, 3, 2, 1]"
      ]
     },
     "execution_count": 56,
     "metadata": {},
     "output_type": "execute_result"
    }
   ],
   "source": [
    "numbers = [2, 1, 4.0, 3]\n",
    "numbers.sort(reverse=True)\n",
    "numbers"
   ]
  },
  {
   "cell_type": "markdown",
   "metadata": {},
   "source": [
    "### 3.2.18 항목 개수 얻기: len( )\n",
    "len( )은 리스트의 항목 수 반환"
   ]
  },
  {
   "cell_type": "code",
   "execution_count": 57,
   "metadata": {
    "collapsed": false
   },
   "outputs": [
    {
     "data": {
      "text/plain": [
       "3"
      ]
     },
     "execution_count": 57,
     "metadata": {},
     "output_type": "execute_result"
    }
   ],
   "source": [
    "marxes = ['Groucho', 'Chico', 'Harpo']\n",
    "len(marxes)"
   ]
  },
  {
   "cell_type": "markdown",
   "metadata": {},
   "source": [
    "### 3.2.19 할당: =, 복사: copy( )\n",
    "한 리스트를 변수 두 곳에 할당했을 경우, 한 리스트를 변경하면 다른 리스트도 따라서 변경"
   ]
  },
  {
   "cell_type": "code",
   "execution_count": 58,
   "metadata": {
    "collapsed": false
   },
   "outputs": [
    {
     "data": {
      "text/plain": [
       "[1, 2, 3]"
      ]
     },
     "execution_count": 58,
     "metadata": {},
     "output_type": "execute_result"
    }
   ],
   "source": [
    "a=[1, 2, 3] \n",
    "a"
   ]
  },
  {
   "cell_type": "code",
   "execution_count": 59,
   "metadata": {
    "collapsed": false
   },
   "outputs": [
    {
     "data": {
      "text/plain": [
       "[1, 2, 3]"
      ]
     },
     "execution_count": 59,
     "metadata": {},
     "output_type": "execute_result"
    }
   ],
   "source": [
    "b = a\n",
    "b"
   ]
  },
  {
   "cell_type": "code",
   "execution_count": 60,
   "metadata": {
    "collapsed": false
   },
   "outputs": [
    {
     "data": {
      "text/plain": [
       "['surprise', 2, 3]"
      ]
     },
     "execution_count": 60,
     "metadata": {},
     "output_type": "execute_result"
    }
   ],
   "source": [
    "a[0] = 'surprise'\n",
    "a"
   ]
  },
  {
   "cell_type": "code",
   "execution_count": 61,
   "metadata": {
    "collapsed": false
   },
   "outputs": [
    {
     "data": {
      "text/plain": [
       "['surprise', 2, 3]"
      ]
     },
     "execution_count": 61,
     "metadata": {},
     "output_type": "execute_result"
    }
   ],
   "source": [
    "b"
   ]
  },
  {
   "cell_type": "markdown",
   "metadata": {},
   "source": [
    "2장에서 변수를 포스트잇에 비유한 걸 기억하시나요? <br>\n",
    "b는 단지 같은 리스트 객체의 a를 참조함. 그러므로 a 혹은 b 리스트의 내용을 변경하면 두 변수 모두에 반영됨"
   ]
  },
  {
   "cell_type": "code",
   "execution_count": 62,
   "metadata": {
    "collapsed": false
   },
   "outputs": [
    {
     "data": {
      "text/plain": [
       "['I hate surprises', 2, 3]"
      ]
     },
     "execution_count": 62,
     "metadata": {},
     "output_type": "execute_result"
    }
   ],
   "source": [
    "b[0] = 'I hate surprises'\n",
    "b"
   ]
  },
  {
   "cell_type": "code",
   "execution_count": 63,
   "metadata": {
    "collapsed": false
   },
   "outputs": [
    {
     "data": {
      "text/plain": [
       "['I hate surprises', 2, 3]"
      ]
     },
     "execution_count": 63,
     "metadata": {},
     "output_type": "execute_result"
    }
   ],
   "source": [
    "a"
   ]
  },
  {
   "cell_type": "markdown",
   "metadata": {},
   "source": [
    "#### 한 리스트를 새로운 리스트로 복사 가능!\n",
    "- copy() 함수\n",
    "- list() 변환 함수\n",
    "- 슬라이스 [:]"
   ]
  },
  {
   "cell_type": "code",
   "execution_count": 64,
   "metadata": {
    "collapsed": true
   },
   "outputs": [],
   "source": [
    "a = [1,2,3] \n",
    "b = a.copy()\n",
    "c = list(a)\n",
    "d = a[:]"
   ]
  },
  {
   "cell_type": "markdown",
   "metadata": {},
   "source": [
    "b, c, d는 a의 복사본이고 자신만의 값을 가진 새로운 객체이므로 복사본 b, c, d를 바꾸더라도 원본 a에는 아무런 영향이 없음"
   ]
  },
  {
   "cell_type": "code",
   "execution_count": 65,
   "metadata": {
    "collapsed": false
   },
   "outputs": [
    {
     "data": {
      "text/plain": [
       "['integer lists are boring', 2, 3]"
      ]
     },
     "execution_count": 65,
     "metadata": {},
     "output_type": "execute_result"
    }
   ],
   "source": [
    "a[0] = 'integer lists are boring'\n",
    "a"
   ]
  },
  {
   "cell_type": "code",
   "execution_count": 66,
   "metadata": {
    "collapsed": false
   },
   "outputs": [
    {
     "data": {
      "text/plain": [
       "[1, 2, 3]"
      ]
     },
     "execution_count": 66,
     "metadata": {},
     "output_type": "execute_result"
    }
   ],
   "source": [
    "b"
   ]
  },
  {
   "cell_type": "code",
   "execution_count": 67,
   "metadata": {
    "collapsed": false
   },
   "outputs": [
    {
     "data": {
      "text/plain": [
       "[1, 2, 3]"
      ]
     },
     "execution_count": 67,
     "metadata": {},
     "output_type": "execute_result"
    }
   ],
   "source": [
    "c"
   ]
  },
  {
   "cell_type": "code",
   "execution_count": 68,
   "metadata": {
    "collapsed": false
   },
   "outputs": [
    {
     "data": {
      "text/plain": [
       "[1, 2, 3]"
      ]
     },
     "execution_count": 68,
     "metadata": {},
     "output_type": "execute_result"
    }
   ],
   "source": [
    "d"
   ]
  },
  {
   "cell_type": "markdown",
   "metadata": {},
   "source": [
    "## 3.3 튜플\n",
    "리스트와 다르게 튜플은 불변, 튜플을 정의한 후에 추가, 삭제, 수정 불가 <br>\n",
    "튜플은 상수의 리스트라고 할 수 있음"
   ]
  },
  {
   "cell_type": "markdown",
   "metadata": {},
   "source": [
    "### 3.3.1 튜플 생성하기: ( )"
   ]
  },
  {
   "cell_type": "markdown",
   "metadata": {},
   "source": [
    "튜플의 구문은 리스트와 조금 다름<br>\n",
    "먼저 ( )로 튜플 만들어보자"
   ]
  },
  {
   "cell_type": "code",
   "execution_count": null,
   "metadata": {
    "collapsed": true
   },
   "outputs": [],
   "source": [
    "empty_tuple = ( )\n",
    "empty_tuple"
   ]
  },
  {
   "cell_type": "markdown",
   "metadata": {},
   "source": [
    "하나 이상의 요소가 있는 튜플 만들려면 각 요소 뒤에 콤마(,) 붙임"
   ]
  },
  {
   "cell_type": "code",
   "execution_count": null,
   "metadata": {
    "collapsed": true
   },
   "outputs": [],
   "source": [
    "one_marx = 'Groucho',\n",
    "one_marx"
   ]
  },
  {
   "cell_type": "markdown",
   "metadata": {},
   "source": [
    "두 개 이상의 요소가 있을 경우, 마지막 요소에는 콤마를 붙이지 않음"
   ]
  },
  {
   "cell_type": "code",
   "execution_count": null,
   "metadata": {
    "collapsed": true
   },
   "outputs": [],
   "source": [
    "marx_tuple = 'Groucho', 'Chico', 'Harpo'\n",
    "marx_tuple"
   ]
  },
  {
   "cell_type": "markdown",
   "metadata": {},
   "source": [
    "파이썬은 튜플을 출력할 때 괄호 ( )를 포함, 튜플을 정의할 때는 괄호 ( )가 필요없음 <br>\n",
    "뒤에 콤마가 붙는다는 건 튜플을 정의한다는 뜻<br>\n",
    "그래도 값들을 괄호로 묶어 튜플을 정의하는 게 구분하기 더 쉬움"
   ]
  },
  {
   "cell_type": "code",
   "execution_count": null,
   "metadata": {
    "collapsed": true
   },
   "outputs": [],
   "source": [
    "marx_tuple = ('Groucho', 'Chico', 'Harpo')\n",
    "marx_tuple"
   ]
  },
  {
   "cell_type": "markdown",
   "metadata": {},
   "source": [
    "튜플은 한 번에 여러 번수 할당 가능"
   ]
  },
  {
   "cell_type": "code",
   "execution_count": null,
   "metadata": {
    "collapsed": true
   },
   "outputs": [],
   "source": [
    "marx_tuple = ('Groucho', 'Chico', 'Harpo')\n",
    "a, b, c = marx_tuple\n",
    "a"
   ]
  },
  {
   "cell_type": "code",
   "execution_count": null,
   "metadata": {
    "collapsed": true
   },
   "outputs": [],
   "source": [
    "b"
   ]
  },
  {
   "cell_type": "code",
   "execution_count": null,
   "metadata": {
    "collapsed": true
   },
   "outputs": [],
   "source": [
    "c"
   ]
  },
  {
   "cell_type": "markdown",
   "metadata": {},
   "source": [
    "이것을 튜플 언패킹이라고 부름 <br>\n",
    "\n",
    "한 문장에서 값을 교환하기 위해 임시 변수를 사용하지 않고 튜플 사용 가능"
   ]
  },
  {
   "cell_type": "code",
   "execution_count": null,
   "metadata": {
    "collapsed": true
   },
   "outputs": [],
   "source": [
    "password = 'swordfish'\n",
    "icecream = 'tuttifrutti'\n",
    "password, icecream = icecream, password\n",
    "password"
   ]
  },
  {
   "cell_type": "code",
   "execution_count": null,
   "metadata": {
    "collapsed": true
   },
   "outputs": [],
   "source": [
    "icecream"
   ]
  },
  {
   "cell_type": "markdown",
   "metadata": {},
   "source": [
    "tuple( )은 다른 객체를 튜플로 만들어줌"
   ]
  },
  {
   "cell_type": "code",
   "execution_count": null,
   "metadata": {
    "collapsed": true
   },
   "outputs": [],
   "source": [
    "marx_list = ['Groucho', 'Chico', 'Harpo']\n",
    "tuple(marx_list)"
   ]
  },
  {
   "cell_type": "markdown",
   "metadata": {},
   "source": [
    "### 3.3.2 튜플과 리스트\n",
    "리스트 대신해서 튜플 사용 가능. <br>\n",
    "하지만 튜플은 리스트의 append(), insert() 등과 같은 함수 없고 함수의 수 매우 적음 <br>\n",
    "튜플을 생성 후에 수정할 수 없음. 그러면 왜 이런 튜플을 사용할까?\n",
    "- 튜플은 더 적은 공간 사용\n",
    "- 실수로 튜플의 항목이 손상될 염려가 없음\n",
    "- 튜플을 딕셔너리 키로 사용가능 (딕셔너리는 다음 절에서 다룸)\n",
    "- 네임드 튜플(named tuple)은 객체의 간단한 대안 될 수 있음\n",
    "- 함수의 인자들은 튜플로 전달됨\n",
    "일반적으로 리스트와 딕셔너리를 더 많이 사용함\n",
    "\n",
    "## 3.4 딕셔너리\n",
    "딕셔너리는 리스트와 비슷. \n",
    "다른 점은 항목의 순서를 따지지 않으며, 0 또는 1과 같은 오프셋으로 항목을 선택 불가 <br>\n",
    "값(value)에 상응하는 고유한 키(key)를 지정함<br>\n",
    "키는 대부분 문자열이지만, 불변하는 파이썬의 어떤 타입(부울, 정수, 부동소수점수, 튜플, 문자열, 책 뒤에서 보게될 다른 것들)이 될 수 있음 <br>\n",
    "딕셔너리는 변경 가능해서 키-값 요소를 추가, 삭제, 수정 가능\n",
    "\n",
    "#### NOTE_다른 언어에서는 딕셔너리를 연관 배열(associative array), 해시(hash), 해시맵(hashmap)이라 부름. \n",
    "#### 파이썬에서는 딕트(dict)라고도 부름\n",
    "\n",
    "### 3.4.1 딕셔너리 생성하기: { }\n",
    "딕셔너리를 생성하기 위해선 중괄호({ }) 안에 콤마로 구분된 키:값 쌍을 지정 <br>\n",
    "빈 딕셔너리 만들어보면"
   ]
  },
  {
   "cell_type": "code",
   "execution_count": null,
   "metadata": {
    "collapsed": true
   },
   "outputs": [],
   "source": [
    "empty_dict = {}\n",
    "empty_dict"
   ]
  },
  {
   "cell_type": "code",
   "execution_count": null,
   "metadata": {
    "collapsed": true
   },
   "outputs": [],
   "source": [
    "bierce = {\n",
    "    ...     \"day\": \"A period of twenty-four hours, mostly misspent\",\n",
    "    ...     \"positive\": \"Mistaken at the top of one's voice\",\n",
    "    ...     \"misfortune\": \"The kind of fortune that never misses\",\n",
    "    ...     }\n",
    "bierce"
   ]
  },
  {
   "cell_type": "markdown",
   "metadata": {},
   "source": [
    "#### NOTE_리스트, 튜플, 딕셔너리의 마지막 항목에는 콤마를 입력하지 않아도 됨\n",
    "#### 키와 값을 입력할 때 중괄호 내에서 들여쓰기를 반드시 할 필요는 없음. 들여쓰기를 하면 가독성만 좋아질 뿐\n",
    "\n",
    "### 3.4.2 딕셔너리로 변환하기: dict( )\n",
    "dict( )함수를 사용해서 두 값으로 이루어진 시퀀스를 딕셔너리로 변환 가능 <br>\n",
    "예를 들면 'Strontium, 90, Carbon, 14'을 키:값으로 된 시퀀스로 변환 가능 <br>\n",
    "각 시퀀스의 첫 번째 항목은 키(key)로, 두 번째 항목은 값(value)으로 사용"
   ]
  },
  {
   "cell_type": "code",
   "execution_count": null,
   "metadata": {
    "collapsed": true
   },
   "outputs": [],
   "source": [
    "lol = [ ['a', 'b'], ['c', 'd'], ['e', 'f'] ]\n",
    "dict(lol)"
   ]
  },
  {
   "cell_type": "markdown",
   "metadata": {},
   "source": [
    "#### NOTE_딕셔너리의 키 순서는 임의적. 항목을 어떻게 추가하느냐에 따라 순서가 달라질 수 있음\n",
    "두 항목 튜플로 된 리스트"
   ]
  },
  {
   "cell_type": "code",
   "execution_count": null,
   "metadata": {
    "collapsed": true
   },
   "outputs": [],
   "source": [
    "lot = [ ('a', 'b'), ('c', 'd'), ('e', 'f') ]\n",
    "dict(lot)"
   ]
  },
  {
   "cell_type": "markdown",
   "metadata": {},
   "source": [
    "두 항목 리스트로 된 튜플"
   ]
  },
  {
   "cell_type": "code",
   "execution_count": null,
   "metadata": {
    "collapsed": true
   },
   "outputs": [],
   "source": [
    "tol = ( ['a', 'b'], ['c', 'd'], ['e', 'f'] )\n",
    "dict(tol)"
   ]
  },
  {
   "cell_type": "markdown",
   "metadata": {},
   "source": [
    "두 문자 문자열로 된 리스트"
   ]
  },
  {
   "cell_type": "code",
   "execution_count": null,
   "metadata": {
    "collapsed": true
   },
   "outputs": [],
   "source": [
    "los = [ 'ab', 'cd', 'ef' ]\n",
    "dict(los)"
   ]
  },
  {
   "cell_type": "markdown",
   "metadata": {},
   "source": [
    "두 문자 문자열로 된 튜플"
   ]
  },
  {
   "cell_type": "code",
   "execution_count": null,
   "metadata": {
    "collapsed": true
   },
   "outputs": [],
   "source": [
    "tos = ( 'ab', 'cd', 'ef' )\n",
    "dict(tos)"
   ]
  },
  {
   "cell_type": "markdown",
   "metadata": {},
   "source": [
    "4.5.4절 '여러 시퀀스 순회하기: zip()'에서 두 항목 시퀀스를 쉽게 생성하는 법에 대해 설명함\n",
    "\n",
    "### 3.4.3 항목 추가/변경하기: [key]\n",
    "딕셔너리에 항목을 추가하려면 키에 의해 참조되는 항목에 값 할당하면 됨 <br>\n",
    "키가 딕셔너리에 이미 존재하는 경우, 그 값은 새 값으로 대체됨 <br>\n",
    "키가 존재하지 않는 경우, 새 값이 키와 사전에 추가됨 <br>\n",
    "리스트와 달리 딕셔너리를 할당할 땐 인덱스의 범위 지정이 벗어났다는 예외 걱정할 필요 없음!\n",
    "\n",
    "이제 영국의 희극단, 몬티 파이튼 멤버의 성을 키로, 이름을 값으로 하는 딕셔너리 만든 예제를 보자."
   ]
  },
  {
   "cell_type": "code",
   "execution_count": null,
   "metadata": {
    "collapsed": true
   },
   "outputs": [],
   "source": [
    "pythons = {\n",
    "    ...     'Chapman': 'Graham',\n",
    "    ...     'Cleese': 'John',\n",
    "    ...     'Idle': 'Eric',\n",
    "    ...     'Jones': 'Terry',\n",
    "    ...     'Palin': 'Michael',\n",
    "    ...     }\n",
    "pythons"
   ]
  },
  {
   "cell_type": "markdown",
   "metadata": {},
   "source": [
    "Terry Gilliam이라는 멤버가 빠져서 추가해야 하는데 이름을 Gerry라고 잘못 입력함"
   ]
  },
  {
   "cell_type": "code",
   "execution_count": null,
   "metadata": {
    "collapsed": true
   },
   "outputs": [],
   "source": [
    "pythons['Gilliam'] = 'Gerry'\n",
    "pythons"
   ]
  },
  {
   "cell_type": "markdown",
   "metadata": {},
   "source": [
    "다른 프로그래머가 이름 수정했다고 한다..또륵"
   ]
  },
  {
   "cell_type": "code",
   "execution_count": null,
   "metadata": {
    "collapsed": true
   },
   "outputs": [],
   "source": [
    "pythons['Gilliam'] = 'Terry'\n",
    "pythons"
   ]
  },
  {
   "cell_type": "markdown",
   "metadata": {},
   "source": [
    "같은 키('Gilliam')을 사용해서 Gerry를 Terry로 바꿨음 <br>\n",
    "딕셔너리의 키들은 반드시 유일해야함, 그래서 성 대신에 이름을 키(key)로 사용.. <br>\n",
    "두 멤버의 성이 'terry'! 같은 키를 두 번 이상 사용하면 마지막 값이 승리!"
   ]
  },
  {
   "cell_type": "code",
   "execution_count": null,
   "metadata": {
    "collapsed": true
   },
   "outputs": [],
   "source": [
    "some_pythons = {\n",
    "    ...     'Graham': 'Chapman',\n",
    "    ...     'John': 'Cleese',\n",
    "    ...     'Eric': 'Idle',\n",
    "    ...     'Terry': 'Gilliam',\n",
    "    ...     'Michael': 'Palin',\n",
    "    ...     'Terry': 'Jones',\n",
    "    ...     }\n",
    "some_pythons"
   ]
  },
  {
   "cell_type": "markdown",
   "metadata": {},
   "source": [
    "먼저 'Gilliam' 값을 Terry 키에 할당함. 그리고 그 값을 Jones로 바꿨음\n",
    "\n",
    "### 3.4.4 딕셔너리 결합하기: update( )\n",
    "update( )함수는 한 딕셔너리의 키와 값들을 복사해서 다른 딕셔너리에 붙여줌"
   ]
  },
  {
   "cell_type": "code",
   "execution_count": null,
   "metadata": {
    "collapsed": true
   },
   "outputs": [],
   "source": [
    "pythons = {\n",
    "    ...     'Chapman': 'Graham',\n",
    "    ...     'Cleese': 'John',\n",
    "    ...     'Gilliam': 'Terry',\n",
    "    ...     'Idle': 'Eric',\n",
    "    ...     'Jones': 'Terry',\n",
    "    ...     'Palin': 'Michael',\n",
    "    ...     }\n",
    "pythons"
   ]
  },
  {
   "cell_type": "markdown",
   "metadata": {},
   "source": [
    "이제 다른 유머러스한 사람들을 others라 불리는 딕셔너리에 넣어봅시다"
   ]
  },
  {
   "cell_type": "code",
   "execution_count": null,
   "metadata": {
    "collapsed": true
   },
   "outputs": [],
   "source": [
    "others = { 'Marx': 'Groucho', 'Howard': 'Moe' }"
   ]
  },
  {
   "cell_type": "markdown",
   "metadata": {},
   "source": [
    "다른 유머러스한 사람들이 몬티 파이튼 멤버라고 착각해버림"
   ]
  },
  {
   "cell_type": "code",
   "execution_count": null,
   "metadata": {
    "collapsed": true
   },
   "outputs": [],
   "source": [
    "pythons.update(others)\n",
    "pythons"
   ]
  },
  {
   "cell_type": "markdown",
   "metadata": {},
   "source": [
    "#### 두 번째 딕셔너리를 첫 번째 딕셔너리에 병합하려고 할 때, 두 딕셔너리에 같은 키 값이 있다면? <br>\n",
    "두 번째 딕셔너리에 있는 값이 승리함"
   ]
  },
  {
   "cell_type": "code",
   "execution_count": null,
   "metadata": {
    "collapsed": true
   },
   "outputs": [],
   "source": [
    "first = {'a': 1, 'b': 2}\n",
    "second = {'b': 'platypus'}\n",
    "first.update(second)\n",
    "first"
   ]
  },
  {
   "cell_type": "markdown",
   "metadata": {},
   "source": [
    "### 3.4.5 키와 del로 항목 삭제하기\n",
    "마지막에 추가된 '다른 유머러스한 사람들'을 삭제하자"
   ]
  },
  {
   "cell_type": "code",
   "execution_count": null,
   "metadata": {
    "collapsed": true
   },
   "outputs": [],
   "source": [
    "del pythons['Marx']\n",
    "pythons"
   ]
  },
  {
   "cell_type": "code",
   "execution_count": null,
   "metadata": {
    "collapsed": true
   },
   "outputs": [],
   "source": [
    "del pythons['Howard']\n",
    "pythons"
   ]
  },
  {
   "cell_type": "markdown",
   "metadata": {},
   "source": [
    "### 3.4.6 모든 항목 삭제하기: clear( )\n",
    "딕셔너리에 있는 키와 값을 모두 삭제하기 위해선 Clear( )를 사용하거나 빈 딕셔너리({})를 이름에 할당"
   ]
  },
  {
   "cell_type": "code",
   "execution_count": null,
   "metadata": {
    "collapsed": true
   },
   "outputs": [],
   "source": [
    "pythons.clear()\n",
    "pythons"
   ]
  },
  {
   "cell_type": "code",
   "execution_count": null,
   "metadata": {
    "collapsed": true
   },
   "outputs": [],
   "source": [
    "pythons = {}\n",
    "pythons"
   ]
  },
  {
   "cell_type": "markdown",
   "metadata": {},
   "source": [
    "### 3.4.7 in으로 키 멤버십 테스트하기\n",
    "딕셔너리에 키가 존재하는지 알고 싶다면 in 사용"
   ]
  },
  {
   "cell_type": "code",
   "execution_count": null,
   "metadata": {
    "collapsed": true
   },
   "outputs": [],
   "source": [
    "pythons = {'Chapman': 'Graham', 'Cleese': 'John',\n",
    "    'Jones': 'Terry', 'Palin': 'Michael'}\n",
    "'Champman' in pythons"
   ]
  },
  {
   "cell_type": "code",
   "execution_count": null,
   "metadata": {
    "collapsed": true
   },
   "outputs": [],
   "source": [
    "'Palin' in pythons"
   ]
  },
  {
   "cell_type": "code",
   "execution_count": null,
   "metadata": {
    "collapsed": true
   },
   "outputs": [],
   "source": [
    "'Gilliam' in pythons"
   ]
  },
  {
   "cell_type": "markdown",
   "metadata": {},
   "source": [
    "### 3.4.8 항목 얻기: [key]\n",
    "딕셔너리에 키를 지정해 상응하는 값을 얻음"
   ]
  },
  {
   "cell_type": "code",
   "execution_count": null,
   "metadata": {
    "collapsed": true
   },
   "outputs": [],
   "source": [
    "pythons['Cleese']"
   ]
  },
  {
   "cell_type": "markdown",
   "metadata": {},
   "source": [
    "딕셔너리에 키가 존재하지 않으면 예외를 얻게 됨"
   ]
  },
  {
   "cell_type": "code",
   "execution_count": null,
   "metadata": {
    "collapsed": true
   },
   "outputs": [],
   "source": [
    "pythons['Marx']"
   ]
  },
  {
   "cell_type": "markdown",
   "metadata": {},
   "source": [
    "이 문제를 피하려면 두 가지 방법이 있는데 \n",
    "- 첫 번째는 in으로 키에 대한 멤버십 테스트 실행\n",
    "- 두 번째는 딕셔너리의 get( )함수 사용 <br>\n",
    "딕셔너리의 get( )함수는 딕셔너리, 키, 옵션값을 사용 <br>\n",
    "키가 존재하면 값을 얻지만, 키가 존재하지 않으면 옵션값을 지정해서 출력 가능"
   ]
  },
  {
   "cell_type": "code",
   "execution_count": null,
   "metadata": {
    "collapsed": true
   },
   "outputs": [],
   "source": [
    "pythons.get('Cleese')"
   ]
  },
  {
   "cell_type": "code",
   "execution_count": null,
   "metadata": {
    "collapsed": true
   },
   "outputs": [],
   "source": [
    "pythons.get('Marx', 'Not a Python')"
   ]
  },
  {
   "cell_type": "markdown",
   "metadata": {},
   "source": [
    "옵션값을 지정하지 않으면 None을 얻음. 대화식 인터프리터에 아무 것도 표시되지 않음"
   ]
  },
  {
   "cell_type": "code",
   "execution_count": null,
   "metadata": {
    "collapsed": true
   },
   "outputs": [],
   "source": [
    "pythons.get('Marx')"
   ]
  },
  {
   "cell_type": "markdown",
   "metadata": {},
   "source": [
    "### 3.4.9 모든 키 얻기: keys( )\n",
    "딕셔너리의 모든 키를 가져오기 위해선 keys( )를 사용"
   ]
  },
  {
   "cell_type": "code",
   "execution_count": null,
   "metadata": {
    "collapsed": true
   },
   "outputs": [],
   "source": [
    "signals = {'green': 'go', 'yellow': 'go faster', 'red': 'smile for the camera'}\n",
    "signals.keys()"
   ]
  },
  {
   "cell_type": "markdown",
   "metadata": {},
   "source": [
    "#### NOTE_파이썬3에서는 순회 가능한(iterable) 키를 보여주는 dict_keys( )를 반환하는데, 사용되지 않을 리스트를 생선하고 저장하기 위한 메모리와 시간을 소비하지 않으므로 아주 큰 딕셔너리에 유용함\n",
    "#### dict_keys 객체를 실제 리스트로 쓰고 싶다면 list( ) 호출"
   ]
  },
  {
   "cell_type": "code",
   "execution_count": null,
   "metadata": {
    "collapsed": true
   },
   "outputs": [],
   "source": [
    "list(signals.keys())"
   ]
  },
  {
   "cell_type": "markdown",
   "metadata": {},
   "source": [
    "#### 파이썬3에서는 values()나 items()의 결과를 일반적인 리스트로 변환하기 위해 list() 함수를 사용"
   ]
  },
  {
   "cell_type": "markdown",
   "metadata": {},
   "source": [
    "### 3.4.10 모든 값 얻기: values( )\n",
    "딕셔너리의 모든 값을 가져오기 위해선 values( )를 사용"
   ]
  },
  {
   "cell_type": "code",
   "execution_count": null,
   "metadata": {
    "collapsed": true
   },
   "outputs": [],
   "source": [
    "list(signals.values())"
   ]
  },
  {
   "cell_type": "markdown",
   "metadata": {},
   "source": [
    "### 3.4.11 모든 쌍의 키-값 얻기: items( )\n",
    "딕셔너리의 모든 쌍의 키와 값을 얻기 위해선 items( )를 사용"
   ]
  },
  {
   "cell_type": "code",
   "execution_count": null,
   "metadata": {
    "collapsed": true
   },
   "outputs": [],
   "source": [
    "list(signals.items())"
   ]
  },
  {
   "cell_type": "markdown",
   "metadata": {},
   "source": [
    "각 키와 값은 ('green', 'go')와 같이 튜플로 반환됨\n",
    "\n",
    "### 3.4.12 할당: =, 복사: copy( )\n",
    "리스트와 마찬가지로, 딕셔너리를 할당한 후 변경할 때 딕셔너리를 참조하는 모든 이름에 변경된 딕셔너리를 반영함"
   ]
  },
  {
   "cell_type": "code",
   "execution_count": null,
   "metadata": {
    "collapsed": true
   },
   "outputs": [],
   "source": [
    "signals = {'green': 'go', 'yellow': 'go faster', 'red': 'smile for the camera'}\n",
    "save_signals = signals\n",
    "signals['blue'] = 'confuse everyone'\n",
    "save_signals"
   ]
  },
  {
   "cell_type": "markdown",
   "metadata": {},
   "source": [
    "딕셔너리의 키와 값을 또 다른 딕셔너리로 복사하기 위해선 copy( )를 사용함"
   ]
  },
  {
   "cell_type": "code",
   "execution_count": null,
   "metadata": {
    "collapsed": true
   },
   "outputs": [],
   "source": [
    "signals = {'green': 'go', 'yellow': 'go faster', 'red': 'smile for the camera'}\n",
    "original_signals = signals.copy()\n",
    "signals['blue'] = 'confuse everyone'\n",
    "signals"
   ]
  },
  {
   "cell_type": "code",
   "execution_count": null,
   "metadata": {
    "collapsed": true
   },
   "outputs": [],
   "source": [
    "original_signals"
   ]
  },
  {
   "cell_type": "markdown",
   "metadata": {},
   "source": [
    "## 3.5 셋\n",
    "셋은 값은 버리고 키만 남은 딕셔너리와 같음, 각 키는 유일해야함 <br>\n",
    "어떤 것이 존재하는지 여부만 판단하기 위해 셋 사용 <br>\n",
    "키에 어떤 정보를 첨부해서 그 결과를 얻고 싶으면 딕셔너리 사용 <br>\n",
    "\n",
    "셋(set)에 대해선 초등학교 수학시간에 배웠을 것인데.. <br>\n",
    "초등과정을 생략했거나 수업시간에 종종 수학책을 덮고 먼 산만 바라봤다면..<br>\n",
    "아래 그림을 보며 유니온(Union, 합집합)과 인터섹션(intersection, 교집합) 참조 <br>\n",
    "<img src=\"screenshot/4.png\">\n",
    "같은 키를 갖고 있는 두 개의 셋을 결합한다고 가정 <br>\n",
    "셋은 각 항목이 유일해야 하기 때문에 두 셋의 유니온은 하나의 키만 포함 <br>\n",
    "널(ㅜnull) 혹은 빈 셋은 항목이 하나도 없는 셋"
   ]
  },
  {
   "cell_type": "markdown",
   "metadata": {},
   "source": [
    "### 3.5.1 셋 생성하기: set( )\n",
    "셋을 생성할 땐 다음과 같이 set( )함수 혹은 중괄호({}) 안에 콤마로 구분된 하나 이상의 값 넣기"
   ]
  },
  {
   "cell_type": "code",
   "execution_count": null,
   "metadata": {
    "collapsed": true
   },
   "outputs": [],
   "source": [
    "empty_set = set()\n",
    "empty_set"
   ]
  },
  {
   "cell_type": "code",
   "execution_count": null,
   "metadata": {
    "collapsed": true
   },
   "outputs": [],
   "source": [
    "even_numbers = {0, 2, 4, 6, 8}\n",
    "even_numbers"
   ]
  },
  {
   "cell_type": "code",
   "execution_count": null,
   "metadata": {
    "collapsed": true
   },
   "outputs": [],
   "source": [
    "odd_numbers = {1, 3, 5, 7, 9}\n",
    "odd_numbers"
   ]
  },
  {
   "cell_type": "markdown",
   "metadata": {},
   "source": [
    "딕셔너리의 키와 마찬가지로, 셋은 순서가 없음\n",
    "#### NOTE_[ ]가 빈 리스트를 생성하기 때문에, { }도 빈 셋을 생성할 것이라고 추측했을 것이다. 그러나 { }는 빈 딕셔너리를 생성함\n",
    "#### 이것이 인터프리터가 빈 셋을 { } 대신 set( )으로 출력하는 이유\n",
    "\n",
    "### 3.5.2 데이터 타입 변환하기: set( )\n",
    "리스트, 문자열, 튜플, 딕셔너리로부터 중복된 값을 버린 셋을 생성할 수 있음\n",
    "\n",
    "먼저 'letters'의 알파벳 중 하나 이상 나온 문자를 살펴보자"
   ]
  },
  {
   "cell_type": "code",
   "execution_count": null,
   "metadata": {
    "collapsed": true
   },
   "outputs": [],
   "source": [
    "set( 'letters' )"
   ]
  },
  {
   "cell_type": "markdown",
   "metadata": {},
   "source": [
    "'letters'에 'e', 't'가 두 개씩 있어도 셋에는 이 문자들이 하나씩 포함됨 <br>\n",
    "리스트를 셋으로 만들어보자!"
   ]
  },
  {
   "cell_type": "code",
   "execution_count": null,
   "metadata": {
    "collapsed": true
   },
   "outputs": [],
   "source": [
    "set( ['Dasher', 'Dancer', 'Prancer', 'Mason-Dixon'] )"
   ]
  },
  {
   "cell_type": "markdown",
   "metadata": {},
   "source": [
    "튜플을 셋으로~"
   ]
  },
  {
   "cell_type": "code",
   "execution_count": null,
   "metadata": {
    "collapsed": true
   },
   "outputs": [],
   "source": [
    "set( ('Ummagumma', 'Echoes', 'Atom Heart Mother') )"
   ]
  },
  {
   "cell_type": "markdown",
   "metadata": {},
   "source": [
    "딕셔너리에 set( )을 사용하면 키만 사용하게 됨"
   ]
  },
  {
   "cell_type": "code",
   "execution_count": null,
   "metadata": {
    "collapsed": true
   },
   "outputs": [],
   "source": [
    "set( {'apple': 'red', 'orange': 'orange', 'cherry': 'red'} )"
   ]
  },
  {
   "cell_type": "markdown",
   "metadata": {},
   "source": [
    "### 3.5.3 in으로 값 멤버십 테스트하기\n",
    "일반적으로 사용되는 셋의 용도! <br>\n",
    "drinks 딕셔너리를 만들자. 각 키는 혼합음료의 이름, 값은 음료에 필요한 재료들의 셋"
   ]
  },
  {
   "cell_type": "code",
   "execution_count": null,
   "metadata": {
    "collapsed": true
   },
   "outputs": [],
   "source": [
    "drinks = {\n",
    "    ...     'martini': {'vodka', 'vermouth'},\n",
    "    ...     'black russian': {'vodka', 'kahlua'},\n",
    "    ...     'white russian': {'cream', 'kahlua', 'vodka'},\n",
    "    ...     'manhattan': {'rye', 'vermouth', 'bitters'},\n",
    "    ...     'screwdriver': {'orange juice', 'vodka'}\n",
    "    ...     }"
   ]
  },
  {
   "cell_type": "markdown",
   "metadata": {},
   "source": [
    "중괄호({})가 두 번 둘러싸여 있지만, <br>\n",
    "셋은 값들의 시퀀스, 딕셔너리는 하나 이상의 키:값 쌍으로 이루어진 것\n",
    "\n",
    "보드카가 포함된 음료는 무엇인가?"
   ]
  },
  {
   "cell_type": "code",
   "execution_count": null,
   "metadata": {
    "collapsed": true
   },
   "outputs": [],
   "source": [
    "for name, contents in drinks.items(): \n",
    "    ... if 'vodka' in contents:\n",
    "    ...     print(name)\n",
    "    ..."
   ]
  },
  {
   "cell_type": "markdown",
   "metadata": {},
   "source": [
    "for, if, and, or에 대해서는 다음 장에서 설명 <br>\n",
    "보드카(vodka)를 원하지만 젖당 알레르기가 있어 버몬트(vermouth) 맛이 등유처럼 느껴진다고 생각해보자."
   ]
  },
  {
   "cell_type": "code",
   "execution_count": null,
   "metadata": {
    "collapsed": true
   },
   "outputs": [],
   "source": [
    "for name, contents in drinks.items():\n",
    "...   if 'vodka' in contents and not ('vermouth' in contents or\n",
    "...       'cream' in contents):\n",
    "...       print(name)\n",
    "..."
   ]
  },
  {
   "cell_type": "markdown",
   "metadata": {},
   "source": [
    "### 3.5.4 콤비네이션과 연산자\n",
    "셋값의 콤비네이션(Combination, 조합)을 확인하려면? <br>\n",
    "오렌지주스 혹은 버몬트(vermouth)가 들어있는 음료 마시고 싶을 땐 셋 인터렉션 연산자(set intersection operater, 셋 교집합 연산자)인 <br>\n",
    "앰퍼샌드(&)를 사용하자"
   ]
  },
  {
   "cell_type": "code",
   "execution_count": null,
   "metadata": {
    "collapsed": true
   },
   "outputs": [],
   "source": [
    "for name, contents in drinks.items():\n",
    "... if contents & {'vermouth', 'orange juice'}:\n",
    "    print(name)"
   ]
  },
  {
   "cell_type": "markdown",
   "metadata": {},
   "source": [
    "& 연산자의 결과는 우리가 비교하고자 했던 두 재료의 모든 항목이 포함된 셋 <br>\n",
    "contents에 두 재료가 없다면 &은 False로 간주되는 빈 셋을 반환함\n",
    "\n",
    "보드카는 들어있지만 크림이나 버몬트는 없는 음료 찾으려면?"
   ]
  },
  {
   "cell_type": "code",
   "execution_count": null,
   "metadata": {
    "collapsed": true
   },
   "outputs": [],
   "source": [
    "for name, contents in drinks.items():\n",
    "... if 'vodka' in contents and not contents & {'vermouth', 'cream'}:\n",
    "    print(name)"
   ]
  },
  {
   "cell_type": "markdown",
   "metadata": {},
   "source": [
    "두 음료의 재료 셋을 변수에 저장해보자."
   ]
  },
  {
   "cell_type": "code",
   "execution_count": null,
   "metadata": {
    "collapsed": true
   },
   "outputs": [],
   "source": [
    "bruss = drinks['black russian']\n",
    "wruss = drinks['white russian']"
   ]
  },
  {
   "cell_type": "markdown",
   "metadata": {},
   "source": [
    "다음 예제에서 셋 연산자의 기호와 함수 둘 다 사용해보자."
   ]
  },
  {
   "cell_type": "code",
   "execution_count": null,
   "metadata": {
    "collapsed": true
   },
   "outputs": [],
   "source": [
    "a={1,2}\n",
    "b={2,3}\n",
    "a & b"
   ]
  },
  {
   "cell_type": "code",
   "execution_count": null,
   "metadata": {
    "collapsed": true
   },
   "outputs": [],
   "source": [
    "a.intersection(b)"
   ]
  },
  {
   "cell_type": "markdown",
   "metadata": {},
   "source": [
    "방금 저장했던 음료 변수 사용해보자"
   ]
  },
  {
   "cell_type": "code",
   "execution_count": null,
   "metadata": {
    "collapsed": true
   },
   "outputs": [],
   "source": [
    "bruss & wruss"
   ]
  },
  {
   "cell_type": "markdown",
   "metadata": {},
   "source": [
    "| 연산자와 union( )함수를 사용해서 유니온(union, 합집합: 각 셋의 멤버 모두)를 구해보자"
   ]
  },
  {
   "cell_type": "code",
   "execution_count": null,
   "metadata": {
    "collapsed": true
   },
   "outputs": [],
   "source": [
    "a|b"
   ]
  },
  {
   "cell_type": "code",
   "execution_count": null,
   "metadata": {
    "collapsed": true
   },
   "outputs": [],
   "source": [
    "a.union(b)"
   ]
  },
  {
   "cell_type": "code",
   "execution_count": null,
   "metadata": {
    "collapsed": true
   },
   "outputs": [],
   "source": [
    "bruss | wruss"
   ]
  },
  {
   "cell_type": "markdown",
   "metadata": {},
   "source": [
    "-연산자와 디퍼런스(difference, 차집합: 첫 번째 셋에는 있지만 두 번째 셋에는 없는 멤버) 구하기 "
   ]
  },
  {
   "cell_type": "code",
   "execution_count": null,
   "metadata": {
    "collapsed": true
   },
   "outputs": [],
   "source": [
    "a - b"
   ]
  },
  {
   "cell_type": "code",
   "execution_count": null,
   "metadata": {
    "collapsed": true
   },
   "outputs": [],
   "source": [
    "a.difference(b)"
   ]
  },
  {
   "cell_type": "code",
   "execution_count": null,
   "metadata": {
    "collapsed": true
   },
   "outputs": [],
   "source": [
    "bruss - wruss"
   ]
  },
  {
   "cell_type": "code",
   "execution_count": null,
   "metadata": {
    "collapsed": true
   },
   "outputs": [],
   "source": [
    "wruss - bruss"
   ]
  },
  {
   "cell_type": "markdown",
   "metadata": {},
   "source": [
    "셋 연산의 유니온, 인터렉션, 디퍼런스를 봤으니 이젠 그 외의 셋 연산을 봅시다 <br>\n",
    "\n",
    "^연산자나 symmetric_difference( )함수를 사용해서 <br>익스클루시브(exclusive, 대칭 차집합: 한 쪽 셋에는 들어 있지만 양쪽 모두에게 들어있지 않은 멤버) 구하기"
   ]
  },
  {
   "cell_type": "code",
   "execution_count": null,
   "metadata": {
    "collapsed": true
   },
   "outputs": [],
   "source": [
    "a ^ b"
   ]
  },
  {
   "cell_type": "code",
   "execution_count": null,
   "metadata": {
    "collapsed": true
   },
   "outputs": [],
   "source": [
    "a.symmetric_difference(b)"
   ]
  },
  {
   "cell_type": "code",
   "execution_count": null,
   "metadata": {
    "collapsed": true
   },
   "outputs": [],
   "source": [
    "bruss ^ wruss"
   ]
  },
  {
   "cell_type": "markdown",
   "metadata": {},
   "source": [
    "<= 연산자나 issubset( )함수를 사용해서 첫 번째 셋이 두 번째 셋의 서브셋(subset, 부분집합)인지 살피기"
   ]
  },
  {
   "cell_type": "code",
   "execution_count": null,
   "metadata": {
    "collapsed": true
   },
   "outputs": [],
   "source": [
    "a <= b"
   ]
  },
  {
   "cell_type": "code",
   "execution_count": null,
   "metadata": {
    "collapsed": true
   },
   "outputs": [],
   "source": [
    "a.issubsut(b)"
   ]
  },
  {
   "cell_type": "markdown",
   "metadata": {},
   "source": [
    "블랙 러시안에 크림을 추가하면 화이트 러시안이 된다. Wruss는 bruss의 슈퍼셋(superset, 상위 집합)임"
   ]
  },
  {
   "cell_type": "code",
   "execution_count": null,
   "metadata": {
    "collapsed": true
   },
   "outputs": [],
   "source": [
    "bruss <= wruss"
   ]
  },
  {
   "cell_type": "markdown",
   "metadata": {},
   "source": [
    "모든 셋은 자신의 서브셋인가?"
   ]
  },
  {
   "cell_type": "code",
   "execution_count": null,
   "metadata": {
    "collapsed": true
   },
   "outputs": [],
   "source": [
    "a <= a"
   ]
  },
  {
   "cell_type": "code",
   "execution_count": null,
   "metadata": {
    "collapsed": true
   },
   "outputs": [],
   "source": [
    "a.issubset(a)"
   ]
  },
  {
   "cell_type": "markdown",
   "metadata": {},
   "source": [
    "첫 번째 셋이 두 번째 셋의 프로퍼 서브셋(preoper subset, 진부분집합)이려면,<br>\n",
    "두 번째 셋에는 첫 번째 셋의 모든 멤버를 포함한 그 이상의 멤버가 있어야 함"
   ]
  },
  {
   "cell_type": "code",
   "execution_count": null,
   "metadata": {
    "collapsed": true
   },
   "outputs": [],
   "source": [
    "a < b"
   ]
  },
  {
   "cell_type": "code",
   "execution_count": null,
   "metadata": {
    "collapsed": true
   },
   "outputs": [],
   "source": [
    "a < a"
   ]
  },
  {
   "cell_type": "code",
   "execution_count": null,
   "metadata": {
    "collapsed": true
   },
   "outputs": [],
   "source": [
    "bruss < wruss"
   ]
  },
  {
   "cell_type": "markdown",
   "metadata": {},
   "source": [
    "슈퍼셋은 서브셋의 반대. >=나 isssuperset( )함수를 사용해서 첫 번째 셋이 두 번째 셋의 슈퍼셋인지 보기"
   ]
  },
  {
   "cell_type": "code",
   "execution_count": null,
   "metadata": {
    "collapsed": true
   },
   "outputs": [],
   "source": [
    "a >= b"
   ]
  },
  {
   "cell_type": "code",
   "execution_count": null,
   "metadata": {
    "collapsed": true
   },
   "outputs": [],
   "source": [
    "a.issuperset(b)"
   ]
  },
  {
   "cell_type": "code",
   "execution_count": null,
   "metadata": {
    "collapsed": true
   },
   "outputs": [],
   "source": [
    "wruss >= bruss"
   ]
  },
  {
   "cell_type": "markdown",
   "metadata": {},
   "source": [
    "모든 셋은 자신의 슈퍼셋"
   ]
  },
  {
   "cell_type": "code",
   "execution_count": null,
   "metadata": {
    "collapsed": true
   },
   "outputs": [],
   "source": [
    "a >= a"
   ]
  },
  {
   "cell_type": "code",
   "execution_count": null,
   "metadata": {
    "collapsed": true
   },
   "outputs": [],
   "source": [
    "a.issuperset(a)"
   ]
  },
  {
   "cell_type": "markdown",
   "metadata": {},
   "source": [
    "'>' 연산자 사용해서 첫 번째 셋이 두 번째 셋의 프로퍼 슈퍼셋(proper superset)인지 확인!<br>\n",
    "첫 번째 셋이 두 번째 셋의 프로퍼 슈퍼셋이 되려면 첫 번째 셋에는 두 번째 셋의 모든 멤버를 포함한 그 이상의 멤버가 있어야 함"
   ]
  },
  {
   "cell_type": "code",
   "execution_count": null,
   "metadata": {
    "collapsed": true
   },
   "outputs": [],
   "source": [
    "a > b"
   ]
  },
  {
   "cell_type": "code",
   "execution_count": null,
   "metadata": {
    "collapsed": true
   },
   "outputs": [],
   "source": [
    "wruss > bruss"
   ]
  },
  {
   "cell_type": "markdown",
   "metadata": {},
   "source": [
    "모든 셋은 자신의 프로퍼 슈퍼셋이 될 수 없음"
   ]
  },
  {
   "cell_type": "code",
   "execution_count": null,
   "metadata": {
    "collapsed": true
   },
   "outputs": [],
   "source": [
    "a > a"
   ]
  },
  {
   "cell_type": "markdown",
   "metadata": {},
   "source": [
    "## 3.6 자료구조 비교하기\n",
    "대괄호([])를 사용해서 리스트를, 콤마(,)를 사용해서 튜플을, 중괄호({})를 사용해서 딕셔너리를 만들 수 있음 <br>\n",
    "각각의 경우 대괄호를 이용해서 하나의 요소에 접근 가능"
   ]
  },
  {
   "cell_type": "code",
   "execution_count": null,
   "metadata": {
    "collapsed": true
   },
   "outputs": [],
   "source": [
    "marx_list = ['Groucho', 'Chico', 'Harpo']\n",
    "marx_tuple = 'Groucho', 'Chico', 'Harpo'\n",
    "marx_dict = {'Groucho': 'banjo', 'Chico': 'piano', 'Harpo': 'harp'}\n",
    "marx_list[2]"
   ]
  },
  {
   "cell_type": "code",
   "execution_count": null,
   "metadata": {
    "collapsed": true
   },
   "outputs": [],
   "source": [
    "marx_tuple[2]"
   ]
  },
  {
   "cell_type": "code",
   "execution_count": null,
   "metadata": {
    "collapsed": true
   },
   "outputs": [],
   "source": [
    "marx_dict['Harpo']"
   ]
  },
  {
   "cell_type": "markdown",
   "metadata": {},
   "source": [
    "리스트와 튜플은 대괄호에 들어가는 값이 정수 오프셋, 딕셔너리는 키 <br>\n",
    "이 세 가지에 대한 결과는 값~\n",
    "\n",
    "## 3.7 자료구조를 더 크게\n",
    "지금까지 간단한 부울, 숫자, 문자열에서부터 리스트, 튜플, 셋, 딕셔너리까지 살펴봤음 <br>\n",
    "내장된 자료구조를 결합해서 더 크고 복잡한 자료구조를 만들 수 있음"
   ]
  },
  {
   "cell_type": "code",
   "execution_count": null,
   "metadata": {
    "collapsed": true
   },
   "outputs": [],
   "source": [
    "marxes = ['Groucho', 'Chico', 'Harpo']\n",
    "pythons = ['Chapman', 'Cleese', 'Gilliam', 'Jones', 'Palin']\n",
    "stooges = ['Moe', 'Curly', 'Larry']"
   ]
  },
  {
   "cell_type": "markdown",
   "metadata": {},
   "source": [
    "튜플의 각 요소는 리스트임"
   ]
  },
  {
   "cell_type": "code",
   "execution_count": null,
   "metadata": {
    "collapsed": true
   },
   "outputs": [],
   "source": [
    "tuple_of_lists = marxes, pythons, stooges\n",
    "tuple_of_lists"
   ]
  },
  {
   "cell_type": "markdown",
   "metadata": {},
   "source": [
    "세 리스트를 한 리스트에 포함시킬 수 있음"
   ]
  },
  {
   "cell_type": "code",
   "execution_count": null,
   "metadata": {
    "collapsed": true
   },
   "outputs": [],
   "source": [
    "list_of_lists = [marxes, pythons, stooges]\n",
    "list_of_lists"
   ]
  },
  {
   "cell_type": "markdown",
   "metadata": {},
   "source": [
    "희극 그룹의 이름을 키로 그 멤버의 목록을 값으로 사용해 리스트의 딕셔너리를 만들어보면,"
   ]
  },
  {
   "cell_type": "code",
   "execution_count": null,
   "metadata": {
    "collapsed": true
   },
   "outputs": [],
   "source": [
    "dict_of_lists = {'Marxes': marxes, 'Pythons': pythons, 'Stooges': stooges}\n",
    "dict_of_lists"
   ]
  },
  {
   "cell_type": "markdown",
   "metadata": {},
   "source": [
    "제한사항이 있다면, 데이터 타입 그 자체. <br>\n",
    "딕셔너리의 키는 불변하기 때문에 리스트, 딕셔너리, 셋은 다른 딕셔너리의 키가 될 수 없음 <br>\n",
    "튜플은 딕셔너리의 키가 될 수 있음 <br>\n",
    "예를 들면 관심있는 장소를 GPS좌표(위도(latitude), 경도(longitude), 고도(altitude))로 인덱싱 가능"
   ]
  },
  {
   "cell_type": "code",
   "execution_count": null,
   "metadata": {
    "collapsed": true
   },
   "outputs": [],
   "source": [
    "{'Stooges': ['Moe', 'Curly', 'Larry'],\n",
    "    'Marxes': ['Groucho', 'Chico', 'Harpo'],\n",
    "    'Pythons': ['Chapman', 'Cleese', 'Gilliam', 'Jones', 'Palin']}"
   ]
  },
  {
   "cell_type": "markdown",
   "metadata": {},
   "source": [
    "## 3.8 연습문제\n",
    "이 장에서는 리스트, 튜플, 딕셔너리, 셋과 같은 더 복잡한 자료구조를 배움<br>\n",
    "2장에서 배운 숫자, 문자열, 자료구조를 활용하면 현실세계의 다양한 것을 표현 가능\n",
    "\n",
    "3.1 출생년도에 대한 리스트 year_lists를 만들어라. 출생년도를 첫 번째 요소로 하고 1년씩 증가하는 다섯 번째 생일까지의 요소를 넣는다. 출생년도가 1980이라고 가정한다 <br>\n",
    "3.2 years_list의 세 번째 생일의 년도는? 참고로 오프셋 0은 출생년도다. <br>\n",
    "3.3 years_list 중 가장 나이가 많을 때의 년도는? <br>\n",
    "3.4 things 리스트를 만들어라. 이 리스트는 \"mozzarella\", \"cinderella\", \"salmonella\" 세 문자열을 요소로 갖는다. <br>\n",
    "3.5 things 리스트에서 사람 이름의 첫 글자를 대문자로 바꿔서 출력하라. 그러면 리스트의 요소가 변경되나?<br>\n",
    "3.6 things 리스트의 치즈 요소를 모두 대문자로 바꿔서 출력하라.<br>\n",
    "3.7 things 리스트에 질병 요소가 있다면 제거한 뒤 리스트를 출력하라.<br>\n",
    "3.8 surprise 리스트를 생성하라. 이 리스트는 \"Groucho\", \"Chico\", \"Harpo\" 세 문자열을 요소로 갖는다.<br>\n",
    "3.9 surprise 리스트의 마지막 요소를 소문자로 변경하고, 단어를 역전시킨 후, 첫 글자를 대문자로 바꿔라. <br>\n",
    "3.10 영어-프랑스어 사전을 의미하는 f2e 딕셔너리를 만들어라. 영어의 dog는 프랑스어 chien이고, cat은 chat, walrus는 morse다. 딕셔너리를 출력해보라. <br>\n",
    "3.11 f2e 딕셔너리에서 영어 walrus를 프랑스어로 출력하라.<br>\n",
    "3.12 영어-프랑스어 사전의 f2e 딕셔너리를 이용해서 프랑스어-영어 사전 e2f 딕셔너리를 만들어라(items 메서드 사용)<br>\n",
    "3.13 f2e 딕셔너리를 사용해서 프랑스어 chien을 의미하는 영어를 출력하라<br>\n",
    "3.14 e2f 딕셔너리의 영어 단어 키를 출력하라.<br>\n",
    "3.15 이차원 딕셔너리 life를 만들어라. 최상위 키는 'animals', 'plants', 'other'다. 그리고 'animals'는 각각 'cats', 'octopi', 'emus'를 키로 하고, 'Henri', 'Grumpy', 'Lucy'를 값으로 하는 또 다른 딕셔너리를 참조하고 있다. 나머지 요소는 빈 딕셔너리를 참조한다.<br>\n",
    "3.16 life 딕셔너리의 최상위 키를 출력하라<br>\n",
    "3.17 life['animals']의 모든 키를 출력하라.<br>\n",
    "3.18 life['animals']['cats']의 모든 값을 출력하라\n"
   ]
  },
  {
   "cell_type": "code",
   "execution_count": null,
   "metadata": {
    "collapsed": true
   },
   "outputs": [],
   "source": []
  }
 ],
 "metadata": {
  "kernelspec": {
   "display_name": "Python 3",
   "language": "python",
   "name": "python3"
  },
  "language_info": {
   "codemirror_mode": {
    "name": "ipython",
    "version": 3
   },
   "file_extension": ".py",
   "mimetype": "text/x-python",
   "name": "python",
   "nbconvert_exporter": "python",
   "pygments_lexer": "ipython3",
   "version": "3.4.4"
  }
 },
 "nbformat": 4,
 "nbformat_minor": 1
}
