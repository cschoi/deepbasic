{
 "cells": [
  {
   "cell_type": "markdown",
   "metadata": {},
   "source": [
    "# 처음 시작하는 파이썬, 나영근\n",
    "\n",
    "\n",
    "\n",
    "# 6. 객체와 클래스\n",
    "\n",
    "\n",
    "## 6.1 객체란 무엇인가\n",
    "\n",
    "숫자에서 모듈까지 Python의 모든 것은 객체이다\n",
    "\n",
    "- 객체는 attribute와 method를 포함\n",
    "- 객체는 클래스의 instance\n",
    "- 각각 다른 속성을 가진 객체를 여러개 생성할 수 있다."
   ]
  },
  {
   "cell_type": "code",
   "execution_count": 6,
   "metadata": {
    "collapsed": false
   },
   "outputs": [
    {
     "data": {
      "text/plain": [
       "'Cello'"
      ]
     },
     "execution_count": 6,
     "metadata": {},
     "output_type": "execute_result"
    }
   ],
   "source": [
    "num = 7\n",
    "dic = {}\n",
    "list = []\n",
    "\n",
    "str = \"Hello\"\n",
    "str.replace('H', 'C')"
   ]
  },
  {
   "cell_type": "markdown",
   "metadata": {},
   "source": [
    "## 6.2 클래스 선언하기: class\n",
    "\n",
    "파이썬에는 *List, Dictionary* 등 많은 내장 클래스를 포함\n",
    "\n",
    "커스텀 객체도 선언할 수 있다.\n",
    "\n",
    "- Person 클래스의 정의를 찾는다\n",
    "- 새 객체를 메모리에 초기화한다.\n",
    "- 객체의 *__init__*메서드를 호출\n",
    "- 생성된 객체를 *self*에 전달하고 인자를 *name*에 전달\n",
    "- 객체에 *name* 값 저장\n",
    "- 새로운 객체 반환\n",
    "- *hunter*에 이 객체를 연결"
   ]
  },
  {
   "cell_type": "code",
   "execution_count": 12,
   "metadata": {
    "collapsed": false
   },
   "outputs": [
    {
     "data": {
      "text/plain": [
       "'Elmer Fudd'"
      ]
     },
     "execution_count": 12,
     "metadata": {},
     "output_type": "execute_result"
    }
   ],
   "source": [
    "class Person():\n",
    "    def __init__(self, name):\n",
    "        self.name = name\n",
    "    pass\n",
    "\n",
    "hunter = Person('Elmer Fudd')\n",
    "hunter.name\n"
   ]
  },
  {
   "cell_type": "markdown",
   "metadata": {},
   "source": [
    "## 6.3 상속(Inheritance)\n",
    "\n",
    "상속을 사용하여 기존 클래스의 attribute, method를 재사용하고 필요한 것만 추가/변경할 수 있다.\n",
    "\n",
    "- 기존 클래스의 행동을 override한다.\n",
    "\n",
    "기존 클래스와 상속받는 클래스는 아래와 같이 불린다.\n",
    "\n",
    "- parent class <-> child class\n",
    "- super class <-> sub class\n",
    "- base class <-> derived class\n",
    "\n"
   ]
  },
  {
   "cell_type": "code",
   "execution_count": 13,
   "metadata": {
    "collapsed": false
   },
   "outputs": [
    {
     "name": "stdout",
     "output_type": "stream",
     "text": [
      "I'm a Car!\n",
      "I'm a Car!\n"
     ]
    }
   ],
   "source": [
    "class Car():\n",
    "    def exclaim(self):\n",
    "        print(\"I'm a Car!\")\n",
    "\n",
    "class Yugo(Car):\n",
    "    pass\n",
    "\n",
    "give_me_a_car = Car()\n",
    "give_me_a_yugo = Yugo()\n",
    "\n",
    "give_me_a_car.exclaim()\n",
    "give_me_a_yugo.exclaim()"
   ]
  },
  {
   "cell_type": "markdown",
   "metadata": {},
   "source": [
    "## 6.4 메서드 오버라이드\n",
    "\n"
   ]
  },
  {
   "cell_type": "code",
   "execution_count": 15,
   "metadata": {
    "collapsed": false
   },
   "outputs": [
    {
     "name": "stdout",
     "output_type": "stream",
     "text": [
      "I'm a Car!\n",
      "I'm a Yugo! Much like a Car.\n"
     ]
    }
   ],
   "source": [
    "class Car():\n",
    "    def exclaim(self):\n",
    "        print(\"I'm a Car!\")\n",
    "\n",
    "class Yugo(Car):\n",
    "    def exclaim(self):\n",
    "        print(\"I'm a Yugo! Much like a Car.\")\n",
    "\n",
    "give_me_a_car = Car()\n",
    "give_me_a_yugo = Yugo()\n",
    "\n",
    "give_me_a_car.exclaim()\n",
    "give_me_a_yugo.exclaim()"
   ]
  },
  {
   "cell_type": "markdown",
   "metadata": {},
   "source": [
    "## 6.5 메서드 추가하기\n",
    "\n"
   ]
  },
  {
   "cell_type": "code",
   "execution_count": 16,
   "metadata": {
    "collapsed": false
   },
   "outputs": [
    {
     "name": "stdout",
     "output_type": "stream",
     "text": [
      "I'm a Car!\n",
      "I'm a Yugo! Much like a Car.\n",
      "A little help here?\n"
     ]
    },
    {
     "ename": "AttributeError",
     "evalue": "'Car' object has no attribute 'need_a_push'",
     "output_type": "error",
     "traceback": [
      "\u001b[0;31m---------------------------------------------------------------------------\u001b[0m",
      "\u001b[0;31mAttributeError\u001b[0m                            Traceback (most recent call last)",
      "\u001b[0;32m<ipython-input-16-1dbb3b4ff363>\u001b[0m in \u001b[0;36m<module>\u001b[0;34m()\u001b[0m\n\u001b[1;32m     16\u001b[0m \u001b[0;34m\u001b[0m\u001b[0m\n\u001b[1;32m     17\u001b[0m \u001b[0mgive_me_a_yugo\u001b[0m\u001b[0;34m.\u001b[0m\u001b[0mneed_a_push\u001b[0m\u001b[0;34m(\u001b[0m\u001b[0;34m)\u001b[0m\u001b[0;34m\u001b[0m\u001b[0m\n\u001b[0;32m---> 18\u001b[0;31m \u001b[0mgive_me_a_car\u001b[0m\u001b[0;34m.\u001b[0m\u001b[0mneed_a_push\u001b[0m\u001b[0;34m(\u001b[0m\u001b[0;34m)\u001b[0m\u001b[0;34m\u001b[0m\u001b[0m\n\u001b[0m",
      "\u001b[0;31mAttributeError\u001b[0m: 'Car' object has no attribute 'need_a_push'"
     ]
    }
   ],
   "source": [
    "class Car():\n",
    "    def exclaim(self):\n",
    "        print(\"I'm a Car!\")\n",
    "\n",
    "class Yugo(Car):\n",
    "    def exclaim(self):\n",
    "        print(\"I'm a Yugo! Much like a Car.\")\n",
    "    def need_a_push(self):\n",
    "        print(\"A little help here?\")\n",
    "\n",
    "give_me_a_car = Car()\n",
    "give_me_a_yugo = Yugo()\n",
    "\n",
    "give_me_a_car.exclaim()\n",
    "give_me_a_yugo.exclaim()\n",
    "\n",
    "give_me_a_yugo.need_a_push()\n",
    "give_me_a_car.need_a_push()"
   ]
  },
  {
   "cell_type": "markdown",
   "metadata": {},
   "source": [
    "## 6.6 부모에게 도움 받기: super"
   ]
  },
  {
   "cell_type": "code",
   "execution_count": 20,
   "metadata": {
    "collapsed": false
   },
   "outputs": [
    {
     "name": "stdout",
     "output_type": "stream",
     "text": [
      "John\n",
      "j.ohn@gmail.com\n",
      "\n",
      "name: John\n",
      "email: j.ohn@gmail.com\n"
     ]
    }
   ],
   "source": [
    "class Person():\n",
    "    def __init__(self, name):\n",
    "        self.name = name\n",
    "        \n",
    "    def whoareyou(self):\n",
    "        print('name: ' + self.name)\n",
    "        \n",
    "class EmailPerson(Person):\n",
    "    def __init__(self, name, email):\n",
    "        super().__init__(name)\n",
    "        self.email=email\n",
    "        \n",
    "    def whoareyou(self):\n",
    "        super().whoareyou()\n",
    "        print('email: ' + self.email)\n",
    "\n",
    "email_person = EmailPerson('John', 'j.ohn@gmail.com')\n",
    "\n",
    "print(email_person.name)\n",
    "print(email_person.email)\n",
    "print()\n",
    "\n",
    "email_person.whoareyou()"
   ]
  },
  {
   "cell_type": "markdown",
   "metadata": {},
   "source": [
    "## 6.7 자신: self\n",
    "\n",
    "객체 자신을 나타냄\n",
    "\n",
    "- 이를 통해 attribute와 method를 사용\n",
    "- method의 첫번째 인자는 항상 self여야 함"
   ]
  },
  {
   "cell_type": "markdown",
   "metadata": {},
   "source": [
    "## 6.8 get/set 속성값과 프로퍼티\n",
    "\n",
    "python의 모든 attribute와 method는 *public*"
   ]
  },
  {
   "cell_type": "code",
   "execution_count": 24,
   "metadata": {
    "collapsed": false
   },
   "outputs": [
    {
     "name": "stdout",
     "output_type": "stream",
     "text": [
      "inside the getter\n",
      "Howard\n",
      "inside the getter\n",
      "Howard\n",
      "\n",
      "inside the setter\n",
      "inside the getter\n",
      "Daffy\n",
      "\n",
      "inside the setter\n",
      "inside the getter\n",
      "Howard\n",
      "\n",
      "Howard\n"
     ]
    }
   ],
   "source": [
    "class Duck():\n",
    "    def __init__(self, input_name):\n",
    "        self.hidden_name = input_name\n",
    "        \n",
    "    def get_name(self):\n",
    "        print('inside the getter')\n",
    "        return self.hidden_name\n",
    "    \n",
    "    def set_name(self, input_name):\n",
    "        print('inside the setter')\n",
    "        self.hidden_name = input_name\n",
    "        \n",
    "    name = property(get_name, set_name)\n",
    "    \n",
    "fowl = Duck('Howard')\n",
    "\n",
    "print(fowl.name)\n",
    "print(fowl.get_name()) # 여전히 property인데도 접근이 된다\n",
    "print()\n",
    "\n",
    "fowl.name = 'Daffy'\n",
    "print(fowl.name)\n",
    "print()\n",
    "\n",
    "fowl.set_name('Howard') # 여전히 접근된다\n",
    "print(fowl.name) \n",
    "print()"
   ]
  },
  {
   "cell_type": "markdown",
   "metadata": {},
   "source": [
    "그래서 decorator를 사용해 프로퍼티를 정의한다.\n",
    "\n",
    "- getter 메서드 앞에 `@property`\n",
    "- setter 메서드 앞에 `@name.setter`"
   ]
  },
  {
   "cell_type": "code",
   "execution_count": 29,
   "metadata": {
    "collapsed": false
   },
   "outputs": [
    {
     "name": "stdout",
     "output_type": "stream",
     "text": [
      "inside the getter\n",
      "Howard\n",
      "\n",
      "inside the setter\n",
      "inside the getter\n",
      "Donald\n",
      "\n",
      "Donald\n"
     ]
    }
   ],
   "source": [
    "class Duck():\n",
    "    def __init__(self, input_name):\n",
    "        self.hidden_name = input_name\n",
    "        \n",
    "    @property\n",
    "    def name(self):\n",
    "        print('inside the getter')\n",
    "        return self.hidden_name\n",
    "    \n",
    "    @name.setter\n",
    "    def name(self, input_name):\n",
    "        print('inside the setter')\n",
    "        self.hidden_name = input_name\n",
    "      \n",
    "fowl = Duck('Howard')\n",
    "print(fowl.name)\n",
    "print()\n",
    "\n",
    "fowl.name = 'Donald'\n",
    "print(fowl.name)\n",
    "print()\n",
    "\n",
    "print(fowl.hidden_name) #하지만 attribute가 공개되어 있다.\n"
   ]
  },
  {
   "cell_type": "markdown",
   "metadata": {},
   "source": [
    "## 6.9 private 네임 맹글링\n",
    "\n",
    "attribute앞에 `__`를 붙인다\n",
    "\n",
    " > `__` 로 시작하는 모든 이름들은 `_클래스명__이름` 의 형식으로 변환된다. 이를 통해 간접적으로 접근을 막는다."
   ]
  },
  {
   "cell_type": "code",
   "execution_count": 31,
   "metadata": {
    "collapsed": false
   },
   "outputs": [
    {
     "name": "stdout",
     "output_type": "stream",
     "text": [
      "Duck\n"
     ]
    },
    {
     "ename": "AttributeError",
     "evalue": "'Duck' object has no attribute '__hidden_name'",
     "output_type": "error",
     "traceback": [
      "\u001b[0;31m---------------------------------------------------------------------------\u001b[0m",
      "\u001b[0;31mAttributeError\u001b[0m                            Traceback (most recent call last)",
      "\u001b[0;32m<ipython-input-31-bc6cf4735903>\u001b[0m in \u001b[0;36m<module>\u001b[0;34m()\u001b[0m\n\u001b[1;32m     15\u001b[0m \u001b[0mduck\u001b[0m \u001b[0;34m=\u001b[0m \u001b[0mDuck\u001b[0m\u001b[0;34m(\u001b[0m\u001b[0;34m'Duck'\u001b[0m\u001b[0;34m)\u001b[0m\u001b[0;34m\u001b[0m\u001b[0m\n\u001b[1;32m     16\u001b[0m \u001b[0mprint\u001b[0m\u001b[0;34m(\u001b[0m\u001b[0mduck\u001b[0m\u001b[0;34m.\u001b[0m\u001b[0m_Duck__hidden_name\u001b[0m\u001b[0;34m)\u001b[0m\u001b[0;34m\u001b[0m\u001b[0m\n\u001b[0;32m---> 17\u001b[0;31m \u001b[0mprint\u001b[0m\u001b[0;34m(\u001b[0m\u001b[0mduck\u001b[0m\u001b[0;34m.\u001b[0m\u001b[0m__hidden_name\u001b[0m\u001b[0;34m)\u001b[0m\u001b[0;34m\u001b[0m\u001b[0m\n\u001b[0m",
      "\u001b[0;31mAttributeError\u001b[0m: 'Duck' object has no attribute '__hidden_name'"
     ]
    }
   ],
   "source": [
    "class Duck():\n",
    "    def __init__(self, input_name):\n",
    "        self.__hidden_name = input_name\n",
    "        \n",
    "    @property\n",
    "    def name(self):\n",
    "        print('inside the getter')\n",
    "        return self.hidden_name\n",
    "    \n",
    "    @name.setter\n",
    "    def name(self, input_name):\n",
    "        print('inside the setter')\n",
    "        self.hidden_name = input_name\n",
    "        \n",
    "duck = Duck('Duck')\n",
    "print(duck._Duck__hidden_name)\n",
    "print(duck.__hidden_name)"
   ]
  },
  {
   "cell_type": "markdown",
   "metadata": {},
   "source": [
    "## 6.10 메서드 타입\n",
    "\n",
    "- *instance method* : method의 첫 번째 인자가 self인 경우\n",
    "- *class method* : @classmethod decorator가 있음, 첫 번째 인자는 class 자신이고 cls라 쓴다."
   ]
  },
  {
   "cell_type": "code",
   "execution_count": 33,
   "metadata": {
    "collapsed": false
   },
   "outputs": [
    {
     "name": "stdout",
     "output_type": "stream",
     "text": [
      "A has 3 little objects.\n",
      "I'm a static method.\n"
     ]
    }
   ],
   "source": [
    "class A():\n",
    "    count = 0\n",
    "    \n",
    "    def __init__(self):\n",
    "        A.count += 1\n",
    "        \n",
    "    def exclaim(self):\n",
    "        print(\"I'm an A!\")\n",
    "        \n",
    "    @classmethod\n",
    "    def kids(cls):\n",
    "        print('A has', cls.count, 'little objects.')\n",
    "        \n",
    "    @staticmethod\n",
    "    def static_method():\n",
    "        print(\"I'm a static method.\")\n",
    "                \n",
    "\n",
    "\n",
    "easy_a = A()\n",
    "breezy_a = A()\n",
    "wheezy_a = A()\n",
    "A.kids()\n",
    "\n",
    "A.static_method()\n"
   ]
  },
  {
   "cell_type": "markdown",
   "metadata": {},
   "source": [
    "## 6.11 덕 타이핑\n",
    "\n",
    "\n",
    "객체의 변수 및 메소드의 집합이 객체의 타입을 결정하는 것을 말한다. \n",
    "\n",
    "덕 타이핑은 객체가 어떤 타입에 걸맞은 변수와 메소드를 지니면 객체를 해당 타입에 속하는 것으로 간주한다.\n",
    "\n",
    "> 오리처럼 꽥꽥거리고 걷는다면 그것은 오리다."
   ]
  },
  {
   "cell_type": "code",
   "execution_count": 36,
   "metadata": {
    "collapsed": false
   },
   "outputs": [
    {
     "name": "stdout",
     "output_type": "stream",
     "text": [
      "Elmer Fudd says: I'm huting wabbits.\n",
      "Bugs Buny says: Whats up, doc?\n",
      "Daffy Duck says: It's rabbit season!\n",
      "\n",
      "\n",
      "Elmer Fudd says: I'm huting wabbits.\n",
      "Bugs Buny says: Whats up, doc?\n",
      "Daffy Duck says: It's rabbit season!\n",
      "Brook says: Babble\n"
     ]
    }
   ],
   "source": [
    "class Quote():\n",
    "    def __init__(self, person, words):\n",
    "        self.person = person\n",
    "        self.words = words\n",
    "    \n",
    "    def who(self):\n",
    "        return self.person\n",
    "    \n",
    "    def says(self):\n",
    "        return self.words + '.'\n",
    "    \n",
    "class QuestionQuote(Quote):\n",
    "    def says(self):\n",
    "        return self.words + '?'\n",
    "    \n",
    "class ExclamationQuote(Quote):\n",
    "    def says(self):\n",
    "        return self.words + '!'\n",
    "    \n",
    "hunter1 = Quote('Elmer Fudd', \"I'm huting wabbits\")\n",
    "print(hunter1.who(), 'says:', hunter1.says())\n",
    "\n",
    "hunter2 = QuestionQuote('Bugs Buny', \"Whats up, doc\")\n",
    "print(hunter2.who(), 'says:', hunter2.says())\n",
    "\n",
    "hunter3 = ExclamationQuote('Daffy Duck', \"It's rabbit season\")\n",
    "print(hunter3.who(), 'says:', hunter3.says())\n",
    "print()\n",
    "print()\n",
    "\n",
    "class BabblingBrook():\n",
    "    def who(self):\n",
    "        return 'Brook'\n",
    "    def says(self):\n",
    "        return 'Babble'\n",
    "\n",
    "def who_says(obj):\n",
    "    print(obj.who(), 'says:', obj.says())\n",
    "\n",
    "        \n",
    "who_says(hunter1)\n",
    "who_says(hunter2)\n",
    "who_says(hunter3)\n",
    "who_says(BabblingBrook())\n"
   ]
  },
  {
   "cell_type": "markdown",
   "metadata": {},
   "source": [
    "## 6.12 특수 메서드\n",
    "\n"
   ]
  },
  {
   "cell_type": "code",
   "execution_count": 39,
   "metadata": {
    "collapsed": false
   },
   "outputs": [
    {
     "name": "stdout",
     "output_type": "stream",
     "text": [
      "True\n",
      "False\n"
     ]
    }
   ],
   "source": [
    "class Word():\n",
    "    def __init__(self, text):\n",
    "        self.text = text\n",
    "        \n",
    "    def __eq__(self, word2):\n",
    "        return self.text.lower() == word2.text.lower()\n",
    "    \n",
    "first = Word('ha')\n",
    "second = Word('HA')\n",
    "third = Word('AB')\n",
    "\n",
    "print(first == second)\n",
    "print(first == third)"
   ]
  },
  {
   "cell_type": "markdown",
   "metadata": {},
   "source": [
    "1. `__eq__(self,other)`\n",
    "    - `self == other`\n",
    "1. `__ne__(self,other)`\n",
    "    - `self != other`\n",
    "1. `__it__(self,other)`\n",
    "    - `self < other`\n",
    "1. `__gt__(self,other)`\n",
    "    - `self > other`\n",
    "1. `__le__(self,other)`\n",
    "    - `self <= other`\n",
    "1. `__ge__(self,other)`\n",
    "    - `self >= other`\n",
    "\n",
    "1. `__add__(self,other)`\n",
    "    - `self + other`\n",
    "1. `__sub__(self,other)`\n",
    "    - `self - other`\n",
    "1. `__mul__(self,other)`\n",
    "    - `self * other`\n",
    "1. `__floordiv__(self,other)`\n",
    "    - `self // other`\n",
    "1. `__truediv__(self,other)`\n",
    "    - `self / other`\n",
    "1. `__mod__(self,other)`\n",
    "    - `self % other`\n",
    "1. `__pow__(self,other)`\n",
    "    - `self ** other`\n",
    "\n",
    "1. `__str__(self)`\n",
    "    - `str(self)`\n",
    "1. `__repr__(self)`\n",
    "    - `repr(self)`\n",
    "1. `__len__(self)`\n",
    "    - `len(self)`"
   ]
  },
  {
   "cell_type": "markdown",
   "metadata": {},
   "source": [
    "## 6.13 Composition\n",
    "\n",
    "상속(자식 is-a 부모)보다 composition, aggregation의 사용이 더 적절할 수 있다(X has-a Y)"
   ]
  },
  {
   "cell_type": "code",
   "execution_count": 41,
   "metadata": {
    "collapsed": false
   },
   "outputs": [
    {
     "name": "stdout",
     "output_type": "stream",
     "text": [
      "bill.description wide orange\n",
      "tail.length long\n"
     ]
    }
   ],
   "source": [
    "class Bill():\n",
    "    def __init__(self, description):\n",
    "        self.description = description\n",
    "        \n",
    "class Tail():\n",
    "    def __init__(self, length):\n",
    "        self.length = length\n",
    "        \n",
    "class Duck():\n",
    "    def __init__(self, bill, tail):\n",
    "        self.bill = bill\n",
    "        self.tail = tail\n",
    "    \n",
    "    def about(self):\n",
    "        print('bill.description', self.bill.description)\n",
    "        print('tail.length', self.tail.length)\n",
    "        \n",
    "tail = Tail('long')\n",
    "bill = Bill('wide orange')\n",
    "duck = Duck(bill, tail)\n",
    "duck.about()"
   ]
  },
  {
   "cell_type": "markdown",
   "metadata": {},
   "source": [
    "## 6.14 네임드 튜플\n",
    "\n",
    "네임드 튜플은 각 위치의 의미를 명시적으로 작성할 수 있는 튜플이다.\n",
    "\n",
    "- 불변하는 객체처럼 행동\n",
    "- 객체보다 공간 효율성과 시간 효울성이 더 좋다\n",
    "- 딕셔너리 형식의 괄호([]) 대신 점(.) 표기법으로 속성 접근이 가능\n",
    "- 딕셔너리의 키처럼 쓸 수 있다."
   ]
  },
  {
   "cell_type": "code",
   "execution_count": 44,
   "metadata": {
    "collapsed": false
   },
   "outputs": [
    {
     "name": "stdout",
     "output_type": "stream",
     "text": [
      "Duck(bill='wide orange', tail='long')\n",
      "wide orange\n",
      "long\n",
      "\n",
      "Duck(bill='wide orange', tail='long')\n"
     ]
    }
   ],
   "source": [
    "from collections import namedtuple\n",
    "\n",
    "Duck = namedtuple('Duck', 'bill tail')\n",
    "duck = Duck('wide orange', 'long')\n",
    "print(duck)\n",
    "\n",
    "print(duck.bill)\n",
    "print(duck.tail)\n",
    "print()\n",
    "\n",
    "parts = {'bill':'wide orange', 'tail':'long'}\n",
    "# **는 키워드 인자다 키와 갑을 추출하여 인자로 제공한다\n",
    "duck2 = Duck(**parts) # Duck(bill='wide orange', tail='long') 와 같은 의미\n",
    "print(duck2)"
   ]
  },
  {
   "cell_type": "code",
   "execution_count": null,
   "metadata": {
    "collapsed": true
   },
   "outputs": [],
   "source": []
  }
 ],
 "metadata": {
  "kernelspec": {
   "display_name": "Python 3",
   "language": "python",
   "name": "python3"
  },
  "language_info": {
   "codemirror_mode": {
    "name": "ipython",
    "version": 3
   },
   "file_extension": ".py",
   "mimetype": "text/x-python",
   "name": "python",
   "nbconvert_exporter": "python",
   "pygments_lexer": "ipython3",
   "version": "3.5.2"
  }
 },
 "nbformat": 4,
 "nbformat_minor": 1
}
