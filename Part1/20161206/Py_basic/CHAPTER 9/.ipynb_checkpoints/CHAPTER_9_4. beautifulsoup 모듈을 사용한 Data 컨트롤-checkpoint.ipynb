{
 "cells": [
  {
   "cell_type": "markdown",
   "metadata": {},
   "source": [
    "## 9.4 beautifulsoup \n",
    "- beautifulSoup는 HTML과 XML 파일에서 데이터를 읽어내는 파이썬 라이브러리로 파서 트리를 탐색, 검색, 수정하는데 간편하고 사용자가 만든 파서와 함께 사용이 가능하다.\n",
    "- conda install lxml\n",
    "- conda install -c anaconda beautifulsoup4=4.5.1"
   ]
  },
  {
   "cell_type": "code",
   "execution_count": 6,
   "metadata": {
    "collapsed": false,
    "scrolled": true
   },
   "outputs": [
    {
     "name": "stdout",
     "output_type": "stream",
     "text": [
      "<author>Carson</author>\n",
      "Carson\n",
      "<author>Sungchul</author>\n",
      "Sungchul\n"
     ]
    }
   ],
   "source": [
    "import urllib.request\n",
    "from bs4 import BeautifulSoup\n",
    "## https://s3.ap-northeast-2.amazonaws.com/teamlab-gachon/books.xml\n",
    "url = \"https://s3.ap-northeast-2.amazonaws.com/teamlab-gachon/books.xml\"\n",
    "urllib.request.urlretrieve(url, 'books.xml')\n",
    "\n",
    "with open(\"books.xml\",\"r\", encoding=\"utf8\") as books_file:\n",
    "    books_xml = books_file.read() #File을 String으로 읽어오기\n",
    "    \n",
    "soup = BeautifulSoup(books_xml, \"lxml\") # 객체생성\n",
    "\n",
    "for book_info in soup.find_all(\"author\"):\n",
    "    print(book_info)\n",
    "    print(book_info.get_text())\n",
    "    "
   ]
  },
  {
   "cell_type": "code",
   "execution_count": 8,
   "metadata": {
    "collapsed": false
   },
   "outputs": [
    {
     "name": "stdout",
     "output_type": "stream",
     "text": [
      "invention_title_tag : <invention-title id=\"d2e43\">Adjustable shoulder device for hard upper torso suit</invention-title>\n",
      "invention_title_tag_text : Adjustable shoulder device for hard upper torso suit\n"
     ]
    }
   ],
   "source": [
    "import urllib.request\n",
    "from bs4 import BeautifulSoup\n",
    "## https://s3.ap-northeast-2.amazonaws.com/teamlab-gachon/books.xml\n",
    "url = \"https://s3.ap-northeast-2.amazonaws.com/teamlab-gachon/US08621662-20140107.XML\"\n",
    "urllib.request.urlretrieve(url, 'US08621662-20140107.XML')\n",
    "\n",
    "with open(\"US08621662-20140107.XML\",\"r\", encoding=\"utf8\") as patent_xml:\n",
    "    xml = patent_xml.read() #File을 String으로 읽어오기\n",
    "    \n",
    "soup = BeautifulSoup(xml, \"lxml\") # lxml parset 호출\n",
    "invention_title_tag = soup.find(\"invention-title\")\n",
    "print(\"invention_title_tag : {0}\".format(invention_title_tag))   # tag를 찾아옴.\n",
    "print(\"invention_title_tag_text : {0}\".format(invention_title_tag.get_text())) # tag 안에 있는 text 정보 추출\n"
   ]
  }
 ],
 "metadata": {
  "anaconda-cloud": {},
  "kernelspec": {
   "display_name": "Python [default]",
   "language": "python",
   "name": "python3"
  },
  "language_info": {
   "codemirror_mode": {
    "name": "ipython",
    "version": 3
   },
   "file_extension": ".py",
   "mimetype": "text/x-python",
   "name": "python",
   "nbconvert_exporter": "python",
   "pygments_lexer": "ipython3",
   "version": "3.5.2"
  }
 },
 "nbformat": 4,
 "nbformat_minor": 1
}
