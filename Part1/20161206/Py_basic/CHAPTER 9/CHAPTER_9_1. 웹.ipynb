{
 "cells": [
  {
   "cell_type": "markdown",
   "metadata": {},
   "source": [
    "## 9.1 파이썬과 인터넷\n",
    "### 파이썬이 지원하는 네트워크, 인터넷 모듈\n",
    "- socket : 로우 레벨 네크워킹 인터페이스\n",
    "\n",
    " - http://jonnung.blogspot.kr/2014/10/socket-network-programing.html\n",
    "\n",
    " - http://jonnung.blogspot.kr/2014/10/python-socket-chat-programing.html\n",
    "\n",
    "- email : 메일 전송을 위한 모듈\n",
    "- mailbox : 메일 박스를 관리하기 위한 모듈\n",
    "- webbrowser : 웹 브라우저를 제어하기 위한 모듈\n",
    "- urllib : URL과 관련된 패키지 모듈\n",
    "    "
   ]
  },
  {
   "cell_type": "markdown",
   "metadata": {},
   "source": [
    "## Socket Server"
   ]
  },
  {
   "cell_type": "code",
   "execution_count": 3,
   "metadata": {
    "collapsed": false
   },
   "outputs": [
    {
     "name": "stdout",
     "output_type": "stream",
     "text": [
      "==============================================\n",
      "채팅 서버를 시작합니다. 56789 포트로 접속을 기다립니다.\n",
      "==============================================\n",
      "[INFO] 요청을 기다립니다...\n",
      "[INFO] 요청을 기다립니다...\n",
      "[INFO] 요청을 기다립니다...\n",
      "[INFO] 요청을 기다립니다...\n",
      "[INFO] 요청을 기다립니다...\n",
      "[INFO] 요청을 기다립니다...\n",
      "[INFO] 요청을 기다립니다...\n",
      "[INFO] 요청을 기다립니다...\n",
      "[INFO][Thu Dec  1 11:18:08 2016] 클라이언트(127.0.0.1)가 새롭게 연결 되었습니다.\n",
      "[INFO] 요청을 기다립니다...\n",
      "[INFO] 요청을 기다립니다...\n",
      "[INFO] 요청을 기다립니다...\n",
      "[INFO] 요청을 기다립니다...\n"
     ]
    },
    {
     "ename": "SystemExit",
     "evalue": "",
     "output_type": "error",
     "traceback": [
      "An exception has occurred, use %tb to see the full traceback.\n",
      "\u001b[0;31mSystemExit\u001b[0m\n"
     ]
    },
    {
     "name": "stderr",
     "output_type": "stream",
     "text": [
      "C:\\Anaconda3\\lib\\site-packages\\IPython\\core\\interactiveshell.py:2889: UserWarning: To exit: use 'exit', 'quit', or Ctrl-D.\n",
      "  warn(\"To exit: use 'exit', 'quit', or Ctrl-D.\", stacklevel=1)\n"
     ]
    }
   ],
   "source": [
    "# -*- coding: utf8 -*-\n",
    "\n",
    "# socket 과 select 모듈 임포트\n",
    "from socket import *\n",
    "from select import *\n",
    "import sys\n",
    "from time import ctime\n",
    "\n",
    "\n",
    "# 호스트, 포트와 버퍼 사이즈를 지정\n",
    "HOST = ''\n",
    "PORT = 56789\n",
    "BUFSIZE = 1024\n",
    "ADDR = (HOST, PORT)\n",
    "\n",
    "# 소켓 객체를 만들고..\n",
    "serverSocket = socket(AF_INET, SOCK_STREAM)\n",
    "\n",
    "# 서버 정보를 바인딩\n",
    "serverSocket.bind(ADDR)\n",
    "\n",
    "# 요청을 기다림(listen)\n",
    "serverSocket.listen(10)\n",
    "connection_list = [serverSocket]\n",
    "print('==============================================')\n",
    "print('채팅 서버를 시작합니다. %s 포트로 접속을 기다립니다.' % str(PORT))\n",
    "print('==============================================')\n",
    "\n",
    "# 무한 루프를 시작\n",
    "while connection_list:\n",
    "    try:\n",
    "        print('[INFO] 요청을 기다립니다...')\n",
    "\n",
    "        # select 로 요청을 받고, 10초마다 블럭킹을 해제하도록 함\n",
    "        read_socket, write_socket, error_socket = select(connection_list, [], [], 10)\n",
    "\n",
    "        for sock in read_socket:\n",
    "            # 새로운 접속\n",
    "            if sock == serverSocket:\n",
    "                clientSocket, addr_info = serverSocket.accept()\n",
    "                connection_list.append(clientSocket)\n",
    "                print('[INFO][%s] 클라이언트(%s)가 새롭게 연결 되었습니다.' % (ctime(), addr_info[0]))\n",
    "\n",
    "                # 클라이언트로 응답을 돌려줌\n",
    "                for socket_in_list in connection_list:\n",
    "                    if socket_in_list != serverSocket and socket_in_list != sock:\n",
    "                        try:\n",
    "                            socket_in_list.send('[%s] 새로운 방문자가 대화방에 들어왔습니다. 반가워요~ 짝짝짝!' % ctime())\n",
    "                        except Exception as e:\n",
    "                            socket_in_list.close()\n",
    "                            connection_list.remove(socket_in_list)\n",
    "            # 접속한 사용자(클라이언트)로부터 새로운 데이터 받음\n",
    "            else:\n",
    "                data = sock.recv(BUFSIZE)\n",
    "                if data:\n",
    "                    print('[INFO][%s] 클라이언트로부터 데이터를 전달 받았습니다.' % ctime())\n",
    "                    for socket_in_list in connection_list:\n",
    "                        if socket_in_list != serverSocket and socket_in_list != sock:\n",
    "                            try:\n",
    "                                socket_in_list.send('[%s] %s' % (ctime(), data))\n",
    "                                print('[INFO][%s] 클라이언트로 데이터를 전달합니다.' % ctime())\n",
    "                            except Exception as e:\n",
    "                                print(e.message)\n",
    "                                socket_in_list.close()\n",
    "                                connection_list.remove(socket_in_list)\n",
    "                                continue\n",
    "                else:\n",
    "                    connection_list.remove(sock)\n",
    "                    sock.close()\n",
    "                    print('[INFO][%s] 사용자와의 연결이 끊어졌습니다.' % ctime())\n",
    "    except KeyboardInterrupt:\n",
    "        # 부드럽게 종료하기\n",
    "        serverSocket.close()\n",
    "        sys.exit()"
   ]
  },
  {
   "cell_type": "markdown",
   "metadata": {},
   "source": [
    "## Socket Client"
   ]
  },
  {
   "cell_type": "code",
   "execution_count": null,
   "metadata": {
    "collapsed": true
   },
   "outputs": [],
   "source": [
    "# -*- coding: utf8 -*-\n",
    "\n",
    "# socket 모듈을 임포트\n",
    "from socket import *\n",
    "from select import select\n",
    "import sys\n",
    "\n",
    "\n",
    "# 호스트, 포트와 버퍼 사이즈를 지정\n",
    "HOST = '127.0.0.1'\n",
    "PORT = 56789\n",
    "BUFSIZE = 1024\n",
    "ADDR = (HOST, PORT)\n",
    "\n",
    "# 소켓 객체를 만들고\n",
    "clientSocket = socket(AF_INET, SOCK_STREAM)\n",
    "\n",
    "# 서버와의 연결을 시도\n",
    "try:\n",
    "    clientSocket.connect(ADDR)\n",
    "except Exception as e:\n",
    "    print('채팅 서버(%s:%s)에 연결 할 수 없습니다.' % ADDR)\n",
    "    sys.exit()\n",
    "print('채팅 서버(%s:%s)에 연결 되었습니다.' % ADDR)\n",
    "\n",
    "\n",
    "def prompt():\n",
    "    sys.stdout.write('<나> ')\n",
    "    sys.stdout.flush()\n",
    "\n",
    "# 무한 루프를 시작\n",
    "while True:\n",
    "    try:\n",
    "        connection_list = [sys.stdin, clientSocket]\n",
    "\n",
    "        read_socket, write_socket, error_socket = select(connection_list, [], [], 10)\n",
    "\n",
    "        for sock in read_socket:\n",
    "            if sock == clientSocket:\n",
    "                data = sock.recv(BUFSIZE)\n",
    "                if not data:\n",
    "                    print('채팅 서버(%s:%s)와의 연결이 끊어졌습니다.' % ADDR)\n",
    "                    clientSocket.close()\n",
    "                    sys.exit()\n",
    "                else:\n",
    "                    print('%s' % data)  # 메세지 시간은 서버 시간을 따른다\n",
    "                    prompt()\n",
    "            else:\n",
    "                message = sys.stdin.readline()\n",
    "                clientSocket.send(message)\n",
    "                prompt()\n",
    "    except KeyboardInterrupt:\n",
    "        clientSocket.close()\n",
    "        sys.exit()"
   ]
  },
  {
   "cell_type": "code",
   "execution_count": 1,
   "metadata": {
    "collapsed": false
   },
   "outputs": [
    {
     "name": "stdout",
     "output_type": "stream",
     "text": [
      "Start Download\n",
      "End Download\n"
     ]
    }
   ],
   "source": [
    "import urllib.request\n",
    "url = \"http://storage.googleapis.com/patents/grant_full_text/2014/ipg140107.zip\"\n",
    "print(\"Start Download\")\n",
    "fname, headers = urllib.request.urlretrieve(url, 'ipg140107.zip')\n",
    "print(\"End Download\")"
   ]
  }
 ],
 "metadata": {
  "anaconda-cloud": {},
  "kernelspec": {
   "display_name": "Python [default]",
   "language": "python",
   "name": "python3"
  },
  "language_info": {
   "codemirror_mode": {
    "name": "ipython",
    "version": 3
   },
   "file_extension": ".py",
   "mimetype": "text/x-python",
   "name": "python",
   "nbconvert_exporter": "python",
   "pygments_lexer": "ipython3",
   "version": "3.5.2"
  }
 },
 "nbformat": 4,
 "nbformat_minor": 1
}
