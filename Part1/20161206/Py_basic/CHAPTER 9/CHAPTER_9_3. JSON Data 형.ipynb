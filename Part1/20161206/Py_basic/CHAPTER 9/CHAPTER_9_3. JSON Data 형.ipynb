{
 "cells": [
  {
   "cell_type": "markdown",
   "metadata": {},
   "source": [
    "## 9.3 Json Data 란?\n",
    "- 원래 웹 언어인 Java Script의 데이터 객체 표현 방식.\n",
    "- 간결성으로 기계/인간이 모두 이해하기 편함.\n",
    "- 데이터 용량이 적고, Code로의 전환이 쉬움.\n",
    "  이로 인해 XML의 대체제로 많이 활용되고 있음.\n",
    "  \n",
    " - 문자열 data를 json 형식으로 바꿔주는 dumps()함수\n",
    " - json을 파이썬 객체로 변환시켜주는 decode()함수"
   ]
  },
  {
   "cell_type": "markdown",
   "metadata": {},
   "source": [
    "{\n",
    "    \"users\": [\n",
    "     {\n",
    "      \"name\": \"John\",\n",
    "      \"age\": 25\n",
    "     },\n",
    "     {\n",
    "      \"name\": \"Mark\",\n",
    "      \"age\": 29\n",
    "     },\n",
    "    ]\n",
    "}"
   ]
  },
  {
   "cell_type": "markdown",
   "metadata": {},
   "source": [
    "### Json 인코딩 -> dumps() 함수"
   ]
  },
  {
   "cell_type": "code",
   "execution_count": 1,
   "metadata": {
    "collapsed": false
   },
   "outputs": [
    {
     "name": "stdout",
     "output_type": "stream",
     "text": [
      "{\"history\": [{\"date\": \"2015-03-11\", \"item\": \"iPhone\"}, {\"date\": \"2016-02-23\", \"item\": \"Monitor\"}], \"name\": \"\\uac15\\uc9c4\\uc218\", \"id\": 152352}\n",
      "<class 'str'>\n"
     ]
    }
   ],
   "source": [
    "import json\n",
    "# Python Object(Dictionary, List, Tuple 등)를 JSON 문자열로 변경.\n",
    "# 테스트용 Python Dictionary\n",
    "customer = {\n",
    "    'id': 152352,\n",
    "    'name': '강진수',\n",
    "    'history': [\n",
    "        {'date': '2015-03-11', 'item': 'iPhone'},\n",
    "        {'date': '2016-02-23', 'item': 'Monitor'},\n",
    "    ]\n",
    "}\n",
    " \n",
    "# JSON 인코딩\n",
    "jsonString = json.dumps(customer)\n",
    " \n",
    "# 문자열 출력\n",
    "print(jsonString)\n",
    "print(type(jsonString))   # 문자열 타입"
   ]
  },
  {
   "cell_type": "code",
   "execution_count": 2,
   "metadata": {
    "collapsed": false
   },
   "outputs": [
    {
     "name": "stdout",
     "output_type": "stream",
     "text": [
      "{\n",
      "    \"history\": [\n",
      "        {\n",
      "            \"date\": \"2015-03-11\",\n",
      "            \"item\": \"iPhone\"\n",
      "        },\n",
      "        {\n",
      "            \"date\": \"2016-02-23\",\n",
      "            \"item\": \"Monitor\"\n",
      "        }\n",
      "    ],\n",
      "    \"name\": \"\\uac15\\uc9c4\\uc218\",\n",
      "    \"id\": 152352\n",
      "}\n"
     ]
    }
   ],
   "source": [
    "jsonString = json.dumps(customer, indent=4) # json data를 읽기 편하게 처리를 위해서는 indent 옵션을 설정해서 출력한다.\n",
    "print(jsonString)"
   ]
  },
  {
   "cell_type": "markdown",
   "metadata": {},
   "source": [
    "### JSON 디코딩"
   ]
  },
  {
   "cell_type": "code",
   "execution_count": 3,
   "metadata": {
    "collapsed": false
   },
   "outputs": [
    {
     "name": "stdout",
     "output_type": "stream",
     "text": [
      "<class 'str'>\n",
      "<class 'dict'>\n",
      "강진수\n",
      "2015-03-11 iPhone\n",
      "2016-02-23 Monitor\n"
     ]
    }
   ],
   "source": [
    "import json\n",
    " \n",
    "# 테스트용 JSON 문자열\n",
    "jsonString = '{\"name\": \"강진수\", \"id\": 152352, \"history\": [{\"date\": \"2015-03-11\", \"item\": \"iPhone\"}, {\"date\": \"2016-02-23\", \"item\": \"Monitor\"}]}'\n",
    "\n",
    "print(type(jsonString))  ## 문자열 타입\n",
    "\n",
    "# JSON 디코딩을 처리하면 Dictionary type으로 변경됨.\n",
    "dict = json.loads(jsonString)\n",
    "\n",
    "print(type(dict))        ## dictionary 타입으로 전환\n",
    "\n",
    "# Dictionary 데이타 체크\n",
    "print(dict['name'])\n",
    "for h in dict['history']:\n",
    "    print(h['date'], h['item'])"
   ]
  },
  {
   "cell_type": "code",
   "execution_count": 6,
   "metadata": {
    "collapsed": false,
    "scrolled": true
   },
   "outputs": [
    {
     "name": "stdout",
     "output_type": "stream",
     "text": [
      "[{'firstName': 'John', 'lastName': 'Doe'}, {'firstName': 'Anna', 'lastName': 'Smith'}, {'firstName': 'Peter', 'lastName': 'Jones'}]\n"
     ]
    }
   ],
   "source": [
    "import urllib.request\n",
    "import json\n",
    "## https://s3.ap-northeast-2.amazonaws.com/teamlab-gachon/books.xml\n",
    "url = \"https://s3.ap-northeast-2.amazonaws.com/teamlab-gachon/json_example.json\"\n",
    "urllib.request.urlretrieve(url, 'json_example.json')\n",
    "\n",
    "with open(\"json_example.json\",\"r\", encoding=\"utf8\") as f_json:\n",
    "    contents = f_json.read() #File을 String으로 읽어오기    \n",
    "    json_data = json.loads(contents)\n",
    "    print(json_data[\"employees\"])"
   ]
  },
  {
   "cell_type": "code",
   "execution_count": 16,
   "metadata": {
    "collapsed": false
   },
   "outputs": [
    {
     "name": "stdout",
     "output_type": "stream",
     "text": [
      "{'employees': [{'firstName': 'John', 'lastName': 'Doe'}, {'firstName': 'Anna', 'lastName': 'Smith'}, {'firstName': 'Peter', 'lastName': 'Jones'}]}\n"
     ]
    }
   ],
   "source": [
    "import requests\n",
    "import json\n",
    "## https://s3.ap-northeast-2.amazonaws.com/teamlab-gachon/books.xml\n",
    "url = \"https://s3.ap-northeast-2.amazonaws.com/teamlab-gachon/json_example.json\"\n",
    "r = requests.get(url)\n",
    "json_data = r.json()\n",
    "print(json_data)"
   ]
  }
 ],
 "metadata": {
  "anaconda-cloud": {},
  "kernelspec": {
   "display_name": "Python [default]",
   "language": "python",
   "name": "python3"
  },
  "language_info": {
   "codemirror_mode": {
    "name": "ipython",
    "version": 3
   },
   "file_extension": ".py",
   "mimetype": "text/x-python",
   "name": "python",
   "nbconvert_exporter": "python",
   "pygments_lexer": "ipython3",
   "version": "3.5.2"
  }
 },
 "nbformat": 4,
 "nbformat_minor": 1
}
