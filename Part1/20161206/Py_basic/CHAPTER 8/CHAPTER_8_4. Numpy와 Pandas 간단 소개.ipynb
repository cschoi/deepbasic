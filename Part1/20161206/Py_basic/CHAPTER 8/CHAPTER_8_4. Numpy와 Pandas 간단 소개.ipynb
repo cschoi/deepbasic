{
 "cells": [
  {
   "cell_type": "markdown",
   "metadata": {},
   "source": [
    "# 8.4 Numpy , Pandas 란?"
   ]
  },
  {
   "cell_type": "markdown",
   "metadata": {},
   "source": [
    "** 1). Numpy **\n",
    "- numpy는 array이 자료구조를 제공함.\n",
    "\n",
    "파이썬의 list와 유사한 성격을 가짐.\n",
    "  다만, list는 성분의 type이 달라도 구성할 수 있지만 numpy의 array는 성분의 type이 반드시 같아야 함.\n"
   ]
  },
  {
   "cell_type": "code",
   "execution_count": 14,
   "metadata": {
    "collapsed": false,
    "scrolled": true
   },
   "outputs": [
    {
     "name": "stdout",
     "output_type": "stream",
     "text": [
      "[1 2 3 5]\n",
      "<class 'numpy.ndarray'>\n",
      "----------------------------------------\n",
      "['1.0' '2' '3' 'aaa']\n",
      "<class 'numpy.ndarray'>\n",
      "----------------------------------------\n",
      "[1, 2, 3, 4, 'so']\n",
      "<class 'list'>\n",
      "<class 'int'>\n",
      "<class 'str'>\n"
     ]
    }
   ],
   "source": [
    "import numpy as np\n",
    "a = np.array([1,2,3,5])\n",
    "print(a)\n",
    "print(type(a))\n",
    "\n",
    "print('----------------------------------------')\n",
    "b = np.array([1.0,2,3,\"aaa\"]) # 숫자, 문자 조합의 array로 구성\n",
    "print(b)                      # 자동으로 형변환을 시킨다.\n",
    "print(type(b))\n",
    "\n",
    "print('----------------------------------------')\n",
    "c = [1,2,3,4,'so']            # 파이썬의 list는 형변환 없이 가능함.\n",
    "print(c)\n",
    "print(type(c))\n",
    "print(type(c[0]))             # int형\n",
    "print(type(c[4]))             # str형"
   ]
  },
  {
   "cell_type": "markdown",
   "metadata": {},
   "source": [
    "** 2). Pandas **\n",
    "- Pandas는 데이터 분석을 위한 고수준의 자료구조와 데이터 분석 도구를 제공함.\n",
    "- Pandas의 Series는 1차원 데이터를 다루는 데 효과적인 자료구조. ->(파이썬의 리스트와 튜플과 같은 1차원 배열)\n",
    "- Pandas의 DataFrame은 행과 열로 구성된 2차원 데이터를 다루는 데 효과적인 자료 구조."
   ]
  },
  {
   "cell_type": "markdown",
   "metadata": {},
   "source": [
    "** 2.1. Series **\n",
    "- Series는 파이션의 리스트와, 딕션너리를 융합해 놓은 자료구조이다."
   ]
  },
  {
   "cell_type": "code",
   "execution_count": 6,
   "metadata": {
    "collapsed": false,
    "scrolled": true
   },
   "outputs": [
    {
     "name": "stdout",
     "output_type": "stream",
     "text": [
      "['kakao', 'naver']\n",
      "kakao\n",
      "naver\n",
      "-------------\n",
      "kakao\n",
      "naver\n"
     ]
    }
   ],
   "source": [
    "# Python List 자료구조\n",
    "mystock = ['kakao', 'naver']\n",
    "print(mystock)\n",
    "print(mystock[0])\n",
    "print(mystock[1])\n",
    "print(\"-------------\")\n",
    "for stock in mystock:\n",
    "    print(stock)"
   ]
  },
  {
   "cell_type": "code",
   "execution_count": 8,
   "metadata": {
    "collapsed": false,
    "scrolled": true
   },
   "outputs": [
    {
     "name": "stdout",
     "output_type": "stream",
     "text": [
      "{'key1': 'room1', 'key2': 'room2'}\n",
      "room1\n",
      "room2\n"
     ]
    }
   ],
   "source": [
    "# Python dictionary\n",
    "dic = {'key1':'room1', 'key2':'room2'}\n",
    "print(dic)\n",
    "print(dic['key1'])\n",
    "print(dic['key2'])"
   ]
  },
  {
   "cell_type": "code",
   "execution_count": 10,
   "metadata": {
    "collapsed": false,
    "scrolled": true
   },
   "outputs": [
    {
     "name": "stdout",
     "output_type": "stream",
     "text": [
      "0    92600\n",
      "1    92400\n",
      "2    92100\n",
      "3    94300\n",
      "4    92300\n",
      "dtype: int64\n",
      "----------------\n",
      "92600\n",
      "94300\n"
     ]
    }
   ],
   "source": [
    "# Pandas Series\n",
    "from pandas import Series, DataFrame\n",
    "kakao = Series([92600, 92400, 92100, 94300, 92300])\n",
    "print(kakao) # Series 객체는 1차원 배열과 달리 값뿐만 아니라 각 값에 연결된 인덱스 값도 동시에 저장되고 인덱스 값은 0부터 순서대로 저장됨.\n",
    "print('----------------')\n",
    "print(kakao[0])\n",
    "print(kakao[3])"
   ]
  },
  {
   "cell_type": "code",
   "execution_count": 18,
   "metadata": {
    "collapsed": false,
    "scrolled": true
   },
   "outputs": [
    {
     "name": "stdout",
     "output_type": "stream",
     "text": [
      "2016-11-01    92600\n",
      "2016-11-02    92400\n",
      "2016-11-03    92100\n",
      "2016-11-04    94300\n",
      "2016-11-05    92300\n",
      "dtype: int64\n",
      "2016-11-03 : 92100\n",
      "------------------------\n",
      "2016-11-01\n",
      "2016-11-02\n",
      "2016-11-03\n",
      "2016-11-04\n",
      "2016-11-05\n",
      "------------------------\n",
      "92600\n",
      "92400\n",
      "92100\n",
      "94300\n",
      "92300\n"
     ]
    }
   ],
   "source": [
    "# Series 객체는 인덱싱 값을 사용자가 설정할 수 있음.\n",
    "kakao2 = Series([92600, 92400, 92100, 94300, 92300], index=['2016-11-01','2016-11-02', '2016-11-03', '2016-11-04', '2016-11-05'])\n",
    "print(kakao2)\n",
    "print(\"2016-11-03 : {0}\".format( kakao2['2016-11-03'])) \n",
    "# Series 객체 내의 데이터는 1차원으로 저장되어 있지만 파이썬의 딕셔너리와 유사하게 값과 해당 값에 대한 인덱스 값이 서로 연결되어 있음.\n",
    "\n",
    "print('------------------------')\n",
    "for date in kakao2.index:\n",
    "    print(date)\n",
    "print('------------------------')\n",
    "for end_price in kakao2.values:\n",
    "    print(end_price)    "
   ]
  },
  {
   "cell_type": "markdown",
   "metadata": {},
   "source": [
    "** 2.2 DataFrame **\n",
    "- DataFrame은 여러 개의 컬럼으로 구성된 2차원 형태의 자료구조."
   ]
  },
  {
   "cell_type": "code",
   "execution_count": 25,
   "metadata": {
    "collapsed": false,
    "scrolled": true
   },
   "outputs": [
    {
     "name": "stdout",
     "output_type": "stream",
     "text": [
      "   col0  col1  col2\n",
      "0     1    10   100\n",
      "1     2    20   200\n",
      "2     3    30   300\n",
      "3     4    40   400\n",
      "-----------------\n",
      "0    1\n",
      "1    2\n",
      "2    3\n",
      "3    4\n",
      "Name: col0, dtype: int64\n",
      "-----------------\n",
      "0    100\n",
      "1    200\n",
      "2    300\n",
      "3    400\n",
      "Name: col2, dtype: int64\n"
     ]
    },
    {
     "data": {
      "text/plain": [
       "pandas.core.series.Series"
      ]
     },
     "execution_count": 25,
     "metadata": {},
     "output_type": "execute_result"
    }
   ],
   "source": [
    "# 파이썬의 딕셔너리를 사용하여 DataFrame 객체를 생성.\n",
    "from pandas import Series, DataFrame\n",
    "\n",
    "raw_data = {'col0': [1, 2, 3, 4],\n",
    "            'col1': [10, 20, 30, 40],\n",
    "            'col2': [100, 200, 300, 400]}\n",
    "\n",
    "data = DataFrame(raw_data)\n",
    "print(data)\n",
    "print('-----------------')\n",
    "# Row 방향으로 Series와 같이 정숫값으로 자동으로 인덱싱이 생성됨.\n",
    "print(data['col0'])\n",
    "print('-----------------')\n",
    "print(data['col2'])\n",
    "# 파이썬 딕셔너리에서 키를 통해 값에 접근했던 것과 같이 DataFrame 객체의 각 컬럼에 접근할 수 있다.\n",
    "type(data['col0']) # type()을 통해 DataFrame의 각 컬럼의 타입을 확인해 보면 Series 객체임을 알 수 있다. \n",
    "# 즉, DataFrame은 인덱스가 같은 여러 개의 Series 객체로 구성된 자료구조라고 생각하면 됨."
   ]
  },
  {
   "cell_type": "code",
   "execution_count": 26,
   "metadata": {
    "collapsed": false,
    "scrolled": true
   },
   "outputs": [
    {
     "data": {
      "image/png": "[encoded data removed]",
      "text/plain": [
       "<IPython.core.display.Image object>"
      ]
     },
     "execution_count": 26,
     "metadata": {},
     "output_type": "execute_result"
    }
   ],
   "source": [
    "## 축약형 문자 표현\n",
    "from IPython.display import Image\n",
    "Image(\"./series.png\")"
   ]
  },
  {
   "cell_type": "markdown",
   "metadata": {},
   "source": [
    "### RDBMS와 PANDAS"
   ]
  },
  {
   "cell_type": "code",
   "execution_count": 47,
   "metadata": {
    "collapsed": false,
    "scrolled": true
   },
   "outputs": [
    {
     "name": "stdout",
     "output_type": "stream",
     "text": [
      "   id            email password\n",
      "0   3  test3@naver.com  m123456\n",
      "1   4  test4@naver.com  m123456\n",
      "2   5  test5@naver.com  m123456\n",
      "---------------------------------------------------------------\n",
      "<class 'pandas.core.frame.DataFrame'>\n",
      "---------------------------------------------------------------\n",
      "(3, 3)\n",
      "---------------------------------------------------------------\n",
      "id                        3\n",
      "email       test3@naver.com\n",
      "password            m123456\n",
      "Name: 0, dtype: object\n",
      "---------------------------------------------------------------\n",
      "Index(['id', 'email', 'password'], dtype='object')\n",
      "---------------------------------------------------------------\n",
      "0    test3@naver.com\n",
      "1    test4@naver.com\n",
      "2    test5@naver.com\n",
      "Name: email, dtype: object\n",
      "---------------------------------------------------------------\n",
      "RangeIndex(start=0, stop=3, step=1)\n"
     ]
    }
   ],
   "source": [
    "import pymysql as db\n",
    "import pandas as pd\n",
    "\n",
    "conn = db.connect(host='localhost', user='root', password='qwaszx12',db='TestDB', charset='utf8')\n",
    "data = pd.read_sql(\"SELECT * FROM users\", conn)    \n",
    "print(data)\n",
    "print('---------------------------------------------------------------')\n",
    "print(type(data))   # data type pandas.dataFrame\n",
    "print('---------------------------------------------------------------')\n",
    "print(data.shape)   # 3,3 행렬\n",
    "print('---------------------------------------------------------------')\n",
    "print(data.ix[0])   # dataFrame Row에 접근해서 data 호출\n",
    "print('---------------------------------------------------------------')\n",
    "print(data.columns) # dataFrame 의 행렬정보 \n",
    "print('---------------------------------------------------------------')\n",
    "print(data['email']) # 컬럼명을 이용해서 data 추출\n",
    "print('---------------------------------------------------------------')\n",
    "print(data.index)"
   ]
  }
 ],
 "metadata": {
  "anaconda-cloud": {},
  "kernelspec": {
   "display_name": "Python [default]",
   "language": "python",
   "name": "python3"
  },
  "language_info": {
   "codemirror_mode": {
    "name": "ipython",
    "version": 3
   },
   "file_extension": ".py",
   "mimetype": "text/x-python",
   "name": "python",
   "nbconvert_exporter": "python",
   "pygments_lexer": "ipython3",
   "version": "3.5.2"
  }
 },
 "nbformat": 4,
 "nbformat_minor": 1
}
