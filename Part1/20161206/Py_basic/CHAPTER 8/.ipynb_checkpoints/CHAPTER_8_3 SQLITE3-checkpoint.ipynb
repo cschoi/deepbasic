{
 "cells": [
  {
   "cell_type": "markdown",
   "metadata": {},
   "source": [
    "## 관련 사이트 자료 \n",
    "https://docs.python.org/3/library/sqlite3.html\n",
    "- SQLite3는 DB-API 2.0 스펙을 따르는 인터페이스를 제공하는 pysqlite 모듈로 작성됨. \n",
    "- 이 모듈은 파이썬 배포판에 기본적으로 포함되어 있음."
   ]
  },
  {
   "cell_type": "code",
   "execution_count": null,
   "metadata": {
    "collapsed": false,
    "scrolled": true
   },
   "outputs": [],
   "source": [
    "%ls # 현재 디렉토리 정보 확인"
   ]
  },
  {
   "cell_type": "code",
   "execution_count": 2,
   "metadata": {
    "collapsed": false
   },
   "outputs": [],
   "source": [
    "import sqlite3  #slqlite3 모듈 import"
   ]
  },
  {
   "cell_type": "code",
   "execution_count": 3,
   "metadata": {
    "collapsed": false,
    "scrolled": false
   },
   "outputs": [],
   "source": [
    "#con = sqlite3.connect(\":memory:\") # 메모리상에 DB 파일 생성.\n",
    "con = sqlite3.connect(\"test1.db\", timeout=1) # disk상에 test1.db 파일 생성\n",
    "cur = con.cursor()\n",
    "try:\n",
    "    cur.execute(\"CREATE TABLE IF NOT EXISTS phoneBook (Name text, PhoneNum test);\")\n",
    "    cur.execute(\"INSERT INTO phoneBook  VALUES ('Bear', '010-4442-5348');\")\n",
    "except sqlite3.OperationalError:\n",
    "    cur.execute(\"DROP TABLE phoneBook;\")\n",
    "    cur.execute(\"CREATE TABLE IF NOT EXISTS phoneBook (Name text, PhoneNum test);\")\n",
    "    \n",
    "cur.close()\n",
    "con.close()"
   ]
  },
  {
   "cell_type": "markdown",
   "metadata": {},
   "source": [
    "## 1. Data 입력"
   ]
  },
  {
   "cell_type": "code",
   "execution_count": 4,
   "metadata": {
    "collapsed": false
   },
   "outputs": [],
   "source": [
    "try:\n",
    "    with sqlite3.connect(\"./test1.db\") as conn:\n",
    "        cur= conn.cursor()\n",
    "        cur.execute(\"INSERT INTO phoneBook  VALUES ('Bear1', '010-4442-5348');\")\n",
    "except sqlite3.OperationalError:\n",
    "    print(\"database Errror!!\")"
   ]
  },
  {
   "cell_type": "code",
   "execution_count": 5,
   "metadata": {
    "collapsed": false
   },
   "outputs": [],
   "source": [
    "try:\n",
    "    with sqlite3.connect(\"./test1.db\") as conn:\n",
    "        cur= conn.cursor()\n",
    "        \n",
    "        name = \"진석\"\n",
    "        phonenum = '010-2332-3333'\n",
    "        cur.execute(\"INSERT INTO phoneBook  VALUES (?,?);\", (name, phonenum))\n",
    "except sqlite3.OperationalError:\n",
    "    print(\"database Errror!!\")"
   ]
  },
  {
   "cell_type": "code",
   "execution_count": 6,
   "metadata": {
    "collapsed": false
   },
   "outputs": [],
   "source": [
    "try:\n",
    "    with sqlite3.connect(\"./test1.db\") as conn:\n",
    "        cur= conn.cursor()\n",
    "        datalist = (('Tom','010-9999-2222'), ('John','010-3930-3039'))\n",
    "        cur.executemany(\"INSERT INTO phoneBook  VALUES (?,?);\", datalist)\n",
    "except sqlite3.OperationalError:\n",
    "    print(\"database Errror!!\")"
   ]
  },
  {
   "cell_type": "markdown",
   "metadata": {},
   "source": [
    "## 2. 레코드 조회"
   ]
  },
  {
   "cell_type": "code",
   "execution_count": 7,
   "metadata": {
    "collapsed": false,
    "scrolled": true
   },
   "outputs": [
    {
     "name": "stdout",
     "output_type": "stream",
     "text": [
      "('Bear1', '010-4442-5348')\n",
      "('진석', '010-2332-3333')\n",
      "('Tom', '010-9999-2222')\n",
      "('John', '010-3930-3039')\n"
     ]
    }
   ],
   "source": [
    "try:\n",
    "    with sqlite3.connect(\"./test1.db\") as conn:\n",
    "        cur= conn.cursor()\n",
    "        cur.execute(\"SELECT * FROM phoneBook;\")\n",
    "        for row in cur:\n",
    "            print(row)\n",
    "except sqlite3.OperationalError:\n",
    "    print(\"database Errror!!\")"
   ]
  },
  {
   "cell_type": "code",
   "execution_count": 8,
   "metadata": {
    "collapsed": false,
    "scrolled": true
   },
   "outputs": [
    {
     "name": "stdout",
     "output_type": "stream",
     "text": [
      "('Bear1', '010-4442-5348')\n",
      "[('진석', '010-2332-3333'), ('Tom', '010-9999-2222')]\n"
     ]
    }
   ],
   "source": [
    "try:\n",
    "    with sqlite3.connect(\"./test1.db\") as conn:\n",
    "        cur= conn.cursor()\n",
    "        cur.execute(\"SELECT * FROM phoneBook;\")\n",
    "        print(cur.fetchone())   # 조회된 결과 집합으로부터 한 개의 row 객체를 반환함.\n",
    "        print(cur.fetchmany(2)) # 조회된 결과 집합에서 n개 만큼 Row를 리스트 형태로 반환함.\n",
    "except sqlite3.OperationalError:\n",
    "    print(\"database Errror!!\")"
   ]
  },
  {
   "cell_type": "code",
   "execution_count": 9,
   "metadata": {
    "collapsed": false,
    "scrolled": false
   },
   "outputs": [
    {
     "name": "stdout",
     "output_type": "stream",
     "text": [
      "('Bear1', '010-4442-5348')\n",
      "[('진석', '010-2332-3333'), ('Tom', '010-9999-2222'), ('John', '010-3930-3039')]\n"
     ]
    }
   ],
   "source": [
    "try:\n",
    "    with sqlite3.connect(\"./test1.db\") as conn:\n",
    "        cur= conn.cursor()\n",
    "        cur.execute(\"SELECT * FROM phoneBook;\")\n",
    "        print(cur.fetchone())   # 조회된 결과 집합으로부터 한 개의 row 객체를 반환함.\n",
    "        print(cur.fetchall())   # 조회된 결과의 모든 Row를 리스트 형태로 반환함.\n",
    "except sqlite3.OperationalError:\n",
    "    print(\"database Errror!!\")\n",
    "    "
   ]
  },
  {
   "cell_type": "markdown",
   "metadata": {},
   "source": [
    "## 3. 레코드 정렬과 사용자 정렬 함수"
   ]
  },
  {
   "cell_type": "code",
   "execution_count": 12,
   "metadata": {
    "collapsed": false
   },
   "outputs": [
    {
     "name": "stdout",
     "output_type": "stream",
     "text": [
      "('진석', '010-2332-3333')\n",
      "[('eee', '010-1234-0000'), ('ddd', '010-8888-9999'), ('ccc', '010-6666-7777'), ('bbb', '010-4444-5555'), ('aaa', '010-222-333'), ('Tom', '010-9999-2222'), ('John', '010-3930-3039'), ('Bear1', '010-4442-5348')]\n"
     ]
    }
   ],
   "source": [
    "try:\n",
    "    with sqlite3.connect(\"./test1.db\") as conn:\n",
    "        cur= conn.cursor()\n",
    "        cur.execute(\"SELECT * FROM phoneBook ORDER BY name DESC;\")\n",
    "        print(cur.fetchone())   # 조회된 결과 집합으로부터 한 개의 row 객체를 반환함.\n",
    "        print(cur.fetchall())   # 조회된 결과의 모든 Row를 리스트 형태로 반환함.\n",
    "except sqlite3.OperationalError:\n",
    "    print(\"database Errror!!\")\n",
    "    "
   ]
  },
  {
   "cell_type": "markdown",
   "metadata": {},
   "source": [
    "## 4. 트랜잭션 처리"
   ]
  },
  {
   "cell_type": "code",
   "execution_count": 11,
   "metadata": {
    "collapsed": false,
    "scrolled": true
   },
   "outputs": [],
   "source": [
    "try:\n",
    "    persons = [('aaa','010-222-333'),('bbb','010-4444-5555'),('ccc','010-6666-7777'),('ddd','010-8888-9999'),('eee','010-1234-0000')]\n",
    "    conn = sqlite3.connect(\"./test1.db\")\n",
    "    conn.isolation_level = 'EXCLUSIVE'\n",
    "    conn.execute('BEGIN EXCLUSIVE') #“DEFERRED”, “IMMEDIATE” or “EXCLUSIVE” or autocommit mode : None\n",
    "    # start\n",
    "    conn.executemany(\"INSERT INTO phoneBook  VALUES (?,?);\", persons)\n",
    "    # end\n",
    "    conn.commit()\n",
    "    conn.close()\n",
    "except sqlite3.OperationalError:\n",
    "    print(\"database Errror!!\")"
   ]
  }
 ],
 "metadata": {
  "anaconda-cloud": {},
  "kernelspec": {
   "display_name": "Python [default]",
   "language": "python",
   "name": "python3"
  },
  "language_info": {
   "codemirror_mode": {
    "name": "ipython",
    "version": 3
   },
   "file_extension": ".py",
   "mimetype": "text/x-python",
   "name": "python",
   "nbconvert_exporter": "python",
   "pygments_lexer": "ipython3",
   "version": "3.5.2"
  }
 },
 "nbformat": 4,
 "nbformat_minor": 1
}
