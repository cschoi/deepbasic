{
 "cells": [
  {
   "cell_type": "markdown",
   "metadata": {},
   "source": [
    "# 8.1 표준 입력/출력\n"
   ]
  },
  {
   "cell_type": "markdown",
   "metadata": {},
   "source": [
    "### 표준 출력 :  print() 함수"
   ]
  },
  {
   "cell_type": "code",
   "execution_count": 6,
   "metadata": {
    "collapsed": false,
    "scrolled": true
   },
   "outputs": [
    {
     "name": "stdout",
     "output_type": "stream",
     "text": [
      "this is test\n",
      "0.2\n",
      "0.2\n",
      "0.2  this is test\n",
      "0.2 this is test\n"
     ]
    }
   ],
   "source": [
    "print('this is test')\n",
    "x = 0.2\n",
    "print(x) # print 함수의 인자는 몇 개가 들어가거나 어떤 변수가 들어가도 상관 없이 출력해 준다.\n",
    "print(str(x))\n",
    "print(x, ' this is test')\n",
    "print(str(x) +  ' this is test')"
   ]
  },
  {
   "cell_type": "code",
   "execution_count": 1,
   "metadata": {
    "collapsed": false,
    "scrolled": true
   },
   "outputs": [
    {
     "name": "stdout",
     "output_type": "stream",
     "text": [
      "Help on built-in function print in module builtins:\n",
      "\n",
      "print(...)\n",
      "    print(value, ..., sep=' ', end='\\n', file=sys.stdout, flush=False)\n",
      "    \n",
      "    Prints the values to a stream, or to sys.stdout by default.\n",
      "    Optional keyword arguments:\n",
      "    file:  a file-like object (stream); defaults to the current sys.stdout.\n",
      "    sep:   string inserted between values, default a space.\n",
      "    end:   string appended after the last value, default a newline.\n",
      "    flush: whether to forcibly flush the stream.\n",
      "\n"
     ]
    }
   ],
   "source": [
    "help(print) # ?print"
   ]
  },
  {
   "cell_type": "markdown",
   "metadata": {},
   "source": [
    "### 화면에 출력할때, 줄을 맞추거나 정렬할 일이 있을 경우 string 객체에서 제공되는 함수들을 이용."
   ]
  },
  {
   "cell_type": "code",
   "execution_count": 24,
   "metadata": {
    "collapsed": false,
    "scrolled": true
   },
   "outputs": [
    {
     "name": "stdout",
     "output_type": "stream",
     "text": [
      "1 * 1 = 1\n",
      "2 * 2 = 4\n",
      "3 * 3 = 9\n",
      "4 * 4 = 16\n",
      "5 * 5 = 25\n",
      "####################################\n",
      "오른쪽으로 정렬\n",
      "1 * 1 =     1\n",
      "2 * 2 =     4\n",
      "3 * 3 =     9\n",
      "4 * 4 =    16\n",
      "5 * 5 =    25\n",
      "####################################\n",
      "왼쪽으로 정렬\n",
      "1 * 1 = 1  \n",
      "2 * 2 = 4  \n",
      "3 * 3 = 9  \n",
      "4 * 4 = 16 \n",
      "5 * 5 = 25 \n",
      "####################################\n",
      "중앙으로 정렬\n",
      "1 * 1 =   1  \n",
      "2 * 2 =   4  \n",
      "3 * 3 =   9  \n",
      "4 * 4 =   16 \n",
      "5 * 5 =   25 \n",
      "####################################\n",
      "공백을 0으로 치환해서 출력\n",
      "1 * 1 = 001\n",
      "2 * 2 = 004\n",
      "3 * 3 = 009\n",
      "4 * 4 = 016\n",
      "5 * 5 = 025\n"
     ]
    }
   ],
   "source": [
    "for x in range(1,6):\n",
    "    print(x, '*', x, '=', x*x)\n",
    "print('####################################')    \n",
    "print('오른쪽으로 정렬')\n",
    "for x in range(1,6):\n",
    "    print(x, '*', x, '=', str(x*x).rjust(5))\n",
    "    \n",
    "print('####################################')    \n",
    "print('왼쪽으로 정렬')\n",
    "for x in range(1,6):\n",
    "    print(x, '*', x, '=', str(x*x).ljust(3))    \n",
    "\n",
    "print('####################################')    \n",
    "print('중앙으로 정렬')\n",
    "for x in range(1,6):\n",
    "    print(x, '*', x, '=', str(x*x).center(5))   \n",
    "    \n",
    "print('####################################')    \n",
    "print('공백을 0으로 치환해서 출력')\n",
    "for x in range(1,6):\n",
    "    print(x, '*', x, '=', str(x*x).zfill(3))       "
   ]
  },
  {
   "cell_type": "markdown",
   "metadata": {},
   "source": [
    "### print()함수에서 제공되는 format을 이용."
   ]
  },
  {
   "cell_type": "code",
   "execution_count": 30,
   "metadata": {
    "collapsed": false,
    "scrolled": true
   },
   "outputs": [
    {
     "name": "stdout",
     "output_type": "stream",
     "text": [
      "apple is red\n",
      "apple is red\n",
      "apple is red\n"
     ]
    }
   ],
   "source": [
    "print(\"{0} is {1}\".format(\"apple\", \"red\"))\n",
    "print(\"{item} is {color}\".format(item=\"apple\", color=\"red\"))\n",
    "\n",
    "dic = {\"item\":\"apple\", \"color\":\"red\"}\n",
    "print(\"{0[item]} is {0[color]}\".format(dic))"
   ]
  },
  {
   "cell_type": "markdown",
   "metadata": {},
   "source": [
    "### 표준 입력 : INPUT() 함수"
   ]
  },
  {
   "cell_type": "code",
   "execution_count": 3,
   "metadata": {
    "collapsed": false
   },
   "outputs": [
    {
     "name": "stdout",
     "output_type": "stream",
     "text": [
      "insert any key :this is python\n",
      "this is python\n"
     ]
    }
   ],
   "source": [
    "a = input('insert any key :') # python 3.X 부터 사용함. Python 2.x 버전에서는 raw_input을 사용함.\n",
    "print(a)"
   ]
  },
  {
   "cell_type": "code",
   "execution_count": 11,
   "metadata": {
    "collapsed": false,
    "scrolled": true
   },
   "outputs": [
    {
     "name": "stderr",
     "output_type": "stream",
     "text": [
      "welcome to ~ python\n"
     ]
    }
   ],
   "source": [
    "print(\"welcome to\", \"python\", sep=\" ~ \", file=sys.stderr) #file을 이용한 표준 오류를 출력하기 위해서는 import sys해 줘야 함."
   ]
  },
  {
   "cell_type": "code",
   "execution_count": 8,
   "metadata": {
    "collapsed": false
   },
   "outputs": [
    {
     "name": "stdout",
     "output_type": "stream",
     "text": [
      "This is test!! "
     ]
    }
   ],
   "source": [
    "import sys\n",
    "sys.stdout.write('This is test!! ')"
   ]
  },
  {
   "cell_type": "code",
   "execution_count": 9,
   "metadata": {
    "collapsed": false,
    "scrolled": false
   },
   "outputs": [
    {
     "name": "stderr",
     "output_type": "stream",
     "text": [
      "welcome to~python\n"
     ]
    }
   ],
   "source": [
    "import sys\n",
    "print(\"welcome to\", \"python\", sep=\"~\", file=sys.stderr)"
   ]
  },
  {
   "cell_type": "code",
   "execution_count": 34,
   "metadata": {
    "collapsed": true
   },
   "outputs": [],
   "source": [
    "import sys\n",
    "f = open('test1.txt','w')\n",
    "print(\"file write!!\", file=f) # 파일 출력 테스트\n",
    "f.close()"
   ]
  }
 ],
 "metadata": {
  "anaconda-cloud": {},
  "kernelspec": {
   "display_name": "Python [default]",
   "language": "python",
   "name": "python3"
  },
  "language_info": {
   "codemirror_mode": {
    "name": "ipython",
    "version": 3
   },
   "file_extension": ".py",
   "mimetype": "text/x-python",
   "name": "python",
   "nbconvert_exporter": "python",
   "pygments_lexer": "ipython3",
   "version": "3.5.2"
  }
 },
 "nbformat": 4,
 "nbformat_minor": 1
}
