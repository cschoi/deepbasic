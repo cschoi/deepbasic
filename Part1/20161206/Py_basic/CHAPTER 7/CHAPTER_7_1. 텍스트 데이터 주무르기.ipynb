{
 "cells": [
  {
   "cell_type": "markdown",
   "metadata": {},
   "source": [
    "# 7.1 덱스트 문자열"
   ]
  },
  {
   "cell_type": "markdown",
   "metadata": {},
   "source": [
    "## Python String Tutorial\n",
    "\n",
    "- https://www.tutorialspoint.com/python3/python_strings.htm\n"
   ]
  },
  {
   "cell_type": "markdown",
   "metadata": {},
   "source": [
    "### Python dir()함수를 이용하여 Python에서 지원하는 모든 문자열 출력"
   ]
  },
  {
   "cell_type": "code",
   "execution_count": 1,
   "metadata": {
    "collapsed": false
   },
   "outputs": [
    {
     "data": {
      "text/plain": [
       "['__add__',\n",
       " '__class__',\n",
       " '__contains__',\n",
       " '__delattr__',\n",
       " '__dir__',\n",
       " '__doc__',\n",
       " '__eq__',\n",
       " '__format__',\n",
       " '__ge__',\n",
       " '__getattribute__',\n",
       " '__getitem__',\n",
       " '__getnewargs__',\n",
       " '__gt__',\n",
       " '__hash__',\n",
       " '__init__',\n",
       " '__iter__',\n",
       " '__le__',\n",
       " '__len__',\n",
       " '__lt__',\n",
       " '__mod__',\n",
       " '__mul__',\n",
       " '__ne__',\n",
       " '__new__',\n",
       " '__reduce__',\n",
       " '__reduce_ex__',\n",
       " '__repr__',\n",
       " '__rmod__',\n",
       " '__rmul__',\n",
       " '__setattr__',\n",
       " '__sizeof__',\n",
       " '__str__',\n",
       " '__subclasshook__',\n",
       " 'capitalize',\n",
       " 'casefold',\n",
       " 'center',\n",
       " 'count',\n",
       " 'encode',\n",
       " 'endswith',\n",
       " 'expandtabs',\n",
       " 'find',\n",
       " 'format',\n",
       " 'format_map',\n",
       " 'index',\n",
       " 'isalnum',\n",
       " 'isalpha',\n",
       " 'isdecimal',\n",
       " 'isdigit',\n",
       " 'isidentifier',\n",
       " 'islower',\n",
       " 'isnumeric',\n",
       " 'isprintable',\n",
       " 'isspace',\n",
       " 'istitle',\n",
       " 'isupper',\n",
       " 'join',\n",
       " 'ljust',\n",
       " 'lower',\n",
       " 'lstrip',\n",
       " 'maketrans',\n",
       " 'partition',\n",
       " 'replace',\n",
       " 'rfind',\n",
       " 'rindex',\n",
       " 'rjust',\n",
       " 'rpartition',\n",
       " 'rsplit',\n",
       " 'rstrip',\n",
       " 'split',\n",
       " 'splitlines',\n",
       " 'startswith',\n",
       " 'strip',\n",
       " 'swapcase',\n",
       " 'title',\n",
       " 'translate',\n",
       " 'upper',\n",
       " 'zfill']"
      ]
     },
     "execution_count": 1,
     "metadata": {},
     "output_type": "execute_result"
    }
   ],
   "source": [
    "dir(str) "
   ]
  },
  {
   "cell_type": "code",
   "execution_count": 6,
   "metadata": {
    "collapsed": false
   },
   "outputs": [
    {
     "name": "stdout",
     "output_type": "stream",
     "text": [
      "Help on built-in function capitalize:\n",
      "\n",
      "capitalize(...) method of builtins.str instance\n",
      "    S.capitalize() -> str\n",
      "    \n",
      "    Return a capitalized version of S, i.e. make the first character\n",
      "    have upper case and the rest lower case.\n",
      "\n"
     ]
    }
   ],
   "source": [
    "help(\"sss\".capitalize)"
   ]
  },
  {
   "cell_type": "markdown",
   "metadata": {},
   "source": [
    "### Python 문자열 관련 주요 함수 목록"
   ]
  },
  {
   "cell_type": "markdown",
   "metadata": {},
   "source": [
    "- capitalize() : 첫 문자를 대문자로, 나머지 문자를 소문자로 바꿤.\n",
    "- count(keyword, [start, [end]]) : keyword가 몇 번 포함되어 있는지 알려줌.\n",
    "- encode([encoding, [error]]) : encoding 문자의 바이너리로 변환해줌.\n",
    "- endswitch(postfix, [start, [end]]) : postfix로 문자열이 끝나면 True을 반환하고, 그 외의 경우에는 False를 반환.\n",
    "- expandtabs([tabsize]) : tab을 공백으로 치환해줌. default tabsize는 8자.\n",
    "- find(keyword, [start, [end]]) : 문자열 keyword가 나타나는 첫 번째 인덱스를 반환해줌.\n",
    "- index(keyword, [start, [end]]) : find() 메서드와 동일하게 동작하지만, keyword를 찾지 못하는 경우 ValueError 예외가 발생함.\n",
    "- isalnum() : 알파벳과 숫자로 이루어져 있으면 True, 그 이외의 것은 False.\n",
    "- isalpha() : 알파벳으로만 이루어져 있으면 True, 다른 문자가 포함되어 있으면 False.\n",
    "- islower() : 모든 알파벳이 소문자이면 True, 대문자가 하나라도 섞여 있으면 False.\n",
    "- isupper() : 모든 알파벳이 대문자이면 True, 소문자가 하나라도 섞여 있으면 False.\n",
    "- isspace() : 모드 공백문자(Whitespace:스페이스, 탭, 개행문자)로 이루어져 있으면 True, 다른 문자가 섞여 있으면 False\n",
    "- join(sequence) : iterate 가능한 입력인 sequence형 변수를 지정된 문자열로 연결하여 반환.\n",
    "- strip([chars]) : 문자열의 양쪽 끝을 잘라냄.\n",
    "- lstrip([chars]) : 문자열의 왼쪽을 잘라냄.\n",
    "- rstrip([chars]) : 문자열의 오른쪽을 잘라냄.\n",
    "- split([separator, [maxsplit]]) : 문자열을 separator로 분리함.\n",
    "- replace(old, new, [count]) : old를 new로 대체한 결과를 반환. count를 입력인자로 준 경우에는 count만큼의 횟수만 대체함."
   ]
  },
  {
   "cell_type": "code",
   "execution_count": 7,
   "metadata": {
    "collapsed": false
   },
   "outputs": [
    {
     "data": {
      "text/plain": [
       "'Python is powerfull'"
      ]
     },
     "execution_count": 7,
     "metadata": {},
     "output_type": "execute_result"
    }
   ],
   "source": [
    "\"PYTHON is powerfull\".capitalize() #첫 문자를 대문자로, 나머지 문자를 소문자로 바꿤"
   ]
  },
  {
   "cell_type": "code",
   "execution_count": 8,
   "metadata": {
    "collapsed": false
   },
   "outputs": [
    {
     "data": {
      "text/plain": [
       "2"
      ]
     },
     "execution_count": 8,
     "metadata": {},
     "output_type": "execute_result"
    }
   ],
   "source": [
    "\"python is powerfull\".count(\"p\") # p 문자 수를 출력"
   ]
  },
  {
   "cell_type": "code",
   "execution_count": 9,
   "metadata": {
    "collapsed": false
   },
   "outputs": [
    {
     "data": {
      "text/plain": [
       "b'\\xea\\xb0\\x80\\xeb\\x82\\x98\\xeb\\x8b\\xa4'"
      ]
     },
     "execution_count": 9,
     "metadata": {},
     "output_type": "execute_result"
    }
   ],
   "source": [
    "\"가나다\".encode(\"utf-8\") # UTF-8로 변환"
   ]
  },
  {
   "cell_type": "code",
   "execution_count": 10,
   "metadata": {
    "collapsed": false
   },
   "outputs": [
    {
     "data": {
      "text/plain": [
       "b'\\xb0\\xa1\\xb3\\xaa\\xb4\\xd9'"
      ]
     },
     "execution_count": 10,
     "metadata": {},
     "output_type": "execute_result"
    }
   ],
   "source": [
    "\"가나다\".encode(\"cp949\") # 윈도우에서 사용하는 CP949로 변환"
   ]
  },
  {
   "cell_type": "code",
   "execution_count": 11,
   "metadata": {
    "collapsed": false
   },
   "outputs": [
    {
     "data": {
      "text/plain": [
       "True"
      ]
     },
     "execution_count": 11,
     "metadata": {},
     "output_type": "execute_result"
    }
   ],
   "source": [
    "\"python.py\".endswith('.py') # 문자가 존재하면 True, 아니면 False"
   ]
  },
  {
   "cell_type": "code",
   "execution_count": 12,
   "metadata": {
    "collapsed": false
   },
   "outputs": [
    {
     "data": {
      "text/plain": [
       "True"
      ]
     },
     "execution_count": 12,
     "metadata": {},
     "output_type": "execute_result"
    }
   ],
   "source": [
    "\"python.py\".endswith(('.py','.txt'))  # tuple형식으로 지정가능함."
   ]
  },
  {
   "cell_type": "code",
   "execution_count": 13,
   "metadata": {
    "collapsed": false
   },
   "outputs": [
    {
     "data": {
      "text/plain": [
       "'python  is      powerfull'"
      ]
     },
     "execution_count": 13,
     "metadata": {},
     "output_type": "execute_result"
    }
   ],
   "source": [
    "\"python\\tis\\tpowerfull\".expandtabs() # tab을 공백으로 치환. default tabsize 공백 8자"
   ]
  },
  {
   "cell_type": "code",
   "execution_count": 14,
   "metadata": {
    "collapsed": false,
    "scrolled": true
   },
   "outputs": [
    {
     "data": {
      "text/plain": [
       "'python is powerfull'"
      ]
     },
     "execution_count": 14,
     "metadata": {},
     "output_type": "execute_result"
    }
   ],
   "source": [
    "\"python\\tis\\tpowerfull\".expandtabs(1) # tabsize를 1로 설정하면 space 1칸으로 치환해줌."
   ]
  },
  {
   "cell_type": "code",
   "execution_count": 15,
   "metadata": {
    "collapsed": false,
    "scrolled": true
   },
   "outputs": [
    {
     "name": "stdout",
     "output_type": "stream",
     "text": [
      "0\n",
      "10\n"
     ]
    }
   ],
   "source": [
    "print(\"python is powerfull\".find('p'))\n",
    "print(\"python is powerfull\".find('p',5,-1)) #[5:-1] 슬라이싱으로 구간을 지정해 주면 해당 구간에서 값을 찾음."
   ]
  },
  {
   "cell_type": "code",
   "execution_count": 17,
   "metadata": {
    "collapsed": false,
    "scrolled": true
   },
   "outputs": [
    {
     "data": {
      "text/plain": [
       "-1"
      ]
     },
     "execution_count": 17,
     "metadata": {},
     "output_type": "execute_result"
    }
   ],
   "source": [
    "\"python is powerfull\".find('pf')  #찾는 문자가 없을 경우 -1을 리턴해줌."
   ]
  },
  {
   "cell_type": "code",
   "execution_count": 19,
   "metadata": {
    "collapsed": false,
    "scrolled": true
   },
   "outputs": [
    {
     "name": "stdout",
     "output_type": "stream",
     "text": [
      "0\n",
      "################################################\n"
     ]
    },
    {
     "ename": "ValueError",
     "evalue": "substring not found",
     "output_type": "error",
     "traceback": [
      "\u001b[0;31m---------------------------------------------------------------------------\u001b[0m",
      "\u001b[0;31mValueError\u001b[0m                                Traceback (most recent call last)",
      "\u001b[0;32m<ipython-input-19-bdeae6c0349e>\u001b[0m in \u001b[0;36m<module>\u001b[0;34m()\u001b[0m\n\u001b[1;32m      1\u001b[0m \u001b[0mprint\u001b[0m\u001b[1;33m(\u001b[0m\u001b[1;34m\"python is powerfull\"\u001b[0m\u001b[1;33m.\u001b[0m\u001b[0mindex\u001b[0m\u001b[1;33m(\u001b[0m\u001b[1;34m'p'\u001b[0m\u001b[1;33m)\u001b[0m\u001b[1;33m)\u001b[0m  \u001b[1;31m# 정상적으로 인덱스 위치 정보를 출력해줌.\u001b[0m\u001b[1;33m\u001b[0m\u001b[0m\n\u001b[1;32m      2\u001b[0m \u001b[0mprint\u001b[0m\u001b[1;33m(\u001b[0m\u001b[1;34m'################################################'\u001b[0m\u001b[1;33m)\u001b[0m\u001b[1;33m\u001b[0m\u001b[0m\n\u001b[0;32m----> 3\u001b[0;31m \u001b[0mprint\u001b[0m\u001b[1;33m(\u001b[0m\u001b[1;34m\"python is powerfull\"\u001b[0m\u001b[1;33m.\u001b[0m\u001b[0mindex\u001b[0m\u001b[1;33m(\u001b[0m\u001b[1;34m'pf'\u001b[0m\u001b[1;33m)\u001b[0m\u001b[1;33m)\u001b[0m  \u001b[1;31m# ValueError를 출력해줌.\u001b[0m\u001b[1;33m\u001b[0m\u001b[0m\n\u001b[0m",
      "\u001b[0;31mValueError\u001b[0m: substring not found"
     ]
    }
   ],
   "source": [
    "print(\"python is powerfull\".index('p'))  # 정상적으로 인덱스 위치 정보를 출력해줌.\n",
    "print('################################################')\n",
    "print(\"python is powerfull\".index('pf'))  # ValueError를 출력해줌."
   ]
  },
  {
   "cell_type": "code",
   "execution_count": 20,
   "metadata": {
    "collapsed": false,
    "scrolled": true
   },
   "outputs": [
    {
     "name": "stdout",
     "output_type": "stream",
     "text": [
      "True\n",
      "True\n",
      "False\n",
      "True\n",
      "False\n",
      "True\n",
      "True\n",
      "False\n"
     ]
    }
   ],
   "source": [
    "print(\"powerfull\".isalnum())\n",
    "print(\"top1000\".isalnum())\n",
    "print(\"top.1000\".isalnum()) #문자열에 '.'이 존재할 경우 False 리턴해줌.\n",
    "print(\"top\".isalpha())\n",
    "print(\"top111\".isalpha())    #숫자가 있을 경우 False 반환.\n",
    "print(\" \".isspace())\n",
    "print(\"\\t\\n \".isspace())\n",
    "print(\"\\tthi\\n \".isspace())  # whitespace 문자 이외의 문자가 포함된 경우는 False 반환."
   ]
  },
  {
   "cell_type": "code",
   "execution_count": 21,
   "metadata": {
    "collapsed": false,
    "scrolled": false
   },
   "outputs": [
    {
     "data": {
      "text/plain": [
       "'python,is,powerful'"
      ]
     },
     "execution_count": 21,
     "metadata": {},
     "output_type": "execute_result"
    }
   ],
   "source": [
    "list = [\"python\", \"is\", \"powerful\"]\n",
    "\",\".join(str(s) for s in list)"
   ]
  },
  {
   "cell_type": "code",
   "execution_count": 30,
   "metadata": {
    "collapsed": false
   },
   "outputs": [
    {
     "name": "stdout",
     "output_type": "stream",
     "text": [
      "['python', 'is', 'powerful']\n",
      "['python', 'is', 'powerful']\n"
     ]
    }
   ],
   "source": [
    "# 문자열을 separator로 분리하며 join()과 반대되는 기능을 수행한다. split()함수가 동일한 기능으 제공함.\n",
    "print(\"python is powerful\".rsplit())    # separator가 생략된 경우에는 공백문자를 구분자로 분리함.\n",
    "print(\"python,is,powerful\".rsplit(',')) # separator가 생략된 경우에는 공백문자를 구분자로 분리함."
   ]
  },
  {
   "cell_type": "code",
   "execution_count": 22,
   "metadata": {
    "collapsed": false
   },
   "outputs": [
    {
     "name": "stdout",
     "output_type": "stream",
     "text": [
      "python\n",
      "python\n",
      "python <<<\n",
      ">>> python\n"
     ]
    }
   ],
   "source": [
    "print(\"\\t python \\t\".strip())\n",
    "print(\">>> python <<<\".strip(\"<> \"))   #양쪽 끝을 잘음.\n",
    "print(\">>> python <<<\".lstrip(\"> \"))   #왼쪽을 잘음.\n",
    "print(\">>> python <<<\".rstrip(\"< \"))    #오른쪽을 잘음."
   ]
  },
  {
   "cell_type": "code",
   "execution_count": 31,
   "metadata": {
    "collapsed": false,
    "scrolled": true
   },
   "outputs": [
    {
     "name": "stdout",
     "output_type": "stream",
     "text": [
      "['python', 'is', 'powerful']\n"
     ]
    }
   ],
   "source": [
    "print(\"python is powerful\".split())"
   ]
  },
  {
   "cell_type": "code",
   "execution_count": 27,
   "metadata": {
    "collapsed": false
   },
   "outputs": [
    {
     "name": "stdout",
     "output_type": "stream",
     "text": [
      "Python is Powerful\n"
     ]
    }
   ],
   "source": [
    "print(\"python is powerful\".replace(\"p\",\"P\"))"
   ]
  }
 ],
 "metadata": {
  "anaconda-cloud": {},
  "kernelspec": {
   "display_name": "Python [default]",
   "language": "python",
   "name": "python3"
  },
  "language_info": {
   "codemirror_mode": {
    "name": "ipython",
    "version": 3
   },
   "file_extension": ".py",
   "mimetype": "text/x-python",
   "name": "python",
   "nbconvert_exporter": "python",
   "pygments_lexer": "ipython3",
   "version": "3.5.2"
  }
 },
 "nbformat": 4,
 "nbformat_minor": 1
}
