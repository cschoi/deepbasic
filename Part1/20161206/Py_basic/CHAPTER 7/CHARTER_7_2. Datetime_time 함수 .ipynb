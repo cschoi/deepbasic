{
 "cells": [
  {
   "cell_type": "markdown",
   "metadata": {},
   "source": [
    "## 7.2 날짜 \n",
    "- https://docs.python.org/3/library/datetime.html\n",
    "- http://blog.naver.com/dudwo567890/130165166038\n",
    "- http://blog.naver.com/dudwo567890/130164764324"
   ]
  },
  {
   "cell_type": "markdown",
   "metadata": {},
   "source": [
    "## 시간(time) 모듈\n",
    "- Python의 time 모듈은 시간을 표시하는 함수\n",
    "- GMT : (Greenwich Mean Time) 런던의 그리니티 천문대의 자오선상에서의 평균 태양시를 기준으로 전세계의 지방 표준시\n",
    "- UTC : (Universal Time Coordinated) 국제사회가 사용하는 과학적 시간의 표준시.\n",
    " - GMT는 평균 태양시이므로 지구의 자전 주기가 점차 느려짐으로 인해 지속적으로 오차가 발생하여 보정하기 위함 UTC를 지정하게 됨.\n",
    "- KST : (Korean Standard Time) 한국 표준시이며 GMT + 9:00로 표준시간보다 9시간 빠른 시간을 뜻함."
   ]
  },
  {
   "cell_type": "code",
   "execution_count": 1,
   "metadata": {
    "collapsed": false,
    "scrolled": true
   },
   "outputs": [
    {
     "name": "stdout",
     "output_type": "stream",
     "text": [
      "1480985236.0444238\n",
      "time.struct_time(tm_year=2016, tm_mon=12, tm_mday=6, tm_hour=0, tm_min=47, tm_sec=16, tm_wday=1, tm_yday=341, tm_isdst=0)\n",
      "-------------------------------------------------------------------------------\n",
      "Tue Dec  6 09:47:16 2016\n",
      "time.struct_time(tm_year=2016, tm_mon=12, tm_mday=6, tm_hour=9, tm_min=47, tm_sec=16, tm_wday=1, tm_yday=341, tm_isdst=0)\n",
      "-------------------------------------------------------------------------------\n",
      "Tue Dec  6 00:47:16 2016\n",
      "year-mon-day hour:min:sec :2016-12-6 :0:47:16\n",
      "-------------------------------------------------------------------------------\n",
      "year-mon-day hour:min:sec :2016-12-6 :9:47:16\n",
      "Tue Dec  6 09:47:16 2016\n"
     ]
    }
   ],
   "source": [
    "import time\n",
    "\n",
    "print(time.time())           #time()을 호출하여 반환된 숫자는 1970년 1월 1일 00시 00분 00초 이후 지금까지의 초를 나타낸다\n",
    "print(time.gmtime())         #UTC 기준의 현재시간\n",
    "print(\"-------------------------------------------------------------------------------\")\n",
    "print(time.asctime())        #매개변수 없이 asctime을 호출하면 localtime의 현재 날짜와 시간을 리턴해줌. \n",
    "print(time.localtime())      #시스템 기준의 현재시간\n",
    "print(\"-------------------------------------------------------------------------------\")\n",
    "t = time.gmtime(time.time()) #매개변수를 입력하면 해당 날짜의 시간을 리턴해줌.\n",
    "print(time.asctime(t))\n",
    "print(\"year-mon-day hour:min:sec :{0}-{1}-{2} :{3}:{4}:{5}\".format(t.tm_year, t.tm_mon, t.tm_mday, t.tm_hour, t.tm_min, t.tm_sec))\n",
    "print(\"-------------------------------------------------------------------------------\")\n",
    "l_t = time.localtime(time.time())\n",
    "print(\"year-mon-day hour:min:sec :{0}-{1}-{2} :{3}:{4}:{5}\".format(l_t.tm_year, l_t.tm_mon, l_t.tm_mday, l_t.tm_hour, l_t.tm_min, l_t.tm_sec))\n",
    "print(time.asctime(l_t))"
   ]
  },
  {
   "cell_type": "code",
   "execution_count": 2,
   "metadata": {
    "collapsed": false,
    "scrolled": false
   },
   "outputs": [
    {
     "name": "stdout",
     "output_type": "stream",
     "text": [
      "December 06 Tuesday 09:49\n",
      "2016-12-06 09:49:02\n"
     ]
    }
   ],
   "source": [
    "from time import localtime, strftime\n",
    "print(strftime(\"%B %d %A %I:%M\", localtime()))\n",
    "print(strftime(\"%Y-%m-%d %H:%M:%S\", localtime()))"
   ]
  },
  {
   "cell_type": "code",
   "execution_count": 5,
   "metadata": {
    "collapsed": false
   },
   "outputs": [],
   "source": [
    "?strftime() ## 함수의 도움말 확인."
   ]
  },
  {
   "cell_type": "code",
   "execution_count": 4,
   "metadata": {
    "collapsed": false
   },
   "outputs": [
    {
     "name": "stdout",
     "output_type": "stream",
     "text": [
      "Help on built-in function strftime in module time:\n",
      "\n",
      "strftime(...)\n",
      "    strftime(format[, tuple]) -> string\n",
      "    \n",
      "    Convert a time tuple to a string according to a format specification.\n",
      "    See the library reference manual for formatting codes. When the time tuple\n",
      "    is not present, current time as returned by localtime() is used.\n",
      "    \n",
      "    Commonly used format codes:\n",
      "    \n",
      "    %Y  Year with century as a decimal number.\n",
      "    %m  Month as a decimal number [01,12].\n",
      "    %d  Day of the month as a decimal number [01,31].\n",
      "    %H  Hour (24-hour clock) as a decimal number [00,23].\n",
      "    %M  Minute as a decimal number [00,59].\n",
      "    %S  Second as a decimal number [00,61].\n",
      "    %z  Time zone offset from UTC.\n",
      "    %a  Locale's abbreviated weekday name.\n",
      "    %A  Locale's full weekday name.\n",
      "    %b  Locale's abbreviated month name.\n",
      "    %B  Locale's full month name.\n",
      "    %c  Locale's appropriate date and time representation.\n",
      "    %I  Hour (12-hour clock) as a decimal number [01,12].\n",
      "    %p  Locale's equivalent of either AM or PM.\n",
      "    \n",
      "    Other codes may be available on your platform.  See documentation for\n",
      "    the C library strftime function.\n",
      "\n"
     ]
    }
   ],
   "source": [
    "help(time.strftime)"
   ]
  },
  {
   "cell_type": "markdown",
   "metadata": {},
   "source": [
    "## 날짜시간(datetime)모듈\n",
    "- 날짜, 시간을 조작하는 기능을 제공"
   ]
  },
  {
   "cell_type": "code",
   "execution_count": 6,
   "metadata": {
    "collapsed": false,
    "scrolled": true
   },
   "outputs": [
    {
     "name": "stdout",
     "output_type": "stream",
     "text": [
      "2016-11-24\n",
      "2016-12-06\n",
      "2016-12-06\n",
      "year-month-day : 2016-12-6\n"
     ]
    }
   ],
   "source": [
    "import datetime\n",
    "import time\n",
    "\n",
    "print(datetime.date(2016,11,24))\n",
    "print(datetime.date.fromtimestamp(time.time()))\n",
    "print(datetime.date.today())                        # 오늘 날짜의 date 객체 생성\n",
    "\n",
    "d = datetime.date.today()                           # 오늘 날짜을 원한는 포맷으로 출력해줌.\n",
    "print(\"year-month-day : {0}-{1}-{2}\".format(d.year, d.month, d.day))"
   ]
  },
  {
   "cell_type": "code",
   "execution_count": 15,
   "metadata": {
    "collapsed": false,
    "scrolled": false
   },
   "outputs": [
    {
     "name": "stdout",
     "output_type": "stream",
     "text": [
      "time.struct_time(tm_year=2016, tm_mon=12, tm_mday=6, tm_hour=0, tm_min=0, tm_sec=0, tm_wday=1, tm_yday=341, tm_isdst=-1)\n",
      "year-month-day : 2016-12-6\n",
      "736304\n",
      "2016-12-06\n",
      "1\n",
      "2016-12-06\n",
      "2016-12-06\n"
     ]
    }
   ],
   "source": [
    "import datetime\n",
    "d = datetime.date.today() \n",
    "print(d.timetuple())\n",
    "print(\"year-month-day : {0}-{1}-{2}\".format(d.timetuple().tm_year, d.timetuple().tm_mon, d.timetuple().tm_mday))\n",
    "print(d.toordinal()) # 01.01.01 이후로 누적 날짜 반환\n",
    "print(datetime.date.fromordinal(736304))\n",
    "print(d.weekday())\n",
    "print(d.isoformat()) #\"YYYY-MM-DD\"형태의 문자열로 반환\n",
    "print(d.strftime(\"%Y-%m-%d\"))"
   ]
  },
  {
   "cell_type": "code",
   "execution_count": 17,
   "metadata": {
    "collapsed": false
   },
   "outputs": [
    {
     "name": "stdout",
     "output_type": "stream",
     "text": [
      "Help on built-in function weekday:\n",
      "\n",
      "weekday(...) method of datetime.date instance\n",
      "    Return the day of the week represented by the date.\n",
      "    Monday == 0 ... Sunday == 6\n",
      "\n"
     ]
    }
   ],
   "source": [
    "help(d.weekday)   # help 함수를 이용하의 함수 정보 확인."
   ]
  },
  {
   "cell_type": "code",
   "execution_count": 18,
   "metadata": {
    "collapsed": false,
    "scrolled": true
   },
   "outputs": [
    {
     "name": "stdout",
     "output_type": "stream",
     "text": [
      "2016-12-06 10:16:29.095700\n",
      "2016-12-06 10:16:29.095699\n",
      "2016-12-06 01:16:29.095699\n",
      "2016-12-06 10:16:29.095700\n",
      "2016-12-06 01:16:29.095700\n",
      "2016-12-06 00:00:00\n"
     ]
    }
   ],
   "source": [
    "from datetime import datetime, date\n",
    "import time\n",
    "\n",
    "# datetime의 함수의 날짜,시간 정보\n",
    "print(datetime.today())\n",
    "print(datetime.now())\n",
    "print(datetime.utcnow())                      #UTC 기준으로 한국 시간 보다 -9 \n",
    "print(datetime.fromtimestamp(time.time()))\n",
    "print(datetime.utcfromtimestamp(time.time())) #UTC 기준으로 한국 시간 보다 -9 \n",
    "print(datetime.fromordinal(datetime.today().toordinal()))"
   ]
  },
  {
   "cell_type": "markdown",
   "metadata": {},
   "source": [
    "## 시간, 날짜의 연산을 위해서 timedelta 클래스를 사용함."
   ]
  },
  {
   "cell_type": "markdown",
   "metadata": {
    "collapsed": true
   },
   "source": [
    "- timedelta(days=-3) # 3일 이전\n",
    "- timedelta(days=3)  # 3일 후\n",
    "- timedelta(hours=3) # 3시간 이후\n",
    "- timedelta(weeks=1, days=3, hours=-3, minutes=30, milliseconds=10, microseconds=400)"
   ]
  },
  {
   "cell_type": "code",
   "execution_count": 19,
   "metadata": {
    "collapsed": false,
    "scrolled": false
   },
   "outputs": [
    {
     "name": "stdout",
     "output_type": "stream",
     "text": [
      "-3 days, 0:00:00\n",
      "2016-12-06 10:16:40.469870\n",
      "2016-12-09 10:16:40.469870\n"
     ]
    }
   ],
   "source": [
    "from datetime import timedelta\n",
    "d3 = timedelta(days=-3)       # 날찌, 시간 연간을 위한 timedelta 함수       \n",
    "today = datetime.today()\n",
    "print(d3)\n",
    "print(today)\n",
    "catDay = today - d3\n",
    "print(catDay)"
   ]
  },
  {
   "cell_type": "code",
   "execution_count": 20,
   "metadata": {
    "collapsed": false,
    "scrolled": true
   },
   "outputs": [
    {
     "name": "stdout",
     "output_type": "stream",
     "text": [
      "2016-12-06 07:16:46.553814\n"
     ]
    }
   ],
   "source": [
    "from datetime import timedelta\n",
    "day = datetime.today() + timedelta(hours=-3)   # 날짜 연산을 위해서 timedelta()함수를 이용한다.\n",
    "print(day)"
   ]
  }
 ],
 "metadata": {
  "anaconda-cloud": {},
  "kernelspec": {
   "display_name": "Python [default]",
   "language": "python",
   "name": "python3"
  },
  "language_info": {
   "codemirror_mode": {
    "name": "ipython",
    "version": 3
   },
   "file_extension": ".py",
   "mimetype": "text/x-python",
   "name": "python",
   "nbconvert_exporter": "python",
   "pygments_lexer": "ipython3",
   "version": "3.5.2"
  }
 },
 "nbformat": 4,
 "nbformat_minor": 1
}
