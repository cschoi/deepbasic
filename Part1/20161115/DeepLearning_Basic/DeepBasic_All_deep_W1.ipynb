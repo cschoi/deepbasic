{
 "cells": [
  {
   "cell_type": "markdown",
   "metadata": {},
   "source": [
    "##  2.  Linear regression"
   ]
  },
  {
   "cell_type": "markdown",
   "metadata": {},
   "source": [
    "### 1)  Tensorflow를 이용한 간단한 Linear regression 구현"
   ]
  },
  {
   "cell_type": "code",
   "execution_count": 10,
   "metadata": {
    "collapsed": true
   },
   "outputs": [],
   "source": [
    "import tensorflow as tf\n",
    "\n",
    "x_data = [1., 2., 3.]\n",
    "y_data = [1., 2., 3.]\n",
    "\n",
    "#  초기 변수값 설정\n",
    "W = tf.Variable(tf.random_uniform([1], -1.0, 1.0)) # -1에서 1사이의 값중에 랜덤하게 하나 선택\n",
    "b = tf.Variable(tf.random_uniform([1], -1.0, 1.0))\n",
    "\n",
    "# 가설\n",
    "hypothesis = W * x_data + b\n",
    "\n",
    "# Cost function\n",
    "cost = tf.reduce_mean(tf.square(hypothesis - y_data))\n",
    "\n",
    "# Gradient descent algorithms\n",
    "alpha = tf.Variable(0.1)\n",
    "optimizer = tf.train.GradientDescentOptimizer(alpha)\n",
    "train = optimizer.minimize(cost)\n",
    "\n",
    "# 모든 변수 초기화\n",
    "init = tf.initialize_all_variables()"
   ]
  },
  {
   "cell_type": "code",
   "execution_count": 6,
   "metadata": {
    "collapsed": false
   },
   "outputs": [
    {
     "name": "stdout",
     "output_type": "stream",
     "text": [
      "0 0.20327 [ 0.60144109] [ 1.10915995]\n",
      "20 0.0627794 [ 0.7089923] [ 0.66152883]\n",
      "40 0.0237197 [ 0.82112449] [ 0.40662611]\n",
      "60 0.00896195 [ 0.89004946] [ 0.24994342]\n",
      "80 0.00338607 [ 0.93241602] [ 0.15363432]\n",
      "100 0.00127935 [ 0.95845771] [ 0.09443537]\n",
      "120 0.000483371 [ 0.97446495] [ 0.05804722]\n",
      "140 0.00018263 [ 0.98430425] [ 0.03568025]\n",
      "160 6.90025e-05 [ 0.99035215] [ 0.02193181]\n",
      "180 2.60715e-05 [ 0.99406976] [ 0.01348099]\n",
      "200 9.85037e-06 [ 0.99635476] [ 0.00828643]\n",
      "220 3.72163e-06 [ 0.9977594] [ 0.00509349]\n",
      "240 1.40616e-06 [ 0.99862278] [ 0.00313083]\n",
      "260 5.31271e-07 [ 0.99915349] [ 0.00192443]\n",
      "280 2.00783e-07 [ 0.99947965] [ 0.0011829]\n",
      "300 7.58031e-08 [ 0.99968016] [ 0.00072709]\n",
      "320 2.86477e-08 [ 0.99980336] [ 0.00044695]\n",
      "340 1.08376e-08 [ 0.99987906] [ 0.00027476]\n",
      "360 4.09102e-09 [ 0.99992567] [ 0.00016894]\n",
      "380 1.5454e-09 [ 0.99995434] [ 0.00010383]\n",
      "400 5.82626e-10 [ 0.99997193] [  6.38073398e-05]\n",
      "420 2.21178e-10 [ 0.99998277] [  3.92184338e-05]\n",
      "440 8.38488e-11 [ 0.99998939] [  2.40947502e-05]\n",
      "460 3.10602e-11 [ 0.9999935] [  1.47646369e-05]\n",
      "480 1.19608e-11 [ 0.99999607] [  9.09821938e-06]\n",
      "500 4.58537e-12 [ 0.99999756] [  5.57757312e-06]\n",
      "520 1.76215e-12 [ 0.99999851] [  3.42385897e-06]\n",
      "540 5.68434e-13 [ 0.99999911] [  2.13639896e-06]\n",
      "560 3.41061e-13 [ 0.9999994] [  1.30988167e-06]\n",
      "580 9.4739e-14 [ 0.99999964] [  8.33044908e-07]\n",
      "600 6.15804e-14 [ 0.9999997] [  6.58204783e-07]\n",
      "620 3.78956e-14 [ 0.99999976] [  4.91311823e-07]\n",
      "640 2.36848e-14 [ 0.99999988] [  2.29051295e-07]\n",
      "660 4.73695e-15 [ 1.] [  1.01894635e-07]\n",
      "680 0.0 [ 1.] [  5.42109220e-08]\n",
      "700 0.0 [ 1.] [  5.42109220e-08]\n",
      "720 0.0 [ 1.] [  5.42109220e-08]\n",
      "740 0.0 [ 1.] [  5.42109220e-08]\n",
      "760 0.0 [ 1.] [  5.42109220e-08]\n",
      "780 0.0 [ 1.] [  5.42109220e-08]\n",
      "800 0.0 [ 1.] [  5.42109220e-08]\n",
      "820 0.0 [ 1.] [  5.42109220e-08]\n",
      "840 0.0 [ 1.] [  5.42109220e-08]\n",
      "860 0.0 [ 1.] [  5.42109220e-08]\n",
      "880 0.0 [ 1.] [  5.42109220e-08]\n",
      "900 0.0 [ 1.] [  5.42109220e-08]\n",
      "920 0.0 [ 1.] [  5.42109220e-08]\n",
      "940 0.0 [ 1.] [  5.42109220e-08]\n",
      "960 0.0 [ 1.] [  5.42109220e-08]\n",
      "980 0.0 [ 1.] [  5.42109220e-08]\n",
      "1000 0.0 [ 1.] [  5.42109220e-08]\n",
      "1020 0.0 [ 1.] [  5.42109220e-08]\n",
      "1040 0.0 [ 1.] [  5.42109220e-08]\n",
      "1060 0.0 [ 1.] [  5.42109220e-08]\n",
      "1080 0.0 [ 1.] [  5.42109220e-08]\n",
      "1100 0.0 [ 1.] [  5.42109220e-08]\n",
      "1120 0.0 [ 1.] [  5.42109220e-08]\n",
      "1140 0.0 [ 1.] [  5.42109220e-08]\n",
      "1160 0.0 [ 1.] [  5.42109220e-08]\n",
      "1180 0.0 [ 1.] [  5.42109220e-08]\n",
      "1200 0.0 [ 1.] [  5.42109220e-08]\n",
      "1220 0.0 [ 1.] [  5.42109220e-08]\n",
      "1240 0.0 [ 1.] [  5.42109220e-08]\n",
      "1260 0.0 [ 1.] [  5.42109220e-08]\n",
      "1280 0.0 [ 1.] [  5.42109220e-08]\n",
      "1300 0.0 [ 1.] [  5.42109220e-08]\n",
      "1320 0.0 [ 1.] [  5.42109220e-08]\n",
      "1340 0.0 [ 1.] [  5.42109220e-08]\n",
      "1360 0.0 [ 1.] [  5.42109220e-08]\n",
      "1380 0.0 [ 1.] [  5.42109220e-08]\n",
      "1400 0.0 [ 1.] [  5.42109220e-08]\n",
      "1420 0.0 [ 1.] [  5.42109220e-08]\n",
      "1440 0.0 [ 1.] [  5.42109220e-08]\n",
      "1460 0.0 [ 1.] [  5.42109220e-08]\n",
      "1480 0.0 [ 1.] [  5.42109220e-08]\n",
      "1500 0.0 [ 1.] [  5.42109220e-08]\n",
      "1520 0.0 [ 1.] [  5.42109220e-08]\n",
      "1540 0.0 [ 1.] [  5.42109220e-08]\n",
      "1560 0.0 [ 1.] [  5.42109220e-08]\n",
      "1580 0.0 [ 1.] [  5.42109220e-08]\n",
      "1600 0.0 [ 1.] [  5.42109220e-08]\n",
      "1620 0.0 [ 1.] [  5.42109220e-08]\n",
      "1640 0.0 [ 1.] [  5.42109220e-08]\n",
      "1660 0.0 [ 1.] [  5.42109220e-08]\n",
      "1680 0.0 [ 1.] [  5.42109220e-08]\n",
      "1700 0.0 [ 1.] [  5.42109220e-08]\n",
      "1720 0.0 [ 1.] [  5.42109220e-08]\n",
      "1740 0.0 [ 1.] [  5.42109220e-08]\n",
      "1760 0.0 [ 1.] [  5.42109220e-08]\n",
      "1780 0.0 [ 1.] [  5.42109220e-08]\n",
      "1800 0.0 [ 1.] [  5.42109220e-08]\n",
      "1820 0.0 [ 1.] [  5.42109220e-08]\n",
      "1840 0.0 [ 1.] [  5.42109220e-08]\n",
      "1860 0.0 [ 1.] [  5.42109220e-08]\n",
      "1880 0.0 [ 1.] [  5.42109220e-08]\n",
      "1900 0.0 [ 1.] [  5.42109220e-08]\n",
      "1920 0.0 [ 1.] [  5.42109220e-08]\n",
      "1940 0.0 [ 1.] [  5.42109220e-08]\n",
      "1960 0.0 [ 1.] [  5.42109220e-08]\n",
      "1980 0.0 [ 1.] [  5.42109220e-08]\n",
      "2000 0.0 [ 1.] [  5.42109220e-08]\n"
     ]
    }
   ],
   "source": [
    "sess = tf.Session()\n",
    "sess.run(init)\n",
    "\n",
    "for step in xrange(2001):\n",
    "    sess.run(train)\n",
    "    if step % 20 == 0:\n",
    "        print step, sess.run(cost), sess.run(W), sess.run(b)"
   ]
  },
  {
   "cell_type": "markdown",
   "metadata": {},
   "source": [
    "### 2)  Tensorflow의 placeholder를 이용한 간단한 Linear regression 구현"
   ]
  },
  {
   "cell_type": "code",
   "execution_count": 7,
   "metadata": {
    "collapsed": true
   },
   "outputs": [],
   "source": [
    "import tensorflow as tf\n",
    "\n",
    "x_data = [1., 2., 3.]\n",
    "y_data = [1., 2., 3.]\n",
    "\n",
    "#  초기 변수값 설정\n",
    "W = tf.Variable(tf.random_uniform([1], -1.0, 1.0)) # -1에서 1사이의 값중에 랜덤하게 하나 선택\n",
    "b = tf.Variable(tf.random_uniform([1], -1.0, 1.0))\n",
    "\n",
    "##### placeholder  지정######\n",
    "X = tf.placeholder(tf.float32)\n",
    "Y = tf.placeholder(tf.float32)\n",
    "\n",
    "# 가설\n",
    "hypothesis = W * X + b                                          # X 는 언제 정해질까?\n",
    "\n",
    "# Cost function\n",
    "cost = tf.reduce_mean(tf.square(hypothesis - Y))  #  Y는 언제 정해질까?\n",
    "\n",
    "# Gradient descent algorithms\n",
    "alpha = tf.Variable(0.1)\n",
    "optimizer = tf.train.GradientDescentOptimizer(alpha)\n",
    "train = optimizer.minimize(cost)\n",
    "\n",
    "# 모든 변수 초기화\n",
    "init = tf.initialize_all_variables()"
   ]
  },
  {
   "cell_type": "code",
   "execution_count": 8,
   "metadata": {
    "collapsed": false
   },
   "outputs": [
    {
     "name": "stdout",
     "output_type": "stream",
     "text": [
      "0 0.0716888 [ 1.15015316] [-0.06227669]\n",
      "20 0.000626626 [ 1.02907372] [-0.06609142]\n",
      "40 0.000236756 [ 1.0178709] [-0.04062482]\n",
      "60 8.94524e-05 [ 1.01098478] [-0.0249711]\n",
      "80 3.37982e-05 [ 1.00675213] [-0.01534913]\n",
      "100 1.27701e-05 [ 1.00415039] [-0.00943481]\n",
      "120 4.8248e-06 [ 1.00255108] [-0.00579933]\n",
      "140 1.82277e-06 [ 1.0015682] [-0.00356473]\n",
      "160 6.88774e-07 [ 1.00096393] [-0.00219124]\n",
      "180 2.60225e-07 [ 1.00059247] [-0.00134695]\n",
      "200 9.83625e-08 [ 1.0003643] [-0.000828]\n",
      "220 3.71516e-08 [ 1.00022388] [-0.00050894]\n",
      "240 1.40386e-08 [ 1.00013769] [-0.00031286]\n",
      "260 5.31004e-09 [ 1.00008464] [-0.00019226]\n",
      "280 2.00257e-09 [ 1.00005198] [-0.0001181]\n",
      "300 7.55734e-10 [ 1.00003195] [ -7.25271675e-05]\n",
      "320 2.8659e-10 [ 1.00001967] [ -4.45884798e-05]\n",
      "340 1.08481e-10 [ 1.00001204] [ -2.74342601e-05]\n",
      "360 4.07994e-11 [ 1.00000751] [ -1.69438408e-05]\n",
      "380 1.524e-11 [ 1.00000465] [ -1.04151468e-05]\n",
      "400 5.63816e-12 [ 1.00000274] [ -6.38189931e-06]\n",
      "420 2.25953e-12 [ 1.00000179] [ -3.92221455e-06]\n",
      "440 1.02792e-12 [ 1.00000107] [ -2.47978210e-06]\n",
      "460 4.07378e-13 [ 1.00000072] [ -1.53405517e-06]\n",
      "480 1.71714e-13 [ 1.00000048] [ -9.93639446e-07]\n",
      "500 6.15804e-14 [ 1.00000036] [ -6.91642526e-07]\n",
      "520 3.78956e-14 [ 1.00000036] [ -6.24090660e-07]\n",
      "540 3.78956e-14 [ 1.00000036] [ -6.24090660e-07]\n",
      "560 3.78956e-14 [ 1.00000036] [ -6.24090660e-07]\n",
      "580 3.78956e-14 [ 1.00000036] [ -6.24090660e-07]\n",
      "600 3.78956e-14 [ 1.00000036] [ -6.24090660e-07]\n",
      "620 3.78956e-14 [ 1.00000036] [ -6.24090660e-07]\n",
      "640 3.78956e-14 [ 1.00000036] [ -6.24090660e-07]\n",
      "660 3.78956e-14 [ 1.00000036] [ -6.24090660e-07]\n",
      "680 3.78956e-14 [ 1.00000036] [ -6.24090660e-07]\n",
      "700 3.78956e-14 [ 1.00000036] [ -6.24090660e-07]\n",
      "720 3.78956e-14 [ 1.00000036] [ -6.24090660e-07]\n",
      "740 3.78956e-14 [ 1.00000036] [ -6.24090660e-07]\n",
      "760 3.78956e-14 [ 1.00000036] [ -6.24090660e-07]\n",
      "780 3.78956e-14 [ 1.00000036] [ -6.24090660e-07]\n",
      "800 3.78956e-14 [ 1.00000036] [ -6.24090660e-07]\n",
      "820 3.78956e-14 [ 1.00000036] [ -6.24090660e-07]\n",
      "840 3.78956e-14 [ 1.00000036] [ -6.24090660e-07]\n",
      "860 3.78956e-14 [ 1.00000036] [ -6.24090660e-07]\n",
      "880 3.78956e-14 [ 1.00000036] [ -6.24090660e-07]\n",
      "900 3.78956e-14 [ 1.00000036] [ -6.24090660e-07]\n",
      "920 3.78956e-14 [ 1.00000036] [ -6.24090660e-07]\n",
      "940 3.78956e-14 [ 1.00000036] [ -6.24090660e-07]\n",
      "960 3.78956e-14 [ 1.00000036] [ -6.24090660e-07]\n",
      "980 3.78956e-14 [ 1.00000036] [ -6.24090660e-07]\n",
      "1000 3.78956e-14 [ 1.00000036] [ -6.24090660e-07]\n",
      "1020 3.78956e-14 [ 1.00000036] [ -6.24090660e-07]\n",
      "1040 3.78956e-14 [ 1.00000036] [ -6.24090660e-07]\n",
      "1060 3.78956e-14 [ 1.00000036] [ -6.24090660e-07]\n",
      "1080 3.78956e-14 [ 1.00000036] [ -6.24090660e-07]\n",
      "1100 3.78956e-14 [ 1.00000036] [ -6.24090660e-07]\n",
      "1120 3.78956e-14 [ 1.00000036] [ -6.24090660e-07]\n",
      "1140 3.78956e-14 [ 1.00000036] [ -6.24090660e-07]\n",
      "1160 3.78956e-14 [ 1.00000036] [ -6.24090660e-07]\n",
      "1180 3.78956e-14 [ 1.00000036] [ -6.24090660e-07]\n",
      "1200 3.78956e-14 [ 1.00000036] [ -6.24090660e-07]\n",
      "1220 3.78956e-14 [ 1.00000036] [ -6.24090660e-07]\n",
      "1240 3.78956e-14 [ 1.00000036] [ -6.24090660e-07]\n",
      "1260 3.78956e-14 [ 1.00000036] [ -6.24090660e-07]\n",
      "1280 3.78956e-14 [ 1.00000036] [ -6.24090660e-07]\n",
      "1300 3.78956e-14 [ 1.00000036] [ -6.24090660e-07]\n",
      "1320 3.78956e-14 [ 1.00000036] [ -6.24090660e-07]\n",
      "1340 3.78956e-14 [ 1.00000036] [ -6.24090660e-07]\n",
      "1360 3.78956e-14 [ 1.00000036] [ -6.24090660e-07]\n",
      "1380 3.78956e-14 [ 1.00000036] [ -6.24090660e-07]\n",
      "1400 3.78956e-14 [ 1.00000036] [ -6.24090660e-07]\n",
      "1420 3.78956e-14 [ 1.00000036] [ -6.24090660e-07]\n",
      "1440 3.78956e-14 [ 1.00000036] [ -6.24090660e-07]\n",
      "1460 3.78956e-14 [ 1.00000036] [ -6.24090660e-07]\n",
      "1480 3.78956e-14 [ 1.00000036] [ -6.24090660e-07]\n",
      "1500 3.78956e-14 [ 1.00000036] [ -6.24090660e-07]\n",
      "1520 3.78956e-14 [ 1.00000036] [ -6.24090660e-07]\n",
      "1540 3.78956e-14 [ 1.00000036] [ -6.24090660e-07]\n",
      "1560 3.78956e-14 [ 1.00000036] [ -6.24090660e-07]\n",
      "1580 3.78956e-14 [ 1.00000036] [ -6.24090660e-07]\n",
      "1600 3.78956e-14 [ 1.00000036] [ -6.24090660e-07]\n",
      "1620 3.78956e-14 [ 1.00000036] [ -6.24090660e-07]\n",
      "1640 3.78956e-14 [ 1.00000036] [ -6.24090660e-07]\n",
      "1660 3.78956e-14 [ 1.00000036] [ -6.24090660e-07]\n",
      "1680 3.78956e-14 [ 1.00000036] [ -6.24090660e-07]\n",
      "1700 3.78956e-14 [ 1.00000036] [ -6.24090660e-07]\n",
      "1720 3.78956e-14 [ 1.00000036] [ -6.24090660e-07]\n",
      "1740 3.78956e-14 [ 1.00000036] [ -6.24090660e-07]\n",
      "1760 3.78956e-14 [ 1.00000036] [ -6.24090660e-07]\n",
      "1780 3.78956e-14 [ 1.00000036] [ -6.24090660e-07]\n",
      "1800 3.78956e-14 [ 1.00000036] [ -6.24090660e-07]\n",
      "1820 3.78956e-14 [ 1.00000036] [ -6.24090660e-07]\n",
      "1840 3.78956e-14 [ 1.00000036] [ -6.24090660e-07]\n",
      "1860 3.78956e-14 [ 1.00000036] [ -6.24090660e-07]\n",
      "1880 3.78956e-14 [ 1.00000036] [ -6.24090660e-07]\n",
      "1900 3.78956e-14 [ 1.00000036] [ -6.24090660e-07]\n",
      "1920 3.78956e-14 [ 1.00000036] [ -6.24090660e-07]\n",
      "1940 3.78956e-14 [ 1.00000036] [ -6.24090660e-07]\n",
      "1960 3.78956e-14 [ 1.00000036] [ -6.24090660e-07]\n",
      "1980 3.78956e-14 [ 1.00000036] [ -6.24090660e-07]\n",
      "2000 3.78956e-14 [ 1.00000036] [ -6.24090660e-07]\n"
     ]
    }
   ],
   "source": [
    "sess = tf.Session()\n",
    "sess.run(init)\n",
    "\n",
    "for step in xrange(2001):\n",
    "    sess.run(train, feed_dict = {X : x_data, Y : y_data})          #  data input\n",
    "    if step % 20 == 0:\n",
    "        print step, sess.run(cost, feed_dict = {X : x_data, Y : y_data}), sess.run(W), sess.run(b)"
   ]
  },
  {
   "cell_type": "markdown",
   "metadata": {},
   "source": [
    "-  placeholder를 이용하였기 때문에 **코드 재활용 및 모델 활용**이 가능해짐"
   ]
  },
  {
   "cell_type": "code",
   "execution_count": 9,
   "metadata": {
    "collapsed": false
   },
   "outputs": [
    {
     "name": "stdout",
     "output_type": "stream",
     "text": [
      "[ 5.00000143]\n",
      "[ 2.50000024]\n"
     ]
    }
   ],
   "source": [
    "print sess.run(hypothesis, feed_dict = {X : 5})\n",
    "print sess.run(hypothesis, feed_dict={X : 2.5})"
   ]
  },
  {
   "cell_type": "markdown",
   "metadata": {},
   "source": [
    "## 3. Minimizing Cost"
   ]
  },
  {
   "cell_type": "markdown",
   "metadata": {},
   "source": [
    "### 1)  Cost function  시각화"
   ]
  },
  {
   "cell_type": "code",
   "execution_count": 11,
   "metadata": {
    "collapsed": true
   },
   "outputs": [],
   "source": [
    "import tensorflow as tf\n",
    "\n",
    "X = [1., 2., 3.]\n",
    "Y = [1., 2., 3.]\n",
    "m = n_samples = len(x_data)\n",
    "\n",
    "#  초기 변수값 설정\n",
    "W = tf.placeholder(tf.float32)\n",
    "\n",
    "# 가설\n",
    "hypothesis = tf.mul(X, W)\n",
    "\n",
    "# Cost function\n",
    "cost = tf.reduce_sum(tf.pow(hypothesis - Y, 2)) / (m)\n",
    "\n",
    "\n",
    "# 모든 변수 초기화\n",
    "init = tf.initialize_all_variables()\n",
    "\n",
    "# For graphs\n",
    "W_val = []\n",
    "cost_val = []"
   ]
  },
  {
   "cell_type": "code",
   "execution_count": 12,
   "metadata": {
    "collapsed": false
   },
   "outputs": [
    {
     "name": "stdout",
     "output_type": "stream",
     "text": [
      "-3.0 74.6667\n",
      "-2.9 70.98\n",
      "-2.8 67.3867\n",
      "-2.7 63.8867\n",
      "-2.6 60.48\n",
      "-2.5 57.1667\n",
      "-2.4 53.9467\n",
      "-2.3 50.82\n",
      "-2.2 47.7867\n",
      "-2.1 44.8467\n",
      "-2.0 42.0\n",
      "-1.9 39.2467\n",
      "-1.8 36.5867\n",
      "-1.7 34.02\n",
      "-1.6 31.5467\n",
      "-1.5 29.1667\n",
      "-1.4 26.88\n",
      "-1.3 24.6867\n",
      "-1.2 22.5867\n",
      "-1.1 20.58\n",
      "-1.0 18.6667\n",
      "-0.9 16.8467\n",
      "-0.8 15.12\n",
      "-0.7 13.4867\n",
      "-0.6 11.9467\n",
      "-0.5 10.5\n",
      "-0.4 9.14667\n",
      "-0.3 7.88667\n",
      "-0.2 6.72\n",
      "-0.1 5.64667\n",
      "0.0 4.66667\n",
      "0.1 3.78\n",
      "0.2 2.98667\n",
      "0.3 2.28667\n",
      "0.4 1.68\n",
      "0.5 1.16667\n",
      "0.6 0.746667\n",
      "0.7 0.42\n",
      "0.8 0.186667\n",
      "0.9 0.0466667\n",
      "1.0 0.0\n",
      "1.1 0.0466667\n",
      "1.2 0.186667\n",
      "1.3 0.42\n",
      "1.4 0.746666\n",
      "1.5 1.16667\n",
      "1.6 1.68\n",
      "1.7 2.28667\n",
      "1.8 2.98667\n",
      "1.9 3.78\n",
      "2.0 4.66667\n",
      "2.1 5.64667\n",
      "2.2 6.72\n",
      "2.3 7.88667\n",
      "2.4 9.14667\n",
      "2.5 10.5\n",
      "2.6 11.9467\n",
      "2.7 13.4867\n",
      "2.8 15.12\n",
      "2.9 16.8467\n",
      "3.0 18.6667\n",
      "3.1 20.58\n",
      "3.2 22.5867\n",
      "3.3 24.6867\n",
      "3.4 26.88\n",
      "3.5 29.1667\n",
      "3.6 31.5467\n",
      "3.7 34.02\n",
      "3.8 36.5867\n",
      "3.9 39.2467\n",
      "4.0 42.0\n",
      "4.1 44.8467\n",
      "4.2 47.7867\n",
      "4.3 50.82\n",
      "4.4 53.9467\n",
      "4.5 57.1667\n",
      "4.6 60.48\n",
      "4.7 63.8867\n",
      "4.8 67.3867\n",
      "4.9 70.98\n"
     ]
    }
   ],
   "source": [
    "sess = tf.Session()\n",
    "sess.run(init)\n",
    "for i in range(-30, 50):\n",
    "    print i*0.1, sess.run(cost, feed_dict={W : i*0.1})\n",
    "    W_val.append(i*0.1)\n",
    "    cost_val.append(sess.run(cost, feed_dict={W: i*0.1}))"
   ]
  },
  {
   "cell_type": "code",
   "execution_count": 13,
   "metadata": {
    "collapsed": false
   },
   "outputs": [
    {
     "name": "stderr",
     "output_type": "stream",
     "text": [
      "/usr/local/lib/python2.7/dist-packages/matplotlib/font_manager.py:273: UserWarning: Matplotlib is building the font cache using fc-list. This may take a moment.\n",
      "  warnings.warn('Matplotlib is building the font cache using fc-list. This may take a moment.')\n"
     ]
    },
    {
     "data": {
      "image/png": "[encoded data removed]",
      "text/plain": [
       "<matplotlib.figure.Figure at 0x7fc50f127f90>"
      ]
     },
     "metadata": {},
     "output_type": "display_data"
    }
   ],
   "source": [
    "import matplotlib.pyplot as plt\n",
    "%matplotlib inline\n",
    "plt.plot(W_val, cost_val, 'ro')\n",
    "plt.ylabel('Cost')\n",
    "plt.xlabel('W')\n",
    "plt.show()"
   ]
  },
  {
   "cell_type": "markdown",
   "metadata": {},
   "source": [
    "### 2)  Tensorflow를 이용한 GDS 알고리즘  직접 구현 "
   ]
  },
  {
   "cell_type": "code",
   "execution_count": 15,
   "metadata": {
    "collapsed": false
   },
   "outputs": [],
   "source": [
    "import tensorflow as tf\n",
    "\n",
    "x_data = [1., 2., 3.]\n",
    "y_data = [1., 2., 3.]\n",
    "\n",
    "W = tf.Variable(tf.random_uniform([1], -10.0, 10.0))\n",
    "\n",
    "X = tf.placeholder(tf.float32)\n",
    "Y = tf.placeholder(tf.float32)\n",
    "\n",
    "hypothesis = W*X \n",
    "\n",
    "cost = tf.reduce_mean(tf.square(hypothesis - Y))\n",
    "\n",
    "descent = W - tf.mul(0.1, tf.reduce_mean(tf.mul((tf.mul(W, X) - Y), X)))\n",
    "update = W.assign(descent)\n",
    "\n",
    "init = tf.initialize_all_variables()"
   ]
  },
  {
   "cell_type": "code",
   "execution_count": 16,
   "metadata": {
    "collapsed": false
   },
   "outputs": [
    {
     "name": "stdout",
     "output_type": "stream",
     "text": [
      "0 82.474 [ 5.20392609]\n",
      "1 23.4593 [ 3.2420938]\n",
      "2 6.67286 [ 2.19578338]\n",
      "3 1.89806 [ 1.6377511]\n",
      "4 0.539892 [ 1.34013391]\n",
      "5 0.153569 [ 1.18140471]\n",
      "6 0.0436819 [ 1.09674919]\n",
      "7 0.0124251 [ 1.05159962]\n",
      "8 0.00353426 [ 1.02751982]\n",
      "9 0.00100531 [ 1.01467729]\n",
      "10 0.000285955 [ 1.00782788]\n",
      "11 8.13372e-05 [ 1.00417483]\n",
      "12 2.3136e-05 [ 1.00222659]\n",
      "13 6.58143e-06 [ 1.00118756]\n",
      "14 1.87215e-06 [ 1.00063336]\n",
      "15 5.32631e-07 [ 1.00033784]\n",
      "16 1.51368e-07 [ 1.00018013]\n",
      "17 4.30821e-08 [ 1.00009608]\n",
      "18 1.22621e-08 [ 1.00005126]\n",
      "19 3.48426e-09 [ 1.0000273]\n"
     ]
    }
   ],
   "source": [
    "sess = tf.Session()\n",
    "sess.run(init)\n",
    "\n",
    "for step in xrange(20):\n",
    "    sess.run(update, feed_dict={X : x_data, Y : y_data})\n",
    "    print step, sess.run(cost, feed_dict={X : x_data, Y : y_data}), sess.run(W)"
   ]
  },
  {
   "cell_type": "code",
   "execution_count": null,
   "metadata": {
    "collapsed": true
   },
   "outputs": [],
   "source": []
  }
 ],
 "metadata": {
  "kernelspec": {
   "display_name": "Python 2",
   "language": "python",
   "name": "python2"
  },
  "language_info": {
   "codemirror_mode": {
    "name": "ipython",
    "version": 2
   },
   "file_extension": ".py",
   "mimetype": "text/x-python",
   "name": "python",
   "nbconvert_exporter": "python",
   "pygments_lexer": "ipython2",
   "version": "2.7.6"
  }
 },
 "nbformat": 4,
 "nbformat_minor": 0
}
